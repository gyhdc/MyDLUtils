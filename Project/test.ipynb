{
 "cells": [
  {
   "cell_type": "code",
   "execution_count": 1,
   "metadata": {},
   "outputs": [
    {
     "name": "stdout",
     "output_type": "stream",
     "text": [
      "1.25.2\n",
      "2.0.0+cu118\n",
      "0.15.1+cu118\n"
     ]
    },
    {
     "data": {
      "text/plain": [
       "True"
      ]
     },
     "execution_count": 1,
     "metadata": {},
     "output_type": "execute_result"
    }
   ],
   "source": [
    "import torch\n",
    "import torchvision\n",
    "import numpy\n",
    "print(numpy.__version__)\n",
    "print(torch.__version__)\n",
    "print(torchvision.__version__)\n",
    "torch.cuda.is_available()\n"
   ]
  },
  {
   "cell_type": "code",
   "execution_count": 1,
   "metadata": {},
   "outputs": [
    {
     "name": "stdout",
     "output_type": "stream",
     "text": [
      "2.0.1+cu117\n",
      "True\n",
      "NVIDIA GeForce RTX 3060 Laptop GPU\n"
     ]
    }
   ],
   "source": [
    "# 检查 PyTorch 和 CUDA 的版本\n",
    "import torch\n",
    "print(torch.__version__)\n",
    "print(torch.cuda.is_available())\n",
    "print(torch.cuda.get_device_name(0))\n"
   ]
  },
  {
   "cell_type": "code",
   "execution_count": null,
   "metadata": {},
   "outputs": [
    {
     "data": {
      "text/plain": [
       "<module 'torchvision' (namespace)>"
      ]
     },
     "execution_count": 11,
     "metadata": {},
     "output_type": "execute_result"
    }
   ],
   "source": [
    "torchvisionpip"
   ]
  },
  {
   "cell_type": "code",
   "execution_count": 9,
   "metadata": {},
   "outputs": [
    {
     "ename": "AttributeError",
     "evalue": "module 'torchvision' has no attribute 'ops'",
     "output_type": "error",
     "traceback": [
      "\u001b[1;31m---------------------------------------------------------------------------\u001b[0m",
      "\u001b[1;31mAttributeError\u001b[0m                            Traceback (most recent call last)",
      "Cell \u001b[1;32mIn[9], line 3\u001b[0m\n\u001b[0;32m      1\u001b[0m boxes \u001b[38;5;241m=\u001b[39m torch\u001b[38;5;241m.\u001b[39mrand(\u001b[38;5;241m5\u001b[39m, \u001b[38;5;241m4\u001b[39m) \u001b[38;5;241m*\u001b[39m \u001b[38;5;241m100\u001b[39m\n\u001b[0;32m      2\u001b[0m scores \u001b[38;5;241m=\u001b[39m torch\u001b[38;5;241m.\u001b[39mrand(\u001b[38;5;241m5\u001b[39m)\n\u001b[1;32m----> 3\u001b[0m keep \u001b[38;5;241m=\u001b[39m \u001b[43mtorchvision\u001b[49m\u001b[38;5;241;43m.\u001b[39;49m\u001b[43mops\u001b[49m\u001b[38;5;241m.\u001b[39mnms(boxes, scores, \u001b[38;5;241m0.24\u001b[39m)\n",
      "\u001b[1;31mAttributeError\u001b[0m: module 'torchvision' has no attribute 'ops'"
     ]
    }
   ],
   "source": [
    "\n",
    "boxes = torch.rand(5, 4) * 100\n",
    "scores = torch.rand(5)\n",
    "keep = torchvision.ops.nms(boxes, scores, 0.24)\n"
   ]
  },
  {
   "cell_type": "code",
   "execution_count": 1,
   "metadata": {},
   "outputs": [],
   "source": [
    "from torch.utils.tensorboard import SummaryWriter\n",
    "\n",
    "class TensorboardRecorder:\n",
    "    def __init__(self, log_dir=None):\n",
    "        \"\"\"\n",
    "        如果 log_dir 为 None，则使用默认日志路径 runs/。\n",
    "        \"\"\"\n",
    "        self.writer = SummaryWriter(log_dir=log_dir)\n",
    "    \n",
    "    def log_scalars(self, scalars: dict, epoch: int, prefix: str = \"\"):\n",
    "        \"\"\"\n",
    "        scalars: dict, 例如 {\"Loss/Train\": loss, \"Metrics/Accuracy\": acc, ...}\n",
    "        prefix: 如果需要可以为所有指标添加前缀\n",
    "        \"\"\"\n",
    "        for key, value in scalars.items():\n",
    "            self.writer.add_scalar(f\"{prefix}{key}\", value, epoch)\n",
    "    \n",
    "    def log_model_graph(self, model, input_example):\n",
    "        \"\"\"\n",
    "        记录模型结构图，需要提供一个 input_example 用于构建图。\n",
    "        \"\"\"\n",
    "        self.writer.add_graph(model, input_example)\n",
    "    \n",
    "    def log_histograms(self, model, epoch: int):\n",
    "        \"\"\"\n",
    "        对模型所有参数添加直方图记录，便于观察参数分布变化。\n",
    "        \"\"\"\n",
    "        for name, param in model.named_parameters():\n",
    "            self.writer.add_histogram(name, param, epoch)\n",
    "    \n",
    "    def log_text(self, tag: str, text: str, epoch: int):\n",
    "        \"\"\"\n",
    "        添加文本记录，比如保存模型结构、超参数信息等。\n",
    "        \"\"\"\n",
    "        self.writer.add_text(tag, text, epoch)\n",
    "    \n",
    "    def close(self):\n",
    "        self.writer.close()"
   ]
  },
  {
   "cell_type": "code",
   "execution_count": 2,
   "metadata": {},
   "outputs": [],
   "source": [
    "from utils import metrics,utils\n",
    "\n",
    "logs_path=r'save_weights\\BinaryClassificationMobileNetV3Large-acc=0.74336-loss=1.671334-max_epochs=40-1100'\n",
    "Model,config,logs=utils.loadProcess(logs_path)\n",
    "recoder=metrics.TensorboardRecorder(\n",
    "    log_dir=\"runs/\"\n",
    ")\n",
    "recoder.logs_scalars(\n",
    "    logs.logs,\n",
    "    prefix=\"train\"\n",
    ")"
   ]
  },
  {
   "cell_type": "code",
   "execution_count": null,
   "metadata": {},
   "outputs": [],
   "source": [
    "\n",
    "saveDir=r'save_weights'\n",
    "saveDir=os.path.join(saveDir,f'{bestMod.model.__class__.__name__}-acc={round(bestMod.acc,5)}-loss={round(bestMod.loss,6)}-max_epochs={config.epochs}-1100')\n",
    "utils.saveProcess(\n",
    "    saveDir=saveDir,\n",
    "    bestMod=bestMod,\n",
    "    train_log=train_logs,\n",
    "    config=config\n",
    ")"
   ]
  }
 ],
 "metadata": {
  "kernelspec": {
   "display_name": "mmdetection",
   "language": "python",
   "name": "python3"
  },
  "language_info": {
   "codemirror_mode": {
    "name": "ipython",
    "version": 3
   },
   "file_extension": ".py",
   "mimetype": "text/x-python",
   "name": "python",
   "nbconvert_exporter": "python",
   "pygments_lexer": "ipython3",
   "version": "3.9.21"
  }
 },
 "nbformat": 4,
 "nbformat_minor": 2
}
