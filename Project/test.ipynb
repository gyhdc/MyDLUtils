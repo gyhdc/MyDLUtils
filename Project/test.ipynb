{
 "cells": [
  {
   "cell_type": "code",
   "execution_count": 1,
   "metadata": {},
   "outputs": [],
   "source": [
    "from torch.utils.tensorboard import SummaryWriter\n",
    "\n",
    "class TensorboardRecorder:\n",
    "    def __init__(self, log_dir=None):\n",
    "        \"\"\"\n",
    "        如果 log_dir 为 None，则使用默认日志路径 runs/。\n",
    "        \"\"\"\n",
    "        self.writer = SummaryWriter(log_dir=log_dir)\n",
    "    \n",
    "    def log_scalars(self, scalars: dict, epoch: int, prefix: str = \"\"):\n",
    "        \"\"\"\n",
    "        scalars: dict, 例如 {\"Loss/Train\": loss, \"Metrics/Accuracy\": acc, ...}\n",
    "        prefix: 如果需要可以为所有指标添加前缀\n",
    "        \"\"\"\n",
    "        for key, value in scalars.items():\n",
    "            self.writer.add_scalar(f\"{prefix}{key}\", value, epoch)\n",
    "    \n",
    "    def log_model_graph(self, model, input_example):\n",
    "        \"\"\"\n",
    "        记录模型结构图，需要提供一个 input_example 用于构建图。\n",
    "        \"\"\"\n",
    "        self.writer.add_graph(model, input_example)\n",
    "    \n",
    "    def log_histograms(self, model, epoch: int):\n",
    "        \"\"\"\n",
    "        对模型所有参数添加直方图记录，便于观察参数分布变化。\n",
    "        \"\"\"\n",
    "        for name, param in model.named_parameters():\n",
    "            self.writer.add_histogram(name, param, epoch)\n",
    "    \n",
    "    def log_text(self, tag: str, text: str, epoch: int):\n",
    "        \"\"\"\n",
    "        添加文本记录，比如保存模型结构、超参数信息等。\n",
    "        \"\"\"\n",
    "        self.writer.add_text(tag, text, epoch)\n",
    "    \n",
    "    def close(self):\n",
    "        self.writer.close()"
   ]
  },
  {
   "cell_type": "code",
   "execution_count": 2,
   "metadata": {},
   "outputs": [],
   "source": [
    "from utils import metrics,utils\n",
    "\n",
    "logs_path=r'save_weights\\BinaryClassificationMobileNetV3Large-acc=0.74336-loss=1.671334-max_epochs=40-1100'\n",
    "Model,config,logs=utils.loadProcess(logs_path)\n",
    "recoder=metrics.TensorboardRecorder(\n",
    "    log_dir=\"runs/\"\n",
    ")\n",
    "recoder.logs_scalars(\n",
    "    logs.logs,\n",
    "    prefix=\"train\"\n",
    ")"
   ]
  },
  {
   "cell_type": "code",
   "execution_count": null,
   "metadata": {},
   "outputs": [],
   "source": [
    "\n",
    "saveDir=r'save_weights'\n",
    "saveDir=os.path.join(saveDir,f'{bestMod.model.__class__.__name__}-acc={round(bestMod.acc,5)}-loss={round(bestMod.loss,6)}-max_epochs={config.epochs}-1100')\n",
    "utils.saveProcess(\n",
    "    saveDir=saveDir,\n",
    "    bestMod=bestMod,\n",
    "    train_log=train_logs,\n",
    "    config=config\n",
    ")"
   ]
  }
 ],
 "metadata": {
  "kernelspec": {
   "display_name": "sound",
   "language": "python",
   "name": "python3"
  },
  "language_info": {
   "codemirror_mode": {
    "name": "ipython",
    "version": 3
   },
   "file_extension": ".py",
   "mimetype": "text/x-python",
   "name": "python",
   "nbconvert_exporter": "python",
   "pygments_lexer": "ipython3",
   "version": "3.9.17"
  }
 },
 "nbformat": 4,
 "nbformat_minor": 2
}
