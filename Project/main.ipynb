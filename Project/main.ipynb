{
 "cells": [
  {
   "cell_type": "code",
   "execution_count": 5,
   "metadata": {},
   "outputs": [],
   "source": [
    "import os\n",
    "from PIL import Image\n",
    "import torch\n",
    "import torchvision\n",
    "from torch.utils.data import DataLoader, Dataset\n",
    "import torch.nn as nn\n",
    "import torchvision.transforms as transforms\n",
    "import torchvision.models as models\n",
    "import torch.optim as optim\n",
    "from utils import datasets\n",
    "from utils import utils\n",
    "from utils import train_val\n",
    "from utils import net #网络文件于此\n",
    "from utils import metrics\n",
    "import warnings\n",
    "\n",
    "# 完全禁用警告\n",
    "warnings.filterwarnings(\"ignore\")"
   ]
  },
  {
   "cell_type": "code",
   "execution_count": 6,
   "metadata": {},
   "outputs": [
    {
     "name": "stdout",
     "output_type": "stream",
     "text": [
      "dataset_sep : [0.82, 0.17, 0.01] \n",
      "resize_size : 128 \n",
      "batch_size : 128 \n",
      "lr : 0.001 \n",
      "epochs : 50 \n",
      "hidden_size : 256 \n",
      "optim : Adam \n",
      "momentum : 0.9 \n",
      "weight_decay : 0.0001 \n",
      "seed : 42 \n",
      "mean : [0.50638, 0.49962538, 0.45205265] \n",
      "std : [0.23568255, 0.24141274, 0.25167742] \n",
      "source_dir : Cifar-10 \n",
      "data_path : data\\Cifar-10 \n",
      "device : cuda \n"
     ]
    }
   ],
   "source": [
    "from utils.utils import Config,Logs,BestSelector\n",
    "config=utils.Config(\n",
    "    dataset_sep=[\n",
    "        0.82,0.17,0.01          \n",
    "        ],\n",
    "    resize_size=128,\n",
    "    batch_size=128,\n",
    "    lr=0.001,\n",
    "    epochs=50,\n",
    "    hidden_size=256,\n",
    "    optim=\"Adam\",\n",
    "    momentum=0.9,\n",
    "    weight_decay=1e-4,\n",
    "    seed=42,\n",
    "    mean= [0.50638 ,0.49962538 ,0.45205265],\n",
    "    std=[0.23568255 ,0.24141274 ,0.25167742],\n",
    "    source_dir=r\"Cifar-10\",#原始数据集，每个分类一个文件夹，每个文件夹里包含多个图片\n",
    "    data_path=r\"data\\Cifar-10\",#项目数据集\n",
    "    # classes=[\"Apple\",\"Carambola\",\"Pear\",\"Plum\",\"Tomatoes\"],\n",
    "    device=\"cuda\" if torch.cuda.is_available() else \"cpu\",\n",
    ")\n",
    "print(config)"
   ]
  },
  {
   "cell_type": "code",
   "execution_count": 7,
   "metadata": {},
   "outputs": [
    {
     "name": "stdout",
     "output_type": "stream",
     "text": [
      "data\\Cifar-10 数据集已存在，无需重新划分\n"
     ]
    }
   ],
   "source": [
    "from tqdm import tqdm\n",
    "\n",
    "#设置随机数种子\n",
    "torch.manual_seed(config.seed)\n",
    "\n",
    "isSplit= (not datasets.check_data_exist(config.data_path))#数据集不存在，则从原始数据存放处，转移数据集\n",
    "if isSplit:\n",
    "    print(f\"{config.data_path} 数据集不存在，将从source_dir:{config.source_dir}中获取数据\")\n",
    "    print(f\"清理源文件夹:{config.data_path}\")\n",
    "    datasets.clear_folder(config.data_path)\n",
    "    for dir in tqdm(config.classes,desc=\"处理原始数据：\"):\n",
    "        source_dir=os.path.join(config.source_dir, dir)\n",
    "        print(source_dir)\n",
    "        datasets.split_data(source_dir,target_dir=config.data_path,label=dir,sep=config.dataset_sep)\n",
    "else:\n",
    "    print(f\"{config.data_path} 数据集已存在，无需重新划分\")\n",
    "\n"
   ]
  },
  {
   "cell_type": "code",
   "execution_count": 8,
   "metadata": {},
   "outputs": [
    {
     "data": {
      "text/plain": [
       "'\\ndef get_data_path(typ,path=config.data_path):\\n    return os.path.join(path,typ)\\n\\ntrain_dataset=datasets.CustomImageDataset(\\n    get_data_path(\"train\"),\\n    classes=config.classes,\\n    transform=datasets.get_transform(\\n        resize_size=config.resize_size,\\n        mean=config.mean,std=config.std\\n        )\\n)\\n\\nval_dataset=datasets.CustomImageDataset(\\n    get_data_path(\"val\"),\\n    classes=config.classes,\\n    transform=datasets.get_transform(\\n        \"val\",\\n        config.resize_size,\\n        \\n        mean=config.mean,\\n        std=config.std\\n        )\\n)\\n'"
      ]
     },
     "execution_count": 8,
     "metadata": {},
     "output_type": "execute_result"
    }
   ],
   "source": [
    "'''\n",
    "def get_data_path(typ,path=config.data_path):\n",
    "    return os.path.join(path,typ)\n",
    "\n",
    "train_dataset=datasets.CustomImageDataset(\n",
    "    get_data_path(\"train\"),\n",
    "    classes=config.classes,\n",
    "    transform=datasets.get_transform(\n",
    "        resize_size=config.resize_size,\n",
    "        mean=config.mean,std=config.std\n",
    "        )\n",
    ")\n",
    "\n",
    "val_dataset=datasets.CustomImageDataset(\n",
    "    get_data_path(\"val\"),\n",
    "    classes=config.classes,\n",
    "    transform=datasets.get_transform(\n",
    "        \"val\",\n",
    "        config.resize_size,\n",
    "        \n",
    "        mean=config.mean,\n",
    "        std=config.std\n",
    "        )\n",
    ")\n",
    "'''\n"
   ]
  },
  {
   "cell_type": "markdown",
   "metadata": {},
   "source": [
    "#### 加载数据集，可本地数据集。调用datasets.CustomImageDataset"
   ]
  },
  {
   "cell_type": "code",
   "execution_count": 9,
   "metadata": {},
   "outputs": [
    {
     "name": "stdout",
     "output_type": "stream",
     "text": [
      "Files already downloaded and verified\n",
      "Files already downloaded and verified\n",
      "原始训练集大小：37500\n",
      "原始验证集大小：12500\n",
      "原始测试集大小：10000\n"
     ]
    }
   ],
   "source": [
    "#加载cifar-10\n",
    "import torchvision\n",
    "train_val_dataset = torchvision.datasets.CIFAR10(\n",
    "    root='./data/Cifar-10', \n",
    "    train=True, \n",
    "    download=True, \n",
    "    transform=datasets.get_transform(\n",
    "        chance=\"train\",\n",
    "        resize_size=config.resize_size,\n",
    "        mean=(0.5, 0.5, 0.5), \n",
    "        std=(0.5, 0.5, 0.5)\n",
    "    )\n",
    ")\n",
    "train_dataset,val_dataset=datasets.get_parts_of_datasets(train_val_dataset,rate=0.75,only_train=False)#训练验证3-1开\n",
    "\n",
    "test_dataset = torchvision.datasets.CIFAR10(root='./data/Cifar-10', train=False, download=True, transform=datasets.get_transform(\n",
    "    chance=\"val\",\n",
    "    resize_size=config.resize_size,\n",
    "    mean=(0.5, 0.5, 0.5), \n",
    "    std=(0.5, 0.5, 0.5)\n",
    "))\n",
    "print(f\"原始训练集大小：{len(train_dataset)}\")\n",
    "print(f\"原始验证集大小：{len(val_dataset)}\")\n",
    "print(f\"原始测试集大小：{len(test_dataset)}\")"
   ]
  },
  {
   "cell_type": "markdown",
   "metadata": {},
   "source": [
    "#### load数据集，并根据数据量进行裁剪"
   ]
  },
  {
   "cell_type": "code",
   "execution_count": 10,
   "metadata": {},
   "outputs": [
    {
     "name": "stdout",
     "output_type": "stream",
     "text": [
      "本次训练用训练集大小：7500\n",
      "本次训练用验证集大小：2500\n",
      "本次测试用测试集大小：2000\n",
      "tarin_dataloader加载完毕, 58个batch, batch大小为128\n",
      "val_dataloader  加载完毕, 20个batch, batch大小为128\n",
      "test_dataloader 加载完毕, 16个batch, batch大小为128\n"
     ]
    }
   ],
   "source": [
    "crop_rate=0.20\n",
    "train_dataset_crop=datasets.get_parts_of_datasets(train_dataset,crop_rate)\n",
    "val_dataset_crop=datasets.get_parts_of_datasets(val_dataset,crop_rate)\n",
    "test_dataset_crop=datasets.get_parts_of_datasets(test_dataset,crop_rate)\n",
    "train_dataset_size=len(train_dataset_crop)\n",
    "val_dataset_size=len(val_dataset_crop)\n",
    "test_dataset_size=len(test_dataset_crop)\n",
    "\n",
    "print(f\"本次训练用训练集大小：{len(train_dataset_crop)}\")\n",
    "print(f\"本次训练用验证集大小：{len(val_dataset_crop)}\")\n",
    "print(f\"本次测试用测试集大小：{len(test_dataset_crop)}\")\n",
    "\n",
    "train_loader=DataLoader(train_dataset_crop,batch_size=config.batch_size,shuffle=True,drop_last=True)\n",
    "val_loader=DataLoader(val_dataset_crop,batch_size=config.batch_size,shuffle=False)\n",
    "test_loader=DataLoader(test_dataset_crop,batch_size=config.batch_size,shuffle=False)\n",
    "\n",
    "print(f\"tarin_dataloader加载完毕, {len(train_loader)}个batch, batch大小为{config.batch_size}\")\n",
    "print(f\"val_dataloader  加载完毕, {len(val_loader)}个batch, batch大小为{config.batch_size}\")\n",
    "print(f\"test_dataloader 加载完毕, {len(test_loader)}个batch, batch大小为{config.batch_size}\")\n"
   ]
  },
  {
   "cell_type": "markdown",
   "metadata": {},
   "source": [
    "#### 记录本次训练和测试用的数据量，还有数据样本信息"
   ]
  },
  {
   "cell_type": "code",
   "execution_count": 11,
   "metadata": {},
   "outputs": [
    {
     "name": "stdout",
     "output_type": "stream",
     "text": [
      "torch.Size([128, 3, 128, 128])\n",
      "torch.Size([128])\n"
     ]
    },
    {
     "data": {
      "text/plain": [
       "dataset_sep : [0.82, 0.17, 0.01] \n",
       "resize_size : 128 \n",
       "batch_size : 128 \n",
       "lr : 0.001 \n",
       "epochs : 50 \n",
       "hidden_size : 256 \n",
       "optim : Adam \n",
       "momentum : 0.9 \n",
       "weight_decay : 0.0001 \n",
       "seed : 42 \n",
       "mean : [0.50638, 0.49962538, 0.45205265] \n",
       "std : [0.23568255, 0.24141274, 0.25167742] \n",
       "source_dir : Cifar-10 \n",
       "data_path : data\\Cifar-10 \n",
       "device : cuda \n",
       "inputs_shape : torch.Size([128, 3, 128, 128]) \n",
       "train_datasize : 7500 \n",
       "val_datasetsize : 2500 \n",
       "test_datasetsize : 2000 \n",
       "datasets_crop_rate : 0.2 \n",
       "classes : ['airplane', 'automobile', 'bird', 'cat', 'deer', 'dog', 'frog', 'horse', 'ship', 'truck'] "
      ]
     },
     "execution_count": 11,
     "metadata": {},
     "output_type": "execute_result"
    }
   ],
   "source": [
    "#查看数据加载情况\n",
    "for inputs, labels in train_loader:\n",
    "    inputs=inputs.to(config.device)\n",
    "    labels=labels.to(config.device)\n",
    "    print(inputs.shape)\n",
    "    print(labels.shape)\n",
    "    config.update(\n",
    "        inputs_shape=inputs.shape\n",
    "        )\n",
    "    break\n",
    "config.update(\n",
    "    train_datasize=train_dataset_size,\n",
    "    val_datasetsize=val_dataset_size,\n",
    "    test_datasetsize=test_dataset_size,\n",
    "    datasets_crop_rate=crop_rate,\n",
    "    classes=train_val_dataset.classes,#原始数据集保留classes\n",
    ")\n",
    "config"
   ]
  },
  {
   "cell_type": "markdown",
   "metadata": {},
   "source": [
    "#### 加载预训练模型"
   ]
  },
  {
   "cell_type": "code",
   "execution_count": 14,
   "metadata": {},
   "outputs": [
    {
     "name": "stderr",
     "output_type": "stream",
     "text": [
      "Warm up ....: 100%|██████████| 100/100 [00:06<00:00, 15.10it/s]\n",
      "Testing ...: 100%|██████████| 300/300 [00:07<00:00, 39.10it/s]"
     ]
    },
    {
     "name": "stdout",
     "output_type": "stream",
     "text": [
      "inference_time:0.025151519298553467 ms\n",
      "parameters_num:11186890\n"
     ]
    },
    {
     "name": "stderr",
     "output_type": "stream",
     "text": [
      "\n"
     ]
    }
   ],
   "source": [
    "\n",
    "def get_pretrained(hidden_size=config.hidden_size,config=config):\n",
    "    '''\n",
    "        获取预训练模型\n",
    "        @param hidden_size: 隐藏层大小\n",
    "        @param config: 配置文件\n",
    "        @return: 预训练模型\n",
    "    '''\n",
    "    # model=net.BinaryClassificationMobileNetV3Large(out_size=len(config.classes))\n",
    "    # model=net.AutoCNN(\n",
    "    #     input_channels=config.inputs_shape[1],\n",
    "    #     input_size=config.inputs_shape[2:],\n",
    "    #     num_classes=len(config.classes),\n",
    "    #     mlp_hidden_size=256\n",
    "    # )\n",
    "    model=net.ResNet(\n",
    "        num_classes=len(config.classes),\n",
    "        input_channels=config.inputs_shape[1],\n",
    "    )#最后全局池化层压下了尺寸，不需要提供输入尺寸\n",
    "    return model.to(config.device)\n",
    "test_model=get_pretrained()\n",
    "measurer=metrics.ModelMeasurer(test_model)\n",
    "inference_time=measurer.get_inference_time(input_shape=config.inputs_shape)\n",
    "parameters_num=measurer.get_parameters_num()\n",
    "print(f\"inference_time:{inference_time} ms\")\n",
    "print(f\"parameters_num:{parameters_num}\")\n",
    "config.update(\n",
    "    network=test_model.__class__.__name__,\n",
    "    inference_time=inference_time,\n",
    "    parameters_num=parameters_num,\n",
    ")\n",
    "config"
   ]
  },
  {
   "cell_type": "code",
   "execution_count": 15,
   "metadata": {},
   "outputs": [
    {
     "name": "stderr",
     "output_type": "stream",
     "text": [
      "Training Epochs:   2%|▏         | 1/50 [00:13<11:16, 13.81s/it]"
     ]
    },
    {
     "name": "stdout",
     "output_type": "stream",
     "text": [
      "Epoch 1/50, Loss: 2.0565,  Val Accuracy: 0.2612, AP: 0.1576, Precision: 0.2772, Recall: 0.2599\n",
      "当前最好的模型： acc : 0.2612 ,loss : 2.0565410605792342 ,precision : 0.27717257261493883 ,recall : 0.2599353337231548 ,ap : 0.1576015914003698 ,epoch : 0 \n"
     ]
    },
    {
     "name": "stderr",
     "output_type": "stream",
     "text": [
      "Training Epochs:   4%|▍         | 2/50 [00:27<10:51, 13.58s/it]"
     ]
    },
    {
     "name": "stdout",
     "output_type": "stream",
     "text": [
      "Epoch 2/50, Loss: 1.8400,  Val Accuracy: 0.3304, AP: 0.1213, Precision: 0.3317, Recall: 0.3272\n",
      "当前最好的模型： acc : 0.3304 ,loss : 1.8399577038041477 ,precision : 0.3316724213806654 ,recall : 0.32720794462850233 ,ap : 0.12133480875741828 ,epoch : 1 \n"
     ]
    },
    {
     "name": "stderr",
     "output_type": "stream",
     "text": [
      "Training Epochs:   6%|▌         | 3/50 [00:40<10:36, 13.54s/it]"
     ]
    },
    {
     "name": "stdout",
     "output_type": "stream",
     "text": [
      "Epoch 3/50, Loss: 1.7349,  Val Accuracy: 0.3060, AP: 0.1205, Precision: 0.3366, Recall: 0.3035\n",
      "当前最好的模型： acc : 0.3304 ,loss : 1.8399577038041477 ,precision : 0.3316724213806654 ,recall : 0.32720794462850233 ,ap : 0.12133480875741828 ,epoch : 1 \n"
     ]
    },
    {
     "name": "stderr",
     "output_type": "stream",
     "text": [
      "Training Epochs:   8%|▊         | 4/50 [00:54<10:27, 13.63s/it]"
     ]
    },
    {
     "name": "stdout",
     "output_type": "stream",
     "text": [
      "Epoch 4/50, Loss: 1.6755,  Val Accuracy: 0.3584, AP: 0.0932, Precision: 0.3849, Recall: 0.3596\n",
      "当前最好的模型： acc : 0.3584 ,loss : 1.6754881862936348 ,precision : 0.3849191873140264 ,recall : 0.35963040040288535 ,ap : 0.09317269869298728 ,epoch : 3 \n"
     ]
    },
    {
     "name": "stderr",
     "output_type": "stream",
     "text": [
      "Training Epochs:  10%|█         | 5/50 [01:07<10:11, 13.59s/it]"
     ]
    },
    {
     "name": "stdout",
     "output_type": "stream",
     "text": [
      "Epoch 5/50, Loss: 1.6263,  Val Accuracy: 0.3952, AP: 0.1390, Precision: 0.4027, Recall: 0.3953\n",
      "当前最好的模型： acc : 0.3952 ,loss : 1.6263345808818424 ,precision : 0.4026911892533057 ,recall : 0.3952851723364962 ,ap : 0.1389978010605591 ,epoch : 4 \n"
     ]
    },
    {
     "name": "stderr",
     "output_type": "stream",
     "text": [
      "Training Epochs:  12%|█▏        | 6/50 [01:21<09:55, 13.54s/it]"
     ]
    },
    {
     "name": "stdout",
     "output_type": "stream",
     "text": [
      "Epoch 6/50, Loss: 1.5534,  Val Accuracy: 0.3908, AP: 0.1179, Precision: 0.4467, Recall: 0.3903\n",
      "当前最好的模型： acc : 0.3952 ,loss : 1.6263345808818424 ,precision : 0.4026911892533057 ,recall : 0.3952851723364962 ,ap : 0.1389978010605591 ,epoch : 4 \n"
     ]
    },
    {
     "name": "stderr",
     "output_type": "stream",
     "text": [
      "Training Epochs:  14%|█▍        | 7/50 [01:35<09:44, 13.59s/it]"
     ]
    },
    {
     "name": "stdout",
     "output_type": "stream",
     "text": [
      "Epoch 7/50, Loss: 1.5064,  Val Accuracy: 0.4012, AP: 0.1082, Precision: 0.4618, Recall: 0.3979\n",
      "当前最好的模型： acc : 0.4012 ,loss : 1.5064133364578773 ,precision : 0.46175939791722176 ,recall : 0.39789971795794 ,ap : 0.10823480676866008 ,epoch : 6 \n"
     ]
    },
    {
     "name": "stderr",
     "output_type": "stream",
     "text": [
      "Training Epochs:  16%|█▌        | 8/50 [01:48<09:22, 13.39s/it]"
     ]
    },
    {
     "name": "stdout",
     "output_type": "stream",
     "text": [
      "Epoch 8/50, Loss: 1.4558,  Val Accuracy: 0.4508, AP: 0.1093, Precision: 0.4711, Recall: 0.4502\n",
      "当前最好的模型： acc : 0.4508 ,loss : 1.4558133133526505 ,precision : 0.47107337011403494 ,recall : 0.45020905861037963 ,ap : 0.10932369216991766 ,epoch : 7 \n"
     ]
    },
    {
     "name": "stderr",
     "output_type": "stream",
     "text": [
      "Training Epochs:  18%|█▊        | 9/50 [02:00<09:02, 13.23s/it]"
     ]
    },
    {
     "name": "stdout",
     "output_type": "stream",
     "text": [
      "Epoch 9/50, Loss: 1.4048,  Val Accuracy: 0.4020, AP: 0.1047, Precision: 0.4502, Recall: 0.4004\n",
      "当前最好的模型： acc : 0.4508 ,loss : 1.4558133133526505 ,precision : 0.47107337011403494 ,recall : 0.45020905861037963 ,ap : 0.10932369216991766 ,epoch : 7 \n"
     ]
    },
    {
     "name": "stderr",
     "output_type": "stream",
     "text": [
      "Training Epochs:  20%|██        | 10/50 [02:13<08:45, 13.13s/it]"
     ]
    },
    {
     "name": "stdout",
     "output_type": "stream",
     "text": [
      "Epoch 10/50, Loss: 1.3756,  Val Accuracy: 0.4584, AP: 0.0821, Precision: 0.5059, Recall: 0.4573\n",
      "当前最好的模型： acc : 0.4584 ,loss : 1.3756490493642872 ,precision : 0.5059418888638271 ,recall : 0.4573080331950467 ,ap : 0.0820621369020903 ,epoch : 9 \n"
     ]
    },
    {
     "name": "stderr",
     "output_type": "stream",
     "text": [
      "Training Epochs:  22%|██▏       | 11/50 [02:26<08:28, 13.04s/it]"
     ]
    },
    {
     "name": "stdout",
     "output_type": "stream",
     "text": [
      "Epoch 11/50, Loss: 1.3114,  Val Accuracy: 0.4752, AP: 0.1143, Precision: 0.4983, Recall: 0.4734\n",
      "当前最好的模型： acc : 0.4752 ,loss : 1.311374925333878 ,precision : 0.4983107407881354 ,recall : 0.4734164334681651 ,ap : 0.11431136113183604 ,epoch : 10 \n"
     ]
    },
    {
     "name": "stderr",
     "output_type": "stream",
     "text": [
      "Training Epochs:  24%|██▍       | 12/50 [02:39<08:13, 12.99s/it]"
     ]
    },
    {
     "name": "stdout",
     "output_type": "stream",
     "text": [
      "Epoch 12/50, Loss: 1.2752,  Val Accuracy: 0.4228, AP: 0.1311, Precision: 0.5281, Recall: 0.4191\n",
      "当前最好的模型： acc : 0.4752 ,loss : 1.311374925333878 ,precision : 0.4983107407881354 ,recall : 0.4734164334681651 ,ap : 0.11431136113183604 ,epoch : 10 \n"
     ]
    },
    {
     "name": "stderr",
     "output_type": "stream",
     "text": [
      "Training Epochs:  26%|██▌       | 13/50 [02:52<07:59, 12.95s/it]"
     ]
    },
    {
     "name": "stdout",
     "output_type": "stream",
     "text": [
      "Epoch 13/50, Loss: 1.2354,  Val Accuracy: 0.4496, AP: 0.1266, Precision: 0.5276, Recall: 0.4477\n",
      "当前最好的模型： acc : 0.4752 ,loss : 1.311374925333878 ,precision : 0.4983107407881354 ,recall : 0.4734164334681651 ,ap : 0.11431136113183604 ,epoch : 10 \n"
     ]
    },
    {
     "name": "stderr",
     "output_type": "stream",
     "text": [
      "Training Epochs:  28%|██▊       | 14/50 [03:05<07:47, 13.00s/it]"
     ]
    },
    {
     "name": "stdout",
     "output_type": "stream",
     "text": [
      "Epoch 14/50, Loss: 1.1898,  Val Accuracy: 0.4920, AP: 0.1053, Precision: 0.5453, Recall: 0.4940\n",
      "当前最好的模型： acc : 0.492 ,loss : 1.1898224713473484 ,precision : 0.5453297769747398 ,recall : 0.494025727304798 ,ap : 0.10526130303034267 ,epoch : 13 \n"
     ]
    },
    {
     "name": "stderr",
     "output_type": "stream",
     "text": [
      "Training Epochs:  30%|███       | 15/50 [03:18<07:37, 13.07s/it]"
     ]
    },
    {
     "name": "stdout",
     "output_type": "stream",
     "text": [
      "Epoch 15/50, Loss: 1.1703,  Val Accuracy: 0.4840, AP: 0.1171, Precision: 0.5621, Recall: 0.4845\n",
      "当前最好的模型： acc : 0.492 ,loss : 1.1898224713473484 ,precision : 0.5453297769747398 ,recall : 0.494025727304798 ,ap : 0.10526130303034267 ,epoch : 13 \n"
     ]
    },
    {
     "name": "stderr",
     "output_type": "stream",
     "text": [
      "Training Epochs:  32%|███▏      | 16/50 [03:33<07:43, 13.63s/it]"
     ]
    },
    {
     "name": "stdout",
     "output_type": "stream",
     "text": [
      "Epoch 16/50, Loss: 1.1096,  Val Accuracy: 0.5032, AP: 0.1089, Precision: 0.5822, Recall: 0.5033\n",
      "当前最好的模型： acc : 0.5032 ,loss : 1.1095634061714699 ,precision : 0.5821752896686819 ,recall : 0.5033184192134856 ,ap : 0.10889618099621512 ,epoch : 15 \n"
     ]
    },
    {
     "name": "stderr",
     "output_type": "stream",
     "text": [
      "Training Epochs:  34%|███▍      | 17/50 [03:46<07:25, 13.49s/it]"
     ]
    },
    {
     "name": "stdout",
     "output_type": "stream",
     "text": [
      "Epoch 17/50, Loss: 1.0888,  Val Accuracy: 0.5548, AP: 0.0934, Precision: 0.5947, Recall: 0.5564\n",
      "当前最好的模型： acc : 0.5548 ,loss : 1.088765558497659 ,precision : 0.5946555086652172 ,recall : 0.5563692667149773 ,ap : 0.09335102779724552 ,epoch : 16 \n"
     ]
    },
    {
     "name": "stderr",
     "output_type": "stream",
     "text": [
      "Training Epochs:  36%|███▌      | 18/50 [03:59<07:06, 13.34s/it]"
     ]
    },
    {
     "name": "stdout",
     "output_type": "stream",
     "text": [
      "Epoch 18/50, Loss: 1.0551,  Val Accuracy: 0.5048, AP: 0.1004, Precision: 0.5767, Recall: 0.5024\n",
      "当前最好的模型： acc : 0.5548 ,loss : 1.088765558497659 ,precision : 0.5946555086652172 ,recall : 0.5563692667149773 ,ap : 0.09335102779724552 ,epoch : 16 \n"
     ]
    },
    {
     "name": "stderr",
     "output_type": "stream",
     "text": [
      "Training Epochs:  38%|███▊      | 19/50 [04:12<06:50, 13.24s/it]"
     ]
    },
    {
     "name": "stdout",
     "output_type": "stream",
     "text": [
      "Epoch 19/50, Loss: 1.0533,  Val Accuracy: 0.5804, AP: 0.1039, Precision: 0.5879, Recall: 0.5796\n",
      "当前最好的模型： acc : 0.5804 ,loss : 1.0532858155924698 ,precision : 0.5879011821461672 ,recall : 0.5796348578670749 ,ap : 0.10390244159294637 ,epoch : 18 \n"
     ]
    },
    {
     "name": "stderr",
     "output_type": "stream",
     "text": [
      "Training Epochs:  40%|████      | 20/50 [04:27<06:48, 13.62s/it]"
     ]
    },
    {
     "name": "stdout",
     "output_type": "stream",
     "text": [
      "Epoch 20/50, Loss: 0.9909,  Val Accuracy: 0.5580, AP: 0.1046, Precision: 0.5915, Recall: 0.5592\n",
      "当前最好的模型： acc : 0.5804 ,loss : 1.0532858155924698 ,precision : 0.5879011821461672 ,recall : 0.5796348578670749 ,ap : 0.10390244159294637 ,epoch : 18 \n"
     ]
    },
    {
     "name": "stderr",
     "output_type": "stream",
     "text": [
      "Training Epochs:  42%|████▏     | 21/50 [04:41<06:40, 13.80s/it]"
     ]
    },
    {
     "name": "stdout",
     "output_type": "stream",
     "text": [
      "Epoch 21/50, Loss: 0.9883,  Val Accuracy: 0.5832, AP: 0.0883, Precision: 0.6152, Recall: 0.5835\n",
      "当前最好的模型： acc : 0.5832 ,loss : 0.9882635566694983 ,precision : 0.6151636773750196 ,recall : 0.5835443287819839 ,ap : 0.08829280287622662 ,epoch : 20 \n"
     ]
    },
    {
     "name": "stderr",
     "output_type": "stream",
     "text": [
      "Training Epochs:  44%|████▍     | 22/50 [04:56<06:32, 14.03s/it]"
     ]
    },
    {
     "name": "stdout",
     "output_type": "stream",
     "text": [
      "Epoch 22/50, Loss: 0.9497,  Val Accuracy: 0.5532, AP: 0.1180, Precision: 0.5892, Recall: 0.5512\n",
      "当前最好的模型： acc : 0.5832 ,loss : 0.9882635566694983 ,precision : 0.6151636773750196 ,recall : 0.5835443287819839 ,ap : 0.08829280287622662 ,epoch : 20 \n"
     ]
    },
    {
     "name": "stderr",
     "output_type": "stream",
     "text": [
      "Training Epochs:  46%|████▌     | 23/50 [05:10<06:17, 13.99s/it]"
     ]
    },
    {
     "name": "stdout",
     "output_type": "stream",
     "text": [
      "Epoch 23/50, Loss: 0.9274,  Val Accuracy: 0.5032, AP: 0.1051, Precision: 0.5672, Recall: 0.5019\n",
      "当前最好的模型： acc : 0.5832 ,loss : 0.9882635566694983 ,precision : 0.6151636773750196 ,recall : 0.5835443287819839 ,ap : 0.08829280287622662 ,epoch : 20 \n"
     ]
    },
    {
     "name": "stderr",
     "output_type": "stream",
     "text": [
      "Training Epochs:  48%|████▊     | 24/50 [05:25<06:11, 14.29s/it]"
     ]
    },
    {
     "name": "stdout",
     "output_type": "stream",
     "text": [
      "Epoch 24/50, Loss: 0.9168,  Val Accuracy: 0.5736, AP: 0.1284, Precision: 0.6075, Recall: 0.5734\n",
      "当前最好的模型： acc : 0.5832 ,loss : 0.9882635566694983 ,precision : 0.6151636773750196 ,recall : 0.5835443287819839 ,ap : 0.08829280287622662 ,epoch : 20 \n"
     ]
    },
    {
     "name": "stderr",
     "output_type": "stream",
     "text": [
      "Training Epochs:  50%|█████     | 25/50 [05:39<05:57, 14.29s/it]"
     ]
    },
    {
     "name": "stdout",
     "output_type": "stream",
     "text": [
      "Epoch 25/50, Loss: 0.8802,  Val Accuracy: 0.6060, AP: 0.0993, Precision: 0.6080, Recall: 0.6036\n",
      "当前最好的模型： acc : 0.606 ,loss : 0.8801784135144333 ,precision : 0.607953797539082 ,recall : 0.6036493579755943 ,ap : 0.09934254348734851 ,epoch : 24 \n"
     ]
    },
    {
     "name": "stderr",
     "output_type": "stream",
     "text": [
      "Training Epochs:  52%|█████▏    | 26/50 [05:53<05:42, 14.26s/it]"
     ]
    },
    {
     "name": "stdout",
     "output_type": "stream",
     "text": [
      "Epoch 26/50, Loss: 0.8718,  Val Accuracy: 0.5924, AP: 0.1114, Precision: 0.6120, Recall: 0.5915\n",
      "当前最好的模型： acc : 0.606 ,loss : 0.8801784135144333 ,precision : 0.607953797539082 ,recall : 0.6036493579755943 ,ap : 0.09934254348734851 ,epoch : 24 \n"
     ]
    },
    {
     "name": "stderr",
     "output_type": "stream",
     "text": [
      "Training Epochs:  54%|█████▍    | 27/50 [06:07<05:27, 14.23s/it]"
     ]
    },
    {
     "name": "stdout",
     "output_type": "stream",
     "text": [
      "Epoch 27/50, Loss: 0.8589,  Val Accuracy: 0.5744, AP: 0.1221, Precision: 0.6295, Recall: 0.5740\n",
      "当前最好的模型： acc : 0.606 ,loss : 0.8801784135144333 ,precision : 0.607953797539082 ,recall : 0.6036493579755943 ,ap : 0.09934254348734851 ,epoch : 24 \n"
     ]
    },
    {
     "name": "stderr",
     "output_type": "stream",
     "text": [
      "Training Epochs:  56%|█████▌    | 28/50 [06:20<05:06, 13.93s/it]"
     ]
    },
    {
     "name": "stdout",
     "output_type": "stream",
     "text": [
      "Epoch 28/50, Loss: 0.8551,  Val Accuracy: 0.5764, AP: 0.1112, Precision: 0.6110, Recall: 0.5757\n",
      "当前最好的模型： acc : 0.606 ,loss : 0.8801784135144333 ,precision : 0.607953797539082 ,recall : 0.6036493579755943 ,ap : 0.09934254348734851 ,epoch : 24 \n"
     ]
    },
    {
     "name": "stderr",
     "output_type": "stream",
     "text": [
      "Training Epochs:  58%|█████▊    | 29/50 [06:34<04:52, 13.94s/it]"
     ]
    },
    {
     "name": "stdout",
     "output_type": "stream",
     "text": [
      "Epoch 29/50, Loss: 0.7959,  Val Accuracy: 0.6188, AP: 0.1077, Precision: 0.6160, Recall: 0.6165\n",
      "当前最好的模型： acc : 0.6188 ,loss : 0.7959111250680069 ,precision : 0.6160084402841572 ,recall : 0.6165192045628463 ,ap : 0.10766679469779418 ,epoch : 28 \n"
     ]
    },
    {
     "name": "stderr",
     "output_type": "stream",
     "text": [
      "Training Epochs:  60%|██████    | 30/50 [06:48<04:35, 13.78s/it]"
     ]
    },
    {
     "name": "stdout",
     "output_type": "stream",
     "text": [
      "Epoch 30/50, Loss: 0.7740,  Val Accuracy: 0.5944, AP: 0.0990, Precision: 0.6389, Recall: 0.5929\n",
      "当前最好的模型： acc : 0.6188 ,loss : 0.7959111250680069 ,precision : 0.6160084402841572 ,recall : 0.6165192045628463 ,ap : 0.10766679469779418 ,epoch : 28 \n"
     ]
    },
    {
     "name": "stderr",
     "output_type": "stream",
     "text": [
      "Training Epochs:  62%|██████▏   | 31/50 [07:02<04:21, 13.79s/it]"
     ]
    },
    {
     "name": "stdout",
     "output_type": "stream",
     "text": [
      "Epoch 31/50, Loss: 0.7540,  Val Accuracy: 0.6084, AP: 0.0955, Precision: 0.6205, Recall: 0.6078\n",
      "当前最好的模型： acc : 0.6188 ,loss : 0.7959111250680069 ,precision : 0.6160084402841572 ,recall : 0.6165192045628463 ,ap : 0.10766679469779418 ,epoch : 28 \n"
     ]
    },
    {
     "name": "stderr",
     "output_type": "stream",
     "text": [
      "Training Epochs:  64%|██████▍   | 32/50 [07:15<04:05, 13.65s/it]"
     ]
    },
    {
     "name": "stdout",
     "output_type": "stream",
     "text": [
      "Epoch 32/50, Loss: 0.7402,  Val Accuracy: 0.6080, AP: 0.1034, Precision: 0.6189, Recall: 0.6087\n",
      "当前最好的模型： acc : 0.6188 ,loss : 0.7959111250680069 ,precision : 0.6160084402841572 ,recall : 0.6165192045628463 ,ap : 0.10766679469779418 ,epoch : 28 \n"
     ]
    },
    {
     "name": "stderr",
     "output_type": "stream",
     "text": [
      "Training Epochs:  66%|██████▌   | 33/50 [07:29<03:52, 13.70s/it]"
     ]
    },
    {
     "name": "stdout",
     "output_type": "stream",
     "text": [
      "Epoch 33/50, Loss: 0.7424,  Val Accuracy: 0.6172, AP: 0.1087, Precision: 0.6458, Recall: 0.6173\n",
      "当前最好的模型： acc : 0.6172 ,loss : 0.742414383025005 ,precision : 0.6458055467152752 ,recall : 0.617342375429381 ,ap : 0.10873818577326705 ,epoch : 32 \n"
     ]
    },
    {
     "name": "stderr",
     "output_type": "stream",
     "text": [
      "Training Epochs:  68%|██████▊   | 34/50 [07:43<03:41, 13.86s/it]"
     ]
    },
    {
     "name": "stdout",
     "output_type": "stream",
     "text": [
      "Epoch 34/50, Loss: 0.7042,  Val Accuracy: 0.6180, AP: 0.1063, Precision: 0.6331, Recall: 0.6162\n",
      "当前最好的模型： acc : 0.618 ,loss : 0.7042014979082962 ,precision : 0.633053508268058 ,recall : 0.6161835397402184 ,ap : 0.10633656865971684 ,epoch : 33 \n"
     ]
    },
    {
     "name": "stderr",
     "output_type": "stream",
     "text": [
      "Training Epochs:  70%|███████   | 35/50 [07:58<03:32, 14.13s/it]"
     ]
    },
    {
     "name": "stdout",
     "output_type": "stream",
     "text": [
      "Epoch 35/50, Loss: 0.6899,  Val Accuracy: 0.6348, AP: 0.0967, Precision: 0.6594, Recall: 0.6351\n",
      "当前最好的模型： acc : 0.6348 ,loss : 0.6898575450839668 ,precision : 0.6594038341165 ,recall : 0.6351357496948646 ,ap : 0.09672261021836533 ,epoch : 34 \n"
     ]
    },
    {
     "name": "stderr",
     "output_type": "stream",
     "text": [
      "Training Epochs:  72%|███████▏  | 36/50 [08:12<03:18, 14.21s/it]"
     ]
    },
    {
     "name": "stdout",
     "output_type": "stream",
     "text": [
      "Epoch 36/50, Loss: 0.6604,  Val Accuracy: 0.6188, AP: 0.0946, Precision: 0.6292, Recall: 0.6184\n",
      "当前最好的模型： acc : 0.6348 ,loss : 0.6898575450839668 ,precision : 0.6594038341165 ,recall : 0.6351357496948646 ,ap : 0.09672261021836533 ,epoch : 34 \n"
     ]
    },
    {
     "name": "stderr",
     "output_type": "stream",
     "text": [
      "Training Epochs:  74%|███████▍  | 37/50 [08:25<03:01, 13.93s/it]"
     ]
    },
    {
     "name": "stdout",
     "output_type": "stream",
     "text": [
      "Epoch 37/50, Loss: 0.6693,  Val Accuracy: 0.6396, AP: 0.1117, Precision: 0.6587, Recall: 0.6391\n",
      "当前最好的模型： acc : 0.6396 ,loss : 0.6692770472888289 ,precision : 0.6587270531625463 ,recall : 0.6390563334364454 ,ap : 0.1117188503391339 ,epoch : 36 \n"
     ]
    },
    {
     "name": "stderr",
     "output_type": "stream",
     "text": [
      "Training Epochs:  76%|███████▌  | 38/50 [08:38<02:42, 13.52s/it]"
     ]
    },
    {
     "name": "stdout",
     "output_type": "stream",
     "text": [
      "Epoch 38/50, Loss: 0.6372,  Val Accuracy: 0.6220, AP: 0.0915, Precision: 0.6388, Recall: 0.6227\n",
      "当前最好的模型： acc : 0.6396 ,loss : 0.6692770472888289 ,precision : 0.6587270531625463 ,recall : 0.6390563334364454 ,ap : 0.1117188503391339 ,epoch : 36 \n"
     ]
    },
    {
     "name": "stderr",
     "output_type": "stream",
     "text": [
      "Training Epochs:  78%|███████▊  | 39/50 [08:51<02:25, 13.27s/it]"
     ]
    },
    {
     "name": "stdout",
     "output_type": "stream",
     "text": [
      "Epoch 39/50, Loss: 0.6055,  Val Accuracy: 0.6328, AP: 0.1057, Precision: 0.6660, Recall: 0.6335\n",
      "当前最好的模型： acc : 0.6396 ,loss : 0.6692770472888289 ,precision : 0.6587270531625463 ,recall : 0.6390563334364454 ,ap : 0.1117188503391339 ,epoch : 36 \n"
     ]
    },
    {
     "name": "stderr",
     "output_type": "stream",
     "text": [
      "Training Epochs:  80%|████████  | 40/50 [09:04<02:11, 13.14s/it]"
     ]
    },
    {
     "name": "stdout",
     "output_type": "stream",
     "text": [
      "Epoch 40/50, Loss: 0.5987,  Val Accuracy: 0.6384, AP: 0.0994, Precision: 0.6623, Recall: 0.6359\n",
      "当前最好的模型： acc : 0.6384 ,loss : 0.5986761091084316 ,precision : 0.6622904475078082 ,recall : 0.6358564545507919 ,ap : 0.09936920054050605 ,epoch : 39 \n"
     ]
    },
    {
     "name": "stderr",
     "output_type": "stream",
     "text": [
      "Training Epochs:  82%|████████▏ | 41/50 [09:17<01:58, 13.18s/it]"
     ]
    },
    {
     "name": "stdout",
     "output_type": "stream",
     "text": [
      "Epoch 41/50, Loss: 0.5904,  Val Accuracy: 0.6332, AP: 0.1110, Precision: 0.6633, Recall: 0.6318\n",
      "当前最好的模型： acc : 0.6384 ,loss : 0.5986761091084316 ,precision : 0.6622904475078082 ,recall : 0.6358564545507919 ,ap : 0.09936920054050605 ,epoch : 39 \n"
     ]
    },
    {
     "name": "stderr",
     "output_type": "stream",
     "text": [
      "Training Epochs:  84%|████████▍ | 42/50 [09:30<01:45, 13.15s/it]"
     ]
    },
    {
     "name": "stdout",
     "output_type": "stream",
     "text": [
      "Epoch 42/50, Loss: 0.5736,  Val Accuracy: 0.6152, AP: 0.0927, Precision: 0.6660, Recall: 0.6162\n",
      "当前最好的模型： acc : 0.6384 ,loss : 0.5986761091084316 ,precision : 0.6622904475078082 ,recall : 0.6358564545507919 ,ap : 0.09936920054050605 ,epoch : 39 \n"
     ]
    },
    {
     "name": "stderr",
     "output_type": "stream",
     "text": [
      "Training Epochs:  86%|████████▌ | 43/50 [09:43<01:31, 13.03s/it]"
     ]
    },
    {
     "name": "stdout",
     "output_type": "stream",
     "text": [
      "Epoch 43/50, Loss: 0.5690,  Val Accuracy: 0.6528, AP: 0.1113, Precision: 0.6643, Recall: 0.6507\n",
      "当前最好的模型： acc : 0.6528 ,loss : 0.568993546839418 ,precision : 0.6642521279808978 ,recall : 0.6507196272746745 ,ap : 0.11127934967946766 ,epoch : 42 \n"
     ]
    },
    {
     "name": "stderr",
     "output_type": "stream",
     "text": [
      "Training Epochs:  88%|████████▊ | 44/50 [09:55<01:17, 12.95s/it]"
     ]
    },
    {
     "name": "stdout",
     "output_type": "stream",
     "text": [
      "Epoch 44/50, Loss: 0.5214,  Val Accuracy: 0.6524, AP: 0.1021, Precision: 0.6761, Recall: 0.6519\n",
      "当前最好的模型： acc : 0.6524 ,loss : 0.5213571237079029 ,precision : 0.6761315266399123 ,recall : 0.6518615321836733 ,ap : 0.1020821709034149 ,epoch : 43 \n"
     ]
    },
    {
     "name": "stderr",
     "output_type": "stream",
     "text": [
      "Training Epochs:  90%|█████████ | 45/50 [10:08<01:04, 12.90s/it]"
     ]
    },
    {
     "name": "stdout",
     "output_type": "stream",
     "text": [
      "Epoch 45/50, Loss: 0.5245,  Val Accuracy: 0.6236, AP: 0.0963, Precision: 0.6535, Recall: 0.6213\n",
      "当前最好的模型： acc : 0.6524 ,loss : 0.5213571237079029 ,precision : 0.6761315266399123 ,recall : 0.6518615321836733 ,ap : 0.1020821709034149 ,epoch : 43 \n"
     ]
    },
    {
     "name": "stderr",
     "output_type": "stream",
     "text": [
      "Training Epochs:  92%|█████████▏| 46/50 [10:21<00:51, 12.92s/it]"
     ]
    },
    {
     "name": "stdout",
     "output_type": "stream",
     "text": [
      "Epoch 46/50, Loss: 0.5099,  Val Accuracy: 0.6552, AP: 0.1123, Precision: 0.6766, Recall: 0.6551\n",
      "当前最好的模型： acc : 0.6552 ,loss : 0.5099120797782108 ,precision : 0.6766443574890975 ,recall : 0.6551423033192343 ,ap : 0.11230948417371472 ,epoch : 45 \n"
     ]
    },
    {
     "name": "stderr",
     "output_type": "stream",
     "text": [
      "Training Epochs:  94%|█████████▍| 47/50 [10:34<00:38, 12.86s/it]"
     ]
    },
    {
     "name": "stdout",
     "output_type": "stream",
     "text": [
      "Epoch 47/50, Loss: 0.4806,  Val Accuracy: 0.6300, AP: 0.1015, Precision: 0.6516, Recall: 0.6280\n",
      "当前最好的模型： acc : 0.6552 ,loss : 0.5099120797782108 ,precision : 0.6766443574890975 ,recall : 0.6551423033192343 ,ap : 0.11230948417371472 ,epoch : 45 \n"
     ]
    },
    {
     "name": "stderr",
     "output_type": "stream",
     "text": [
      "Training Epochs:  96%|█████████▌| 48/50 [10:47<00:25, 12.84s/it]"
     ]
    },
    {
     "name": "stdout",
     "output_type": "stream",
     "text": [
      "Epoch 48/50, Loss: 0.4919,  Val Accuracy: 0.6300, AP: 0.0895, Precision: 0.6508, Recall: 0.6282\n",
      "当前最好的模型： acc : 0.6552 ,loss : 0.5099120797782108 ,precision : 0.6766443574890975 ,recall : 0.6551423033192343 ,ap : 0.11230948417371472 ,epoch : 45 \n"
     ]
    },
    {
     "name": "stderr",
     "output_type": "stream",
     "text": [
      "Training Epochs:  98%|█████████▊| 49/50 [10:59<00:12, 12.84s/it]"
     ]
    },
    {
     "name": "stdout",
     "output_type": "stream",
     "text": [
      "Epoch 49/50, Loss: 0.4549,  Val Accuracy: 0.6072, AP: 0.1040, Precision: 0.6490, Recall: 0.6067\n",
      "当前最好的模型： acc : 0.6552 ,loss : 0.5099120797782108 ,precision : 0.6766443574890975 ,recall : 0.6551423033192343 ,ap : 0.11230948417371472 ,epoch : 45 \n"
     ]
    },
    {
     "name": "stderr",
     "output_type": "stream",
     "text": [
      "Training Epochs: 100%|██████████| 50/50 [11:12<00:00, 13.46s/it]"
     ]
    },
    {
     "name": "stdout",
     "output_type": "stream",
     "text": [
      "Epoch 50/50, Loss: 0.4475,  Val Accuracy: 0.6720, AP: 0.0892, Precision: 0.6674, Recall: 0.6713\n",
      "当前最好的模型： acc : 0.672 ,loss : 0.4475391784618641 ,precision : 0.6673947185316134 ,recall : 0.6713223478664987 ,ap : 0.08919024969902507 ,epoch : 49 \n"
     ]
    },
    {
     "name": "stderr",
     "output_type": "stream",
     "text": [
      "\n"
     ]
    }
   ],
   "source": [
    "\n",
    "bestMod=utils.BestSelector(acc=0)\n",
    "train_logs=utils.Logs()\n",
    "model=get_pretrained()\n",
    "# 定义损失函数和优化器\n",
    "criterion = nn.CrossEntropyLoss()\n",
    "# criterion = nn.BCELoss()\n",
    "if config.optim == \"Adam\":\n",
    "    optimizer = optim.Adam(model.parameters(), lr=config.lr)\n",
    "else:\n",
    "    optimizer = optim.SGD(model.parameters(), lr=config.lr, momentum=0.9, weight_decay=1e-4)\n",
    "    \n",
    "bestMod,train_logs=train_val.train_model(\n",
    "            model, \n",
    "            criterion,\n",
    "            optimizer, \n",
    "            train_loader,\n",
    "            val_loader,\n",
    "            bestMod=bestMod,\n",
    "            train_logs=train_logs,\n",
    "            config=config, \n",
    "            # num_epochs=config.epochs\n",
    "        )\n",
    "\n"
   ]
  },
  {
   "cell_type": "code",
   "execution_count": 16,
   "metadata": {},
   "outputs": [
    {
     "name": "stdout",
     "output_type": "stream",
     "text": [
      "50 epoch中 最好的模型\n",
      "acc : 0.672 ,loss : 0.4475391784618641 ,precision : 0.6673947185316134 ,recall : 0.6713223478664987 ,ap : 0.08919024969902507 ,epoch : 49 \n"
     ]
    }
   ],
   "source": [
    "print(f\"{config.epochs} epoch中 最好的模型\")\n",
    "print(bestMod)"
   ]
  },
  {
   "cell_type": "markdown",
   "metadata": {},
   "source": [
    "#### 保存模型超参数和训练日志"
   ]
  },
  {
   "cell_type": "code",
   "execution_count": 19,
   "metadata": {},
   "outputs": [
    {
     "name": "stdout",
     "output_type": "stream",
     "text": [
      "save_weights\\ResNet-acc=0.672-loss=0.447539-max_epochs=50-1100\n"
     ]
    }
   ],
   "source": [
    "saveDir=r'save_weights'\n",
    "saveDir=os.path.join(saveDir,f'{bestMod.model.__class__.__name__}-acc={round(bestMod.acc,5)}-loss={round(bestMod.loss,6)}-max_epochs={config.epochs}-1100')\n",
    "utils.saveProcess(\n",
    "    saveDir=saveDir,\n",
    "    bestMod=bestMod,\n",
    "    train_log=train_logs,\n",
    "    config=config\n",
    ")"
   ]
  },
  {
   "cell_type": "markdown",
   "metadata": {},
   "source": [
    "#### 进行测试"
   ]
  },
  {
   "cell_type": "code",
   "execution_count": 20,
   "metadata": {},
   "outputs": [
    {
     "name": "stderr",
     "output_type": "stream",
     "text": [
      "模型测试中:: 100%|██████████| 16/16 [00:01<00:00, 11.29it/s]\n"
     ]
    },
    {
     "data": {
      "text/plain": [
       "{'Accuracy': 0.708,\n",
       " 'Precision': 0.7137706956875995,\n",
       " 'Recall': 0.7063204777322659,\n",
       " 'F1': 0.6992028330940667,\n",
       " 'AP': 0.08094687616771573}"
      ]
     },
     "execution_count": 20,
     "metadata": {},
     "output_type": "execute_result"
    }
   ],
   "source": [
    "import torch\n",
    "from utils import utils,train_val\n",
    "import os\n",
    "\n",
    "# config=Config(os.path.join(dir,'config.json'))\n",
    "# model=BestSelector(os.path.join(dir,'metrics.json'))\n",
    "# saveDir=r'save_weights\\BinaryClassificationMobileNetV3Large-acc=0.74336-loss=1.671334-max_epochs=40-1100'\n",
    "\n",
    "Model,config,logs=utils.loadProcess(saveDir=saveDir)\n",
    "metrics=train_val.validate_model(\n",
    "    model=Model.model,\n",
    "    val_loader=test_loader,\n",
    "    device=config.device,\n",
    "    only_val=True\n",
    ")\n",
    "\n",
    "metrics"
   ]
  },
  {
   "cell_type": "markdown",
   "metadata": {},
   "source": [
    "#### 保存数据到tensorboard"
   ]
  },
  {
   "cell_type": "code",
   "execution_count": 21,
   "metadata": {},
   "outputs": [],
   "source": [
    "from utils import metrics,utils\n",
    "\n",
    "\n",
    "recoder=metrics.TensorboardRecorder(\n",
    "    log_dir=\"runs/\"\n",
    ")\n",
    "\n",
    "recoder.logs_scalars(\n",
    "    logs.logs,\n",
    "    prefix=\"train\"\n",
    ")\n",
    "\n"
   ]
  },
  {
   "cell_type": "markdown",
   "metadata": {},
   "source": [
    "#### 多个模型的训练日志展示\n",
    " "
   ]
  },
  {
   "cell_type": "code",
   "execution_count": 14,
   "metadata": {},
   "outputs": [],
   "source": [
    "from utils import metrics,utils\n",
    "import os\n",
    "model_dirs=[\n",
    "    r\"D:\\Desktop\\深度学习\\12.康复训练\\My_DL_Utils\\Project\\save_weights\\AutoCNN-acc=0.3832-loss=2.082528-max_epochs=10-1100\",\n",
    "    r\"D:\\Desktop\\深度学习\\12.康复训练\\My_DL_Utils\\Project\\save_weights\\BinaryClassificationMobileNetV3Large-acc=0.662-loss=1.719393-max_epochs=10-1100\"\n",
    "]\n",
    "recorders=[]\n",
    "for model_dir in model_dirs:\n",
    "    Model,config,logs=utils.loadProcess(model_dir)\n",
    "    dirname=os.path.basename(model_dir)\n",
    "    recorder=metrics.TensorboardRecorder(log_dir=f\"runs/{dirname}\")\n",
    "    recorders.append(recorder)\n",
    "    recorder.logs_scalars(\n",
    "        scalars=logs.logs,\n",
    "        prefix=\"train\"\n",
    "    )\n",
    "\n"
   ]
  }
 ],
 "metadata": {
  "kernelspec": {
   "display_name": "sound",
   "language": "python",
   "name": "python3"
  },
  "language_info": {
   "codemirror_mode": {
    "name": "ipython",
    "version": 3
   },
   "file_extension": ".py",
   "mimetype": "text/x-python",
   "name": "python",
   "nbconvert_exporter": "python",
   "pygments_lexer": "ipython3",
   "version": "3.9.17"
  }
 },
 "nbformat": 4,
 "nbformat_minor": 2
}
