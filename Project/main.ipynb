{
 "cells": [
  {
   "cell_type": "code",
   "execution_count": 5,
   "metadata": {},
   "outputs": [],
   "source": [
    "import os\n",
    "from PIL import Image\n",
    "import torch\n",
    "import torchvision\n",
    "from torch.utils.data import DataLoader, Dataset\n",
    "import torch.nn as nn\n",
    "import torchvision.transforms as transforms\n",
    "import torchvision.models as models\n",
    "import torch.optim as optim\n",
    "from utils import datasets\n",
    "from utils import utils\n",
    "from utils import train_val\n",
    "from utils import net #网络文件于此\n",
    "from utils import metrics\n",
    "import warnings\n",
    "\n",
    "# 完全禁用警告\n",
    "warnings.filterwarnings(\"ignore\")"
   ]
  },
  {
   "cell_type": "code",
   "execution_count": 6,
   "metadata": {},
   "outputs": [
    {
     "name": "stdout",
     "output_type": "stream",
     "text": [
      "dataset_sep : [0.82, 0.17, 0.01] \n",
      "resize_size : 128 \n",
      "batch_size : 128 \n",
      "lr : 0.001 \n",
      "epochs : 50 \n",
      "hidden_size : 256 \n",
      "optim : Adam \n",
      "momentum : 0.9 \n",
      "weight_decay : 0.0001 \n",
      "seed : 42 \n",
      "mean : [0.50638, 0.49962538, 0.45205265] \n",
      "std : [0.23568255, 0.24141274, 0.25167742] \n",
      "source_dir : Cifar-10 \n",
      "data_path : data\\Cifar-10 \n",
      "device : cuda \n"
     ]
    }
   ],
   "source": [
    "from utils.utils import Config,Logs,BestSelector\n",
    "config=utils.Config(\n",
    "    dataset_sep=[\n",
    "        0.82,0.17,0.01          \n",
    "        ],\n",
    "    resize_size=128,\n",
    "    batch_size=128,\n",
    "    lr=0.001,\n",
    "    epochs=50,\n",
    "    hidden_size=256,\n",
    "    optim=\"Adam\",\n",
    "    momentum=0.9,\n",
    "    weight_decay=1e-4,\n",
    "    seed=42,\n",
    "    mean= [0.50638 ,0.49962538 ,0.45205265],\n",
    "    std=[0.23568255 ,0.24141274 ,0.25167742],\n",
    "    source_dir=r\"Cifar-10\",#原始数据集，每个分类一个文件夹，每个文件夹里包含多个图片\n",
    "    data_path=r\"data\\Cifar-10\",#项目数据集\n",
    "    # classes=[\"Apple\",\"Carambola\",\"Pear\",\"Plum\",\"Tomatoes\"],\n",
    "    device=\"cuda\" if torch.cuda.is_available() else \"cpu\",\n",
    ")\n",
    "print(config)"
   ]
  },
  {
   "cell_type": "code",
   "execution_count": 7,
   "metadata": {},
   "outputs": [
    {
     "name": "stdout",
     "output_type": "stream",
     "text": [
      "data\\Cifar-10 数据集已存在，无需重新划分\n"
     ]
    }
   ],
   "source": [
    "from tqdm import tqdm\n",
    "\n",
    "#设置随机数种子\n",
    "torch.manual_seed(config.seed)\n",
    "\n",
    "isSplit= (not datasets.check_data_exist(config.data_path))#数据集不存在，则从原始数据存放处，转移数据集\n",
    "if isSplit:\n",
    "    print(f\"{config.data_path} 数据集不存在，将从source_dir:{config.source_dir}中获取数据\")\n",
    "    print(f\"清理源文件夹:{config.data_path}\")\n",
    "    datasets.clear_folder(config.data_path)\n",
    "    for dir in tqdm(config.classes,desc=\"处理原始数据：\"):\n",
    "        source_dir=os.path.join(config.source_dir, dir)\n",
    "        print(source_dir)\n",
    "        datasets.split_data(source_dir,target_dir=config.data_path,label=dir,sep=config.dataset_sep)\n",
    "else:\n",
    "    print(f\"{config.data_path} 数据集已存在，无需重新划分\")\n",
    "\n"
   ]
  },
  {
   "cell_type": "code",
   "execution_count": 8,
   "metadata": {},
   "outputs": [
    {
     "data": {
      "text/plain": [
       "'\\ndef get_data_path(typ,path=config.data_path):\\n    return os.path.join(path,typ)\\n\\ntrain_dataset=datasets.CustomImageDataset(\\n    get_data_path(\"train\"),\\n    classes=config.classes,\\n    transform=datasets.get_transform(\\n        resize_size=config.resize_size,\\n        mean=config.mean,std=config.std\\n        )\\n)\\n\\nval_dataset=datasets.CustomImageDataset(\\n    get_data_path(\"val\"),\\n    classes=config.classes,\\n    transform=datasets.get_transform(\\n        \"val\",\\n        config.resize_size,\\n        \\n        mean=config.mean,\\n        std=config.std\\n        )\\n)\\n'"
      ]
     },
     "execution_count": 8,
     "metadata": {},
     "output_type": "execute_result"
    }
   ],
   "source": [
    "'''\n",
    "def get_data_path(typ,path=config.data_path):\n",
    "    return os.path.join(path,typ)\n",
    "\n",
    "train_dataset=datasets.CustomImageDataset(\n",
    "    get_data_path(\"train\"),\n",
    "    classes=config.classes,\n",
    "    transform=datasets.get_transform(\n",
    "        resize_size=config.resize_size,\n",
    "        mean=config.mean,std=config.std\n",
    "        )\n",
    ")\n",
    "\n",
    "val_dataset=datasets.CustomImageDataset(\n",
    "    get_data_path(\"val\"),\n",
    "    classes=config.classes,\n",
    "    transform=datasets.get_transform(\n",
    "        \"val\",\n",
    "        config.resize_size,\n",
    "        \n",
    "        mean=config.mean,\n",
    "        std=config.std\n",
    "        )\n",
    ")\n",
    "'''\n"
   ]
  },
  {
   "cell_type": "markdown",
   "metadata": {},
   "source": [
    "#### 加载数据集，可本地数据集。调用datasets.CustomImageDataset"
   ]
  },
  {
   "cell_type": "code",
   "execution_count": 9,
   "metadata": {},
   "outputs": [
    {
     "name": "stdout",
     "output_type": "stream",
     "text": [
      "Files already downloaded and verified\n",
      "Files already downloaded and verified\n",
      "原始训练集大小：37500\n",
      "原始验证集大小：12500\n",
      "原始测试集大小：10000\n"
     ]
    }
   ],
   "source": [
    "#加载cifar-10\n",
    "import torchvision\n",
    "train_val_dataset = torchvision.datasets.CIFAR10(\n",
    "    root='./data/Cifar-10', \n",
    "    train=True, \n",
    "    download=True, \n",
    "    transform=datasets.get_transform(\n",
    "        chance=\"train\",\n",
    "        resize_size=config.resize_size,\n",
    "        mean=(0.5, 0.5, 0.5), \n",
    "        std=(0.5, 0.5, 0.5)\n",
    "    )\n",
    ")\n",
    "train_dataset,val_dataset=datasets.get_parts_of_datasets(train_val_dataset,rate=0.75,only_train=False)#训练验证3-1开\n",
    "\n",
    "test_dataset = torchvision.datasets.CIFAR10(root='./data/Cifar-10', train=False, download=True, transform=datasets.get_transform(\n",
    "    chance=\"val\",\n",
    "    resize_size=config.resize_size,\n",
    "    mean=(0.5, 0.5, 0.5), \n",
    "    std=(0.5, 0.5, 0.5)\n",
    "))\n",
    "print(f\"原始训练集大小：{len(train_dataset)}\")\n",
    "print(f\"原始验证集大小：{len(val_dataset)}\")\n",
    "print(f\"原始测试集大小：{len(test_dataset)}\")"
   ]
  },
  {
   "cell_type": "markdown",
   "metadata": {},
   "source": [
    "#### load数据集，并根据数据量进行裁剪"
   ]
  },
  {
   "cell_type": "code",
   "execution_count": 10,
   "metadata": {},
   "outputs": [
    {
     "name": "stdout",
     "output_type": "stream",
     "text": [
      "本次训练用训练集大小：7500\n",
      "本次训练用验证集大小：2500\n",
      "本次测试用测试集大小：2000\n",
      "tarin_dataloader加载完毕, 58个batch, batch大小为128\n",
      "val_dataloader  加载完毕, 20个batch, batch大小为128\n",
      "test_dataloader 加载完毕, 16个batch, batch大小为128\n"
     ]
    }
   ],
   "source": [
    "crop_rate=0.20\n",
    "train_dataset_crop=datasets.get_parts_of_datasets(train_dataset,crop_rate)\n",
    "val_dataset_crop=datasets.get_parts_of_datasets(val_dataset,crop_rate)\n",
    "test_dataset_crop=datasets.get_parts_of_datasets(test_dataset,crop_rate)\n",
    "train_dataset_size=len(train_dataset_crop)\n",
    "val_dataset_size=len(val_dataset_crop)\n",
    "test_dataset_size=len(test_dataset_crop)\n",
    "\n",
    "print(f\"本次训练用训练集大小：{len(train_dataset_crop)}\")\n",
    "print(f\"本次训练用验证集大小：{len(val_dataset_crop)}\")\n",
    "print(f\"本次测试用测试集大小：{len(test_dataset_crop)}\")\n",
    "\n",
    "train_loader=DataLoader(train_dataset_crop,batch_size=config.batch_size,shuffle=True,drop_last=True)\n",
    "val_loader=DataLoader(val_dataset_crop,batch_size=config.batch_size,shuffle=False)\n",
    "test_loader=DataLoader(test_dataset_crop,batch_size=config.batch_size,shuffle=False)\n",
    "\n",
    "print(f\"tarin_dataloader加载完毕, {len(train_loader)}个batch, batch大小为{config.batch_size}\")\n",
    "print(f\"val_dataloader  加载完毕, {len(val_loader)}个batch, batch大小为{config.batch_size}\")\n",
    "print(f\"test_dataloader 加载完毕, {len(test_loader)}个batch, batch大小为{config.batch_size}\")\n"
   ]
  },
  {
   "cell_type": "markdown",
   "metadata": {},
   "source": [
    "#### 记录本次训练和测试用的数据量，还有数据样本信息"
   ]
  },
  {
   "cell_type": "code",
   "execution_count": 11,
   "metadata": {},
   "outputs": [
    {
     "name": "stdout",
     "output_type": "stream",
     "text": [
      "torch.Size([128, 3, 128, 128])\n",
      "torch.Size([128])\n"
     ]
    },
    {
     "data": {
      "text/plain": [
       "dataset_sep : [0.82, 0.17, 0.01] \n",
       "resize_size : 128 \n",
       "batch_size : 128 \n",
       "lr : 0.001 \n",
       "epochs : 50 \n",
       "hidden_size : 256 \n",
       "optim : Adam \n",
       "momentum : 0.9 \n",
       "weight_decay : 0.0001 \n",
       "seed : 42 \n",
       "mean : [0.50638, 0.49962538, 0.45205265] \n",
       "std : [0.23568255, 0.24141274, 0.25167742] \n",
       "source_dir : Cifar-10 \n",
       "data_path : data\\Cifar-10 \n",
       "device : cuda \n",
       "inputs_shape : torch.Size([128, 3, 128, 128]) \n",
       "train_datasize : 7500 \n",
       "val_datasetsize : 2500 \n",
       "test_datasetsize : 2000 \n",
       "datasets_crop_rate : 0.2 \n",
       "classes : ['airplane', 'automobile', 'bird', 'cat', 'deer', 'dog', 'frog', 'horse', 'ship', 'truck'] "
      ]
     },
     "execution_count": 11,
     "metadata": {},
     "output_type": "execute_result"
    }
   ],
   "source": [
    "#查看数据加载情况\n",
    "for inputs, labels in train_loader:\n",
    "    inputs=inputs.to(config.device)\n",
    "    labels=labels.to(config.device)\n",
    "    print(inputs.shape)\n",
    "    print(labels.shape)\n",
    "    config.update(\n",
    "        inputs_shape=inputs.shape\n",
    "        )\n",
    "    break\n",
    "config.update(\n",
    "    train_datasize=train_dataset_size,\n",
    "    val_datasetsize=val_dataset_size,\n",
    "    test_datasetsize=test_dataset_size,\n",
    "    datasets_crop_rate=crop_rate,\n",
    "    classes=train_val_dataset.classes,#原始数据集保留classes\n",
    ")\n",
    "config"
   ]
  },
  {
   "cell_type": "markdown",
   "metadata": {},
   "source": [
    "#### 加载预训练模型"
   ]
  },
  {
   "cell_type": "code",
   "execution_count": 14,
   "metadata": {},
   "outputs": [
    {
     "name": "stderr",
     "output_type": "stream",
     "text": [
      "Warm up ....: 100%|██████████| 100/100 [00:06<00:00, 15.10it/s]\n",
      "Testing ...: 100%|██████████| 300/300 [00:07<00:00, 39.10it/s]"
     ]
    },
    {
     "name": "stdout",
     "output_type": "stream",
     "text": [
      "inference_time:0.025151519298553467 ms\n",
      "parameters_num:11186890\n"
     ]
    },
    {
     "name": "stderr",
     "output_type": "stream",
     "text": [
      "\n"
     ]
    }
   ],
   "source": [
    "\n",
    "def get_pretrained(hidden_size=config.hidden_size,config=config):\n",
    "    '''\n",
    "        获取预训练模型\n",
    "        @param hidden_size: 隐藏层大小\n",
    "        @param config: 配置文件\n",
    "        @return: 预训练模型\n",
    "    '''\n",
    "    # model=net.BinaryClassificationMobileNetV3Large(out_size=len(config.classes))\n",
    "    # model=net.AutoCNN(\n",
    "    #     input_channels=config.inputs_shape[1],\n",
    "    #     input_size=config.inputs_shape[2:],\n",
    "    #     num_classes=len(config.classes),\n",
    "    #     mlp_hidden_size=256\n",
    "    # )\n",
    "    model=net.ResNet(\n",
    "        num_classes=len(config.classes),\n",
    "        input_channels=config.inputs_shape[1],\n",
    "    )#最后全局池化层压下了尺寸，不需要提供输入尺寸\n",
    "    return model.to(config.device)\n",
    "test_model=get_pretrained()\n",
    "measurer=metrics.ModelMeasurer(test_model)\n",
    "inference_time=measurer.get_inference_time(input_shape=config.inputs_shape)\n",
    "parameters_num=measurer.get_parameters_num()\n",
    "print(f\"inference_time:{inference_time} ms\")\n",
    "print(f\"parameters_num:{parameters_num}\")\n",
    "config.update(\n",
    "    network=test_model.__class__.__name__,\n",
    "    inference_time=inference_time,\n",
    "    parameters_num=parameters_num,\n",
    ")\n",
    "config"
   ]
  },
  {
   "cell_type": "code",
   "execution_count": null,
   "metadata": {},
   "outputs": [
    {
     "name": "stderr",
     "output_type": "stream",
     "text": [
      "Training Epochs:   2%|▏         | 1/50 [00:13<11:16, 13.81s/it]"
     ]
    },
    {
     "name": "stdout",
     "output_type": "stream",
     "text": [
      "Epoch 1/50, Loss: 2.0565,  Val Accuracy: 0.2612, AP: 0.1576, Precision: 0.2772, Recall: 0.2599\n",
      "当前最好的模型： acc : 0.2612 ,loss : 2.0565410605792342 ,precision : 0.27717257261493883 ,recall : 0.2599353337231548 ,ap : 0.1576015914003698 ,epoch : 0 \n"
     ]
    },
    {
     "name": "stderr",
     "output_type": "stream",
     "text": [
      "Training Epochs:   4%|▍         | 2/50 [00:27<10:51, 13.58s/it]"
     ]
    },
    {
     "name": "stdout",
     "output_type": "stream",
     "text": [
      "Epoch 2/50, Loss: 1.8400,  Val Accuracy: 0.3304, AP: 0.1213, Precision: 0.3317, Recall: 0.3272\n",
      "当前最好的模型： acc : 0.3304 ,loss : 1.8399577038041477 ,precision : 0.3316724213806654 ,recall : 0.32720794462850233 ,ap : 0.12133480875741828 ,epoch : 1 \n"
     ]
    },
    {
     "name": "stderr",
     "output_type": "stream",
     "text": [
      "Training Epochs:   6%|▌         | 3/50 [00:40<10:36, 13.54s/it]"
     ]
    },
    {
     "name": "stdout",
     "output_type": "stream",
     "text": [
      "Epoch 3/50, Loss: 1.7349,  Val Accuracy: 0.3060, AP: 0.1205, Precision: 0.3366, Recall: 0.3035\n",
      "当前最好的模型： acc : 0.3304 ,loss : 1.8399577038041477 ,precision : 0.3316724213806654 ,recall : 0.32720794462850233 ,ap : 0.12133480875741828 ,epoch : 1 \n"
     ]
    },
    {
     "name": "stderr",
     "output_type": "stream",
     "text": [
      "Training Epochs:   8%|▊         | 4/50 [00:54<10:27, 13.63s/it]"
     ]
    },
    {
     "name": "stdout",
     "output_type": "stream",
     "text": [
      "Epoch 4/50, Loss: 1.6755,  Val Accuracy: 0.3584, AP: 0.0932, Precision: 0.3849, Recall: 0.3596\n",
      "当前最好的模型： acc : 0.3584 ,loss : 1.6754881862936348 ,precision : 0.3849191873140264 ,recall : 0.35963040040288535 ,ap : 0.09317269869298728 ,epoch : 3 \n"
     ]
    },
    {
     "name": "stderr",
     "output_type": "stream",
     "text": [
      "Training Epochs:  10%|█         | 5/50 [01:07<10:11, 13.59s/it]"
     ]
    },
    {
     "name": "stdout",
     "output_type": "stream",
     "text": [
      "Epoch 5/50, Loss: 1.6263,  Val Accuracy: 0.3952, AP: 0.1390, Precision: 0.4027, Recall: 0.3953\n",
      "当前最好的模型： acc : 0.3952 ,loss : 1.6263345808818424 ,precision : 0.4026911892533057 ,recall : 0.3952851723364962 ,ap : 0.1389978010605591 ,epoch : 4 \n"
     ]
    },
    {
     "name": "stderr",
     "output_type": "stream",
     "text": [
      "Training Epochs:  12%|█▏        | 6/50 [01:21<09:55, 13.54s/it]"
     ]
    },
    {
     "name": "stdout",
     "output_type": "stream",
     "text": [
      "Epoch 6/50, Loss: 1.5534,  Val Accuracy: 0.3908, AP: 0.1179, Precision: 0.4467, Recall: 0.3903\n",
      "当前最好的模型： acc : 0.3952 ,loss : 1.6263345808818424 ,precision : 0.4026911892533057 ,recall : 0.3952851723364962 ,ap : 0.1389978010605591 ,epoch : 4 \n"
     ]
    },
    {
     "name": "stderr",
     "output_type": "stream",
     "text": [
      "Training Epochs:  14%|█▍        | 7/50 [01:35<09:44, 13.59s/it]"
     ]
    },
    {
     "name": "stdout",
     "output_type": "stream",
     "text": [
      "Epoch 7/50, Loss: 1.5064,  Val Accuracy: 0.4012, AP: 0.1082, Precision: 0.4618, Recall: 0.3979\n",
      "当前最好的模型： acc : 0.4012 ,loss : 1.5064133364578773 ,precision : 0.46175939791722176 ,recall : 0.39789971795794 ,ap : 0.10823480676866008 ,epoch : 6 \n"
     ]
    },
    {
     "name": "stderr",
     "output_type": "stream",
     "text": [
      "Training Epochs:  16%|█▌        | 8/50 [01:48<09:22, 13.39s/it]"
     ]
    },
    {
     "name": "stdout",
     "output_type": "stream",
     "text": [
      "Epoch 8/50, Loss: 1.4558,  Val Accuracy: 0.4508, AP: 0.1093, Precision: 0.4711, Recall: 0.4502\n",
      "当前最好的模型： acc : 0.4508 ,loss : 1.4558133133526505 ,precision : 0.47107337011403494 ,recall : 0.45020905861037963 ,ap : 0.10932369216991766 ,epoch : 7 \n"
     ]
    },
    {
     "name": "stderr",
     "output_type": "stream",
     "text": [
      "Training Epochs:  18%|█▊        | 9/50 [02:00<09:02, 13.23s/it]"
     ]
    },
    {
     "name": "stdout",
     "output_type": "stream",
     "text": [
      "Epoch 9/50, Loss: 1.4048,  Val Accuracy: 0.4020, AP: 0.1047, Precision: 0.4502, Recall: 0.4004\n",
      "当前最好的模型： acc : 0.4508 ,loss : 1.4558133133526505 ,precision : 0.47107337011403494 ,recall : 0.45020905861037963 ,ap : 0.10932369216991766 ,epoch : 7 \n"
     ]
    },
    {
     "name": "stderr",
     "output_type": "stream",
     "text": [
      "Training Epochs:  20%|██        | 10/50 [02:13<08:45, 13.13s/it]"
     ]
    },
    {
     "name": "stdout",
     "output_type": "stream",
     "text": [
      "Epoch 10/50, Loss: 1.3756,  Val Accuracy: 0.4584, AP: 0.0821, Precision: 0.5059, Recall: 0.4573\n",
      "当前最好的模型： acc : 0.4584 ,loss : 1.3756490493642872 ,precision : 0.5059418888638271 ,recall : 0.4573080331950467 ,ap : 0.0820621369020903 ,epoch : 9 \n"
     ]
    },
    {
     "name": "stderr",
     "output_type": "stream",
     "text": [
      "Training Epochs:  22%|██▏       | 11/50 [02:26<08:28, 13.04s/it]"
     ]
    },
    {
     "name": "stdout",
     "output_type": "stream",
     "text": [
      "Epoch 11/50, Loss: 1.3114,  Val Accuracy: 0.4752, AP: 0.1143, Precision: 0.4983, Recall: 0.4734\n",
      "当前最好的模型： acc : 0.4752 ,loss : 1.311374925333878 ,precision : 0.4983107407881354 ,recall : 0.4734164334681651 ,ap : 0.11431136113183604 ,epoch : 10 \n"
     ]
    },
    {
     "name": "stderr",
     "output_type": "stream",
     "text": [
      "Training Epochs:  24%|██▍       | 12/50 [02:39<08:13, 12.99s/it]"
     ]
    },
    {
     "name": "stdout",
     "output_type": "stream",
     "text": [
      "Epoch 12/50, Loss: 1.2752,  Val Accuracy: 0.4228, AP: 0.1311, Precision: 0.5281, Recall: 0.4191\n",
      "当前最好的模型： acc : 0.4752 ,loss : 1.311374925333878 ,precision : 0.4983107407881354 ,recall : 0.4734164334681651 ,ap : 0.11431136113183604 ,epoch : 10 \n"
     ]
    },
    {
     "name": "stderr",
     "output_type": "stream",
     "text": [
      "Training Epochs:  26%|██▌       | 13/50 [02:52<07:59, 12.95s/it]"
     ]
    },
    {
     "name": "stdout",
     "output_type": "stream",
     "text": [
      "Epoch 13/50, Loss: 1.2354,  Val Accuracy: 0.4496, AP: 0.1266, Precision: 0.5276, Recall: 0.4477\n",
      "当前最好的模型： acc : 0.4752 ,loss : 1.311374925333878 ,precision : 0.4983107407881354 ,recall : 0.4734164334681651 ,ap : 0.11431136113183604 ,epoch : 10 \n"
     ]
    },
    {
     "name": "stderr",
     "output_type": "stream",
     "text": [
      "Training Epochs:  28%|██▊       | 14/50 [03:05<07:47, 13.00s/it]"
     ]
    },
    {
     "name": "stdout",
     "output_type": "stream",
     "text": [
      "Epoch 14/50, Loss: 1.1898,  Val Accuracy: 0.4920, AP: 0.1053, Precision: 0.5453, Recall: 0.4940\n",
      "当前最好的模型： acc : 0.492 ,loss : 1.1898224713473484 ,precision : 0.5453297769747398 ,recall : 0.494025727304798 ,ap : 0.10526130303034267 ,epoch : 13 \n"
     ]
    }
   ],
   "source": [
    "\n",
    "bestMod=utils.BestSelector(acc=0)\n",
    "train_logs=utils.Logs()\n",
    "model=get_pretrained()\n",
    "# 定义损失函数和优化器\n",
    "criterion = nn.CrossEntropyLoss()\n",
    "# criterion = nn.BCELoss()\n",
    "if config.optim == \"Adam\":\n",
    "    optimizer = optim.Adam(model.parameters(), lr=config.lr)\n",
    "else:\n",
    "    optimizer = optim.SGD(model.parameters(), lr=config.lr, momentum=0.9, weight_decay=1e-4)\n",
    "    \n",
    "bestMod,train_logs=train_val.train_model(\n",
    "            model, \n",
    "            criterion,\n",
    "            optimizer, \n",
    "            train_loader,\n",
    "            val_loader,\n",
    "            bestMod=bestMod,\n",
    "            train_logs=train_logs,\n",
    "            config=config, \n",
    "            # num_epochs=config.epochs\n",
    "        )\n",
    "\n"
   ]
  },
  {
   "cell_type": "code",
   "execution_count": 10,
   "metadata": {},
   "outputs": [
    {
     "name": "stdout",
     "output_type": "stream",
     "text": [
      "50 epoch中 最好的模型\n",
      "acc : 0.552 ,loss : 1.887880645949265 ,precision : 0.5510116177740261 ,recall : 0.5520372635261089 ,ap : 0.08533942133983544 ,epoch : 44 \n"
     ]
    }
   ],
   "source": [
    "print(f\"{config.epochs} epoch中 最好的模型\")\n",
    "print(bestMod)"
   ]
  },
  {
   "cell_type": "markdown",
   "metadata": {},
   "source": [
    "#### 保存模型超参数和训练日志"
   ]
  },
  {
   "cell_type": "code",
   "execution_count": 11,
   "metadata": {},
   "outputs": [
    {
     "name": "stdout",
     "output_type": "stream",
     "text": [
      "save_weights\\AutoCNN-acc=0.552-loss=1.887881-max_epochs=50-1100\n"
     ]
    }
   ],
   "source": [
    "saveDir=r'save_weights'\n",
    "saveDir=os.path.join(saveDir,f'{bestMod.model.__class__.__name__}-acc={round(bestMod.acc,5)}-loss={round(bestMod.loss,6)}-max_epochs={config.epochs}-1100')\n",
    "utils.saveProcess(\n",
    "    saveDir=saveDir,\n",
    "    bestMod=bestMod,\n",
    "    train_log=train_logs,\n",
    "    config=config\n",
    ")"
   ]
  },
  {
   "cell_type": "markdown",
   "metadata": {},
   "source": [
    "#### 进行测试"
   ]
  },
  {
   "cell_type": "code",
   "execution_count": 12,
   "metadata": {},
   "outputs": [
    {
     "name": "stderr",
     "output_type": "stream",
     "text": [
      "模型测试中:: 100%|██████████| 16/16 [00:01<00:00,  8.03it/s]\n"
     ]
    },
    {
     "data": {
      "text/plain": [
       "{'Accuracy': 0.572,\n",
       " 'Precision': 0.6234483008635754,\n",
       " 'Recall': 0.5734097219219197,\n",
       " 'F1': 0.5735498695026443,\n",
       " 'AP': 0.06495701079185362}"
      ]
     },
     "execution_count": 12,
     "metadata": {},
     "output_type": "execute_result"
    }
   ],
   "source": [
    "import torch\n",
    "from utils import utils,train_val\n",
    "import os\n",
    "\n",
    "# config=Config(os.path.join(dir,'config.json'))\n",
    "# model=BestSelector(os.path.join(dir,'metrics.json'))\n",
    "saveDir=r'save_weights\\BinaryClassificationMobileNetV3Large-acc=0.74336-loss=1.671334-max_epochs=40-1100'\n",
    "\n",
    "Model,config,logs=utils.loadProcess(saveDir=saveDir)\n",
    "metrics=train_val.validate_model(\n",
    "    model=Model.model,\n",
    "    val_loader=test_loader,\n",
    "    device=config.device,\n",
    "    only_val=True\n",
    ")\n",
    "\n",
    "metrics"
   ]
  },
  {
   "cell_type": "markdown",
   "metadata": {},
   "source": [
    "#### 保存数据到tensorboard"
   ]
  },
  {
   "cell_type": "code",
   "execution_count": 13,
   "metadata": {},
   "outputs": [],
   "source": [
    "from utils import metrics,utils\n",
    "\n",
    "\n",
    "recoder=metrics.TensorboardRecorder(\n",
    "    log_dir=\"runs/\"\n",
    ")\n",
    "\n",
    "recoder.logs_scalars(\n",
    "    logs.logs,\n",
    "    prefix=\"train\"\n",
    ")\n",
    "\n"
   ]
  },
  {
   "cell_type": "markdown",
   "metadata": {},
   "source": [
    "#### 多个模型的训练日志展示\n",
    " "
   ]
  },
  {
   "cell_type": "code",
   "execution_count": 14,
   "metadata": {},
   "outputs": [],
   "source": [
    "from utils import metrics,utils\n",
    "import os\n",
    "model_dirs=[\n",
    "    r\"D:\\Desktop\\深度学习\\12.康复训练\\My_DL_Utils\\Project\\save_weights\\AutoCNN-acc=0.3832-loss=2.082528-max_epochs=10-1100\",\n",
    "    r\"D:\\Desktop\\深度学习\\12.康复训练\\My_DL_Utils\\Project\\save_weights\\BinaryClassificationMobileNetV3Large-acc=0.662-loss=1.719393-max_epochs=10-1100\"\n",
    "]\n",
    "recorders=[]\n",
    "for model_dir in model_dirs:\n",
    "    Model,config,logs=utils.loadProcess(model_dir)\n",
    "    dirname=os.path.basename(model_dir)\n",
    "    recorder=metrics.TensorboardRecorder(log_dir=f\"runs/{dirname}\")\n",
    "    recorders.append(recorder)\n",
    "    recorder.logs_scalars(\n",
    "        scalars=logs.logs,\n",
    "        prefix=\"train\"\n",
    "    )\n",
    "\n"
   ]
  }
 ],
 "metadata": {
  "kernelspec": {
   "display_name": "sound",
   "language": "python",
   "name": "python3"
  },
  "language_info": {
   "codemirror_mode": {
    "name": "ipython",
    "version": 3
   },
   "file_extension": ".py",
   "mimetype": "text/x-python",
   "name": "python",
   "nbconvert_exporter": "python",
   "pygments_lexer": "ipython3",
   "version": "3.9.17"
  }
 },
 "nbformat": 4,
 "nbformat_minor": 2
}
