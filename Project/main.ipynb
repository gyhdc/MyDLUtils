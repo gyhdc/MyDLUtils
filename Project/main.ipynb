{
 "cells": [
  {
   "cell_type": "code",
   "execution_count": 1,
   "metadata": {},
   "outputs": [],
   "source": [
    "import os\n",
    "from PIL import Image\n",
    "import torch\n",
    "import torchvision\n",
    "from torch.utils.data import DataLoader, Dataset\n",
    "import torch.nn as nn\n",
    "import torchvision.transforms as transforms\n",
    "import torchvision.models as models\n",
    "import torch.optim as optim\n",
    "from utils import datasets\n",
    "from utils import utils\n",
    "from utils import train_val\n",
    "from utils import net #网络文件于此\n",
    "from utils import metrics\n",
    "import warnings\n",
    "# 完全禁用警告\n",
    "warnings.filterwarnings(\"ignore\")"
   ]
  },
  {
   "cell_type": "code",
   "execution_count": 2,
   "metadata": {},
   "outputs": [],
   "source": [
    "from utils.utils import Config,Logs,BestSelector\n",
    "config=utils.Config(\n",
    "    dataset_sep=[\n",
    "        0.82,0.17,0.01          \n",
    "        ],\n",
    "    resize_size=64,#图像尺寸\n",
    "    batch_size=128,\n",
    "    lr=0.0007,\n",
    "    epochs=10,#epoch轮数\n",
    "    hidden_size=256,\n",
    "    optim=\"Adam\",\n",
    "    momentum=0.9,\n",
    "    weight_decay=1e-4,\n",
    "    seed=42,\n",
    "    mean= [0.50638 ,0.49962538 ,0.45205265],\n",
    "    std=[0.23568255 ,0.24141274 ,0.25167742],\n",
    "    AMP=True,\n",
    "    checkpoint_interval=0.25,#只保存4个模型\n",
    "    source_dir=r\"Cifar-10\",#原始数据集，每个分类一个文件夹，每个文件夹里包含多个图片\n",
    "    data_path=r\"data\\Cifar-10\",#项目数据集\n",
    "    # classes=[\"Apple\",\"Carambola\",\"Pear\",\"Plum\",\"Tomatoes\"],\n",
    "    device=\"cuda\" if torch.cuda.is_available() else \"cpu\",\n",
    ")\n"
   ]
  },
  {
   "cell_type": "code",
   "execution_count": 3,
   "metadata": {},
   "outputs": [
    {
     "name": "stdout",
     "output_type": "stream",
     "text": [
      "data\\Cifar-10 数据集已存在，无需重新划分\n"
     ]
    }
   ],
   "source": [
    "from tqdm import tqdm\n",
    "\n",
    "torch.manual_seed(config.seed)\n",
    "isSplit= (not datasets.check_data_exist(config.data_path))#数据集不存在，则从原始数据存放处，转移数据集\n",
    "if isSplit:\n",
    "    print(f\"{config.data_path} 数据集不存在，将从source_dir:{config.source_dir}中获取数据\")\n",
    "    print(f\"清理源文件夹:{config.data_path}\")\n",
    "    datasets.clear_folder(config.data_path)\n",
    "    for dir in tqdm(config.classes,desc=\"处理原始数据：\"):\n",
    "        source_dir=os.path.join(config.source_dir, dir)\n",
    "        print(source_dir)\n",
    "        datasets.split_data(source_dir,target_dir=config.data_path,label=dir,sep=config.dataset_sep)\n",
    "else:\n",
    "    print(f\"{config.data_path} 数据集已存在，无需重新划分\")"
   ]
  },
  {
   "cell_type": "markdown",
   "metadata": {},
   "source": [
    "#### 本地数据集加载"
   ]
  },
  {
   "cell_type": "code",
   "execution_count": 4,
   "metadata": {},
   "outputs": [],
   "source": [
    "# def get_data_path(typ,path=config.data_path):\n",
    "#     return os.path.join(path,typ)\n",
    "# train_dataset=datasets.CustomImageDataset(\n",
    "#     get_data_path(\"train\"),#data/train\n",
    "#     classes=config.classes,\n",
    "#     transform=datasets.get_transform(\n",
    "#         resize_size=config.resize_size,\n",
    "#         mean=config.mean,std=config.std\n",
    "#         )\n",
    "# )"
   ]
  },
  {
   "cell_type": "markdown",
   "metadata": {},
   "source": [
    "#### 加载CIFAR-10数据集"
   ]
  },
  {
   "cell_type": "code",
   "execution_count": 5,
   "metadata": {},
   "outputs": [
    {
     "name": "stdout",
     "output_type": "stream",
     "text": [
      "Files already downloaded and verified\n",
      "Files already downloaded and verified\n",
      "原始训练集大小：37500\n",
      "原始验证集大小：12500\n",
      "原始测试集大小：10000\n"
     ]
    }
   ],
   "source": [
    "\n",
    "import torchvision\n",
    "train_val_dataset = torchvision.datasets.CIFAR10(\n",
    "    root='./data/Cifar-10', \n",
    "    train=True, \n",
    "    download=True, \n",
    "    transform=datasets.get_transform(\n",
    "        chance=\"train\",\n",
    "        resize_size=config.resize_size,\n",
    "        mean=(0.5, 0.5, 0.5), \n",
    "        std=(0.5, 0.5, 0.5)\n",
    "    )\n",
    ")\n",
    "train_dataset,val_dataset=datasets.get_parts_of_datasets(train_val_dataset,rate=0.75,only_train=False)#训练验证3-1开\n",
    "\n",
    "test_dataset = torchvision.datasets.CIFAR10(root='./data/Cifar-10', train=False, download=True, transform=datasets.get_transform(\n",
    "    chance=\"val\",\n",
    "    resize_size=config.resize_size,\n",
    "    mean=(0.5, 0.5, 0.5), \n",
    "    std=(0.5, 0.5, 0.5)\n",
    "))\n",
    "print(f\"原始训练集大小：{len(train_dataset)}\")\n",
    "print(f\"原始验证集大小：{len(val_dataset)}\")\n",
    "print(f\"原始测试集大小：{len(test_dataset)}\")"
   ]
  },
  {
   "cell_type": "markdown",
   "metadata": {},
   "source": [
    "##### load数据集，并根据数据量进行裁剪。CIFAR-10较大，本身为学习项目只取其中1/4数据进行训练测试"
   ]
  },
  {
   "cell_type": "code",
   "execution_count": 6,
   "metadata": {},
   "outputs": [
    {
     "name": "stdout",
     "output_type": "stream",
     "text": [
      "本次训练用训练集大小：9375\n",
      "本次训练用验证集大小：3125\n",
      "本次测试用测试集大小：2500\n",
      "tarin_dataloader加载完毕, 73个batch, batch大小为128\n",
      "val_dataloader  加载完毕, 25个batch, batch大小为128\n",
      "test_dataloader 加载完毕, 20个batch, batch大小为128\n"
     ]
    }
   ],
   "source": [
    "crop_rate=0.25\n",
    "train_dataset_crop=datasets.get_parts_of_datasets(train_dataset,crop_rate)\n",
    "val_dataset_crop=datasets.get_parts_of_datasets(val_dataset,crop_rate)\n",
    "test_dataset_crop=datasets.get_parts_of_datasets(test_dataset,crop_rate)\n",
    "train_dataset_size=len(train_dataset_crop)\n",
    "val_dataset_size=len(val_dataset_crop)\n",
    "test_dataset_size=len(test_dataset_crop)\n",
    "\n",
    "print(f\"本次训练用训练集大小：{len(train_dataset_crop)}\")\n",
    "print(f\"本次训练用验证集大小：{len(val_dataset_crop)}\")\n",
    "print(f\"本次测试用测试集大小：{len(test_dataset_crop)}\")\n",
    "\n",
    "train_loader=DataLoader(train_dataset_crop,batch_size=config.batch_size,shuffle=True,drop_last=True)\n",
    "val_loader=DataLoader(val_dataset_crop,batch_size=config.batch_size,shuffle=False)\n",
    "test_loader=DataLoader(test_dataset_crop,batch_size=config.batch_size,shuffle=False)\n",
    "\n",
    "print(f\"tarin_dataloader加载完毕, {len(train_loader)}个batch, batch大小为{config.batch_size}\")\n",
    "print(f\"val_dataloader  加载完毕, {len(val_loader)}个batch, batch大小为{config.batch_size}\")\n",
    "print(f\"test_dataloader 加载完毕, {len(test_loader)}个batch, batch大小为{config.batch_size}\")\n"
   ]
  },
  {
   "cell_type": "markdown",
   "metadata": {},
   "source": [
    "#### 记录本次训练和测试用的数据量，还有数据样本信息"
   ]
  },
  {
   "cell_type": "code",
   "execution_count": 7,
   "metadata": {},
   "outputs": [
    {
     "name": "stdout",
     "output_type": "stream",
     "text": [
      "torch.Size([128, 3, 64, 64])\n",
      "torch.Size([128])\n"
     ]
    }
   ],
   "source": [
    "#查看数据加载情况\n",
    "for inputs, labels in train_loader:\n",
    "    inputs=inputs.to(config.device)\n",
    "    labels=labels.to(config.device)\n",
    "    print(inputs.shape)\n",
    "    print(labels.shape)\n",
    "    config.update(\n",
    "        inputs_shape=inputs.shape\n",
    "        )\n",
    "    break\n",
    "config.update(\n",
    "    train_datasize=train_dataset_size,\n",
    "    val_datasetsize=val_dataset_size,\n",
    "    test_datasetsize=test_dataset_size,\n",
    "    datasets_crop_rate=crop_rate,\n",
    "    classes=train_val_dataset.classes,#原始数据集保留classes\n",
    ")\n"
   ]
  },
  {
   "cell_type": "markdown",
   "metadata": {},
   "source": [
    "#### 加载预训练模型"
   ]
  },
  {
   "cell_type": "code",
   "execution_count": 8,
   "metadata": {},
   "outputs": [
    {
     "name": "stdout",
     "output_type": "stream",
     "text": [
      "参数数量：23210686\n"
     ]
    },
    {
     "name": "stderr",
     "output_type": "stream",
     "text": [
      "Warm up ....: 100%|██████████| 100/100 [00:03<00:00, 28.72it/s]\n",
      "Testing ...: 100%|██████████| 300/300 [00:03<00:00, 88.55it/s]"
     ]
    },
    {
     "name": "stdout",
     "output_type": "stream",
     "text": [
      "推理一个batch的时间：0.011113024746576945 ms\n",
      "inference_time:0.011113024746576945 s\n",
      "parameters_num:23210686\n"
     ]
    },
    {
     "name": "stderr",
     "output_type": "stream",
     "text": [
      "\n"
     ]
    },
    {
     "data": {
      "text/plain": [
       "dataset_sep : [0.82, 0.17, 0.01] \n",
       "resize_size : 64 \n",
       "batch_size : 128 \n",
       "lr : 0.0007 \n",
       "epochs : 10 \n",
       "hidden_size : 256 \n",
       "optim : Adam \n",
       "momentum : 0.9 \n",
       "weight_decay : 0.0001 \n",
       "seed : 42 \n",
       "mean : [0.50638, 0.49962538, 0.45205265] \n",
       "std : [0.23568255, 0.24141274, 0.25167742] \n",
       "AMP : True \n",
       "checkpoint_interval : 0.25 \n",
       "source_dir : Cifar-10 \n",
       "data_path : data\\Cifar-10 \n",
       "device : cuda \n",
       "inputs_shape : torch.Size([128, 3, 64, 64]) \n",
       "train_datasize : 9375 \n",
       "val_datasetsize : 3125 \n",
       "test_datasetsize : 2500 \n",
       "datasets_crop_rate : 0.25 \n",
       "classes : ['airplane', 'automobile', 'bird', 'cat', 'deer', 'dog', 'frog', 'horse', 'ship', 'truck'] \n",
       "network : GoogLeNet \n",
       "inference_time : 0.011113024746576945 \n",
       "parameters_num : 23210686 "
      ]
     },
     "execution_count": 8,
     "metadata": {},
     "output_type": "execute_result"
    }
   ],
   "source": [
    "\n",
    "def get_pretrained(config=config):\n",
    "    '''\n",
    "        获取预训练模型\n",
    "        @param config: 配置文件\n",
    "        @return: 预训练模型\n",
    "    '''\n",
    "    # model=net.BinaryClassificationMobileNetV3Large(out_size=len(config.classes))\n",
    "    # model=net.ResNet(\n",
    "    #     num_classes=len(config.classes),\n",
    "    #     input_channels=config.inputs_shape[1],\n",
    "    # )#最后全局池化层压下了尺寸，不需要提供输入尺寸\n",
    "    # model=net.AlexNet(\n",
    "    #     num_classes=len(config.classes),\n",
    "    # )\n",
    "    # model=net.VGGNet(\n",
    "    #     input_channels=config.inputs_shape[1],\n",
    "    #     num_classes=len(config.classes),\n",
    "    #     config=\"D\",\n",
    "    #     classifier_hidden_size=[4096,1024]\n",
    "    # )\n",
    "    model=net.GoogLeNet(\n",
    "        input_channels=3,\n",
    "        num_classes=len(config.classes),\n",
    "        AAP_shape=(4,4),\n",
    "        aux_classify=True\n",
    "    )\n",
    "    return model.to(config.device)\n",
    "\n",
    "test_model=get_pretrained()\n",
    "measurer=metrics.ModelMeasurer(test_model)\n",
    "unit=1\n",
    "parameters_num,inference_time=measurer.simply_check_model(input_shape=config.inputs_shape)\n",
    "print(f\"inference_time:{inference_time} s\")\n",
    "print(f\"parameters_num:{parameters_num}\")\n",
    "config.update(\n",
    "    network=test_model.__class__.__name__,\n",
    "    inference_time=inference_time,\n",
    "    parameters_num=parameters_num,\n",
    ")\n",
    "config"
   ]
  },
  {
   "cell_type": "markdown",
   "metadata": {},
   "source": [
    "#### 开始训练"
   ]
  },
  {
   "cell_type": "code",
   "execution_count": 9,
   "metadata": {},
   "outputs": [
    {
     "name": "stderr",
     "output_type": "stream",
     "text": [
      "Training Epochs:  10%|█         | 1/10 [00:09<01:28,  9.83s/it]"
     ]
    },
    {
     "name": "stdout",
     "output_type": "stream",
     "text": [
      "Epoch 1/10, train_Loss: 3.6385, val_Loss: 2.2599 ,Val Accuracy: 0.2237, Precision: 0.2156, Recall: 0.2268\n",
      "当前最好的模型：acc : 0.2237 ,loss : 3.6385 ,precision : 0.2156 ,recall : 0.2268 ,ap : 0.1297 ,epoch : 0 \n"
     ]
    },
    {
     "name": "stderr",
     "output_type": "stream",
     "text": [
      "Training Epochs:  40%|████      | 4/10 [00:36<00:54,  9.04s/it]"
     ]
    },
    {
     "name": "stdout",
     "output_type": "stream",
     "text": [
      "Epoch 4/10, train_Loss: 3.1724, val_Loss: 1.8511 ,Val Accuracy: 0.3014, Precision: 0.3371, Recall: 0.3049\n",
      "当前最好的模型：acc : 0.3014 ,loss : 3.1724 ,precision : 0.3371 ,recall : 0.3049 ,ap : 0.1140 ,epoch : 3 \n"
     ]
    },
    {
     "name": "stderr",
     "output_type": "stream",
     "text": [
      "Training Epochs:  70%|███████   | 7/10 [01:03<00:26,  8.95s/it]"
     ]
    },
    {
     "name": "stdout",
     "output_type": "stream",
     "text": [
      "Epoch 7/10, train_Loss: 2.7227, val_Loss: 1.7123 ,Val Accuracy: 0.3862, Precision: 0.4399, Recall: 0.3869\n",
      "当前最好的模型：acc : 0.3862 ,loss : 2.7227 ,precision : 0.4399 ,recall : 0.3869 ,ap : 0.0895 ,epoch : 6 \n"
     ]
    },
    {
     "name": "stderr",
     "output_type": "stream",
     "text": [
      "Training Epochs: 100%|██████████| 10/10 [01:30<00:00,  9.02s/it]"
     ]
    },
    {
     "name": "stdout",
     "output_type": "stream",
     "text": [
      "Epoch 10/10, train_Loss: 2.4916, val_Loss: 1.6440 ,Val Accuracy: 0.4365, Precision: 0.4560, Recall: 0.4366\n",
      "当前最好的模型：acc : 0.4646 ,loss : 2.5472 ,precision : 0.4678 ,recall : 0.4645 ,ap : 0.0768 ,epoch : 8 \n"
     ]
    },
    {
     "name": "stderr",
     "output_type": "stream",
     "text": [
      "\n"
     ]
    }
   ],
   "source": [
    "\n",
    "bestMod=utils.BestSelector(acc=0)\n",
    "train_logs=utils.Logs()\n",
    "model=get_pretrained()\n",
    "# 定义损失函数和优化器\n",
    "criterion = nn.CrossEntropyLoss()\n",
    "# criterion = nn.BCELoss()\n",
    "if config.optim == \"Adam\":\n",
    "    optimizer = optim.Adam(model.parameters(), lr=config.lr)\n",
    "else:\n",
    "    optimizer = optim.SGD(model.parameters(), lr=config.lr, momentum=0.9, weight_decay=1e-4)\n",
    "    \n",
    "bestMod,train_logs=train_val.train_model(\n",
    "            model, \n",
    "            criterion,\n",
    "            optimizer, \n",
    "            train_loader,\n",
    "            val_loader,\n",
    "            bestMod=bestMod,\n",
    "            train_logs=train_logs,\n",
    "            config=config, \n",
    "            checkpoint_interval=10000,\n",
    "            show_progress_interval=3,\n",
    "            AMP=config.AMP,#是否使用混合精度训练\n",
    "            multi_loss_weight=[1,0.3,0.3],\n",
    "            lr_scheduler_step=0.7,#动态调整学习率\n",
    "            # num_epochs=config.epochs\n",
    "        )"
   ]
  },
  {
   "cell_type": "code",
   "execution_count": 10,
   "metadata": {},
   "outputs": [
    {
     "name": "stdout",
     "output_type": "stream",
     "text": [
      "10 epoch中 最好的模型\n",
      "acc : 0.4646 ,loss : 2.5472 ,precision : 0.4678 ,recall : 0.4645 ,ap : 0.0768 ,epoch : 8 \n"
     ]
    }
   ],
   "source": [
    "print(f\"{config.epochs} epoch中 最好的模型\")\n",
    "print(bestMod)"
   ]
  },
  {
   "cell_type": "markdown",
   "metadata": {},
   "source": [
    "#### 保存模型超参数和训练日志"
   ]
  },
  {
   "cell_type": "code",
   "execution_count": 11,
   "metadata": {},
   "outputs": [
    {
     "name": "stdout",
     "output_type": "stream",
     "text": [
      "save_weights\\GoogLeNet-acc=0.46464-loss=2.547-max_epochs=10\n",
      "{'acc': 0.46464, 'model': 'save_weights\\\\GoogLeNet-acc=0.46464-loss=2.547-max_epochs=10\\\\best.pth', 'loss': 2.547179395205354, 'precision': 0.4678222267426918, 'recall': 0.46452153807163954, 'ap': 0.07683312977270543, 'epoch': 8, 'checkpoints': {'checkpoint_0': 'save_weights\\\\GoogLeNet-acc=0.46464-loss=2.547-max_epochs=10\\\\checkpoint_0.pth'}}\n"
     ]
    }
   ],
   "source": [
    "saveDir=r'save_weights'\n",
    "saveDir=os.path.join(\n",
    "        saveDir,\n",
    "        f'{bestMod.model.__class__.__name__[:10]}-acc={round(bestMod.acc,5)}-loss={round(bestMod.loss,3)}-max_epochs={config.epochs}'\n",
    ")  \n",
    "utils.saveProcess(\n",
    "    saveDir=saveDir,\n",
    "    bestMod=bestMod,\n",
    "    train_log=train_logs,\n",
    "    config=config\n",
    ")"
   ]
  },
  {
   "cell_type": "markdown",
   "metadata": {},
   "source": [
    "#### 进行测试"
   ]
  },
  {
   "cell_type": "code",
   "execution_count": 12,
   "metadata": {},
   "outputs": [
    {
     "name": "stderr",
     "output_type": "stream",
     "text": [
      "模型测试中:: 100%|██████████| 20/20 [00:00<00:00, 20.04it/s]\n"
     ]
    },
    {
     "data": {
      "text/plain": [
       "{'Accuracy': 0.4648,\n",
       " 'Precision': 0.4795576732977538,\n",
       " 'Recall': 0.45892016149975506,\n",
       " 'F1': 0.4418734711952812,\n",
       " 'AP': 0.07774587217321764,\n",
       " 'Loss': 0.0}"
      ]
     },
     "execution_count": 12,
     "metadata": {},
     "output_type": "execute_result"
    }
   ],
   "source": [
    "import torch\n",
    "from utils import utils,train_val\n",
    "import os\n",
    "\n",
    "# config=Config(os.path.join(dir,'config.json'))\n",
    "# model=BestSelector(os.path.join(dir,'metrics.json'))\n",
    "# saveDir=r'save_weights\\BinaryClassificationMobileNetV3Large-acc=0.74336-loss=1.671334-max_epochs=40-1100'\n",
    "Model,config,logs=utils.loadProcess(saveDir=saveDir)\n",
    "metrics=train_val.validate_model(\n",
    "    model=Model.model,\n",
    "    val_loader=test_loader,\n",
    "    device=config.device,\n",
    "    only_val=True\n",
    ")\n",
    "\n",
    "metrics"
   ]
  },
  {
   "cell_type": "markdown",
   "metadata": {},
   "source": [
    "#### 保存数据到tensorboard"
   ]
  },
  {
   "cell_type": "code",
   "execution_count": 13,
   "metadata": {},
   "outputs": [],
   "source": [
    "from utils import metrics,utils\n",
    "recoder=metrics.TensorboardRecorder(#存到tensorboard显示\n",
    "    log_dir=\"runs/\",\n",
    "    input_shape=[4,3,128,128],\n",
    "    model=model\n",
    "\n",
    ")\n",
    "recoder.logs_scalars(\n",
    "    logs.logs,\n",
    "    prefix=\"train\"\n",
    ")"
   ]
  }
 ],
 "metadata": {
  "kernelspec": {
   "display_name": "sound",
   "language": "python",
   "name": "python3"
  },
  "language_info": {
   "codemirror_mode": {
    "name": "ipython",
    "version": 3
   },
   "file_extension": ".py",
   "mimetype": "text/x-python",
   "name": "python",
   "nbconvert_exporter": "python",
   "pygments_lexer": "ipython3",
   "version": "3.9.17"
  }
 },
 "nbformat": 4,
 "nbformat_minor": 2
}
