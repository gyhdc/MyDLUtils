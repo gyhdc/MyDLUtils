{
 "cells": [
  {
   "cell_type": "code",
   "execution_count": 1,
   "metadata": {},
   "outputs": [],
   "source": [
    "import os\n",
    "from PIL import Image\n",
    "import torch\n",
    "import torchvision\n",
    "from torch.utils.data import DataLoader, Dataset\n",
    "import torch.nn as nn\n",
    "import torchvision.transforms as transforms\n",
    "import torchvision.models as models\n",
    "import torch.optim as optim\n",
    "from utils import datasets\n",
    "from utils import utils\n",
    "from utils import train_val\n",
    "from utils import net #网络文件于此\n",
    "from utils import metrics\n",
    "import warnings\n",
    "# 完全禁用警告\n",
    "warnings.filterwarnings(\"ignore\")"
   ]
  },
  {
   "cell_type": "code",
   "execution_count": 2,
   "metadata": {},
   "outputs": [],
   "source": [
    "from utils.utils import Config,Logs,BestSelector\n",
    "config=utils.Config(\n",
    "    dataset_sep=[\n",
    "        0.82,0.17,0.01          \n",
    "        ],\n",
    "    resize_size=128,#图像尺寸\n",
    "    batch_size=128,\n",
    "    lr=0.0007,\n",
    "    epochs=200,#epoch轮数\n",
    "    hidden_size=256,\n",
    "    optim=\"Adam\",\n",
    "    momentum=0.9,\n",
    "    weight_decay=1e-4,\n",
    "    seed=42,\n",
    "    mean= [0.50638 ,0.49962538 ,0.45205265],\n",
    "    std=[0.23568255 ,0.24141274 ,0.25167742],\n",
    "    AMP=True,\n",
    "    checkpoint_interval=0.25,#只保存4个模型\n",
    "    source_dir=r\"Cifar-10\",#原始数据集，每个分类一个文件夹，每个文件夹里包含多个图片\n",
    "    data_path=r\"data\\Cifar-10\",#项目数据集\n",
    "    # classes=[\"Apple\",\"Carambola\",\"Pear\",\"Plum\",\"Tomatoes\"],\n",
    "    device=\"cuda\" if torch.cuda.is_available() else \"cpu\",\n",
    ")\n"
   ]
  },
  {
   "cell_type": "code",
   "execution_count": 3,
   "metadata": {},
   "outputs": [
    {
     "name": "stdout",
     "output_type": "stream",
     "text": [
      "data\\Cifar-10 数据集已存在，无需重新划分\n"
     ]
    }
   ],
   "source": [
    "from tqdm import tqdm\n",
    "\n",
    "torch.manual_seed(config.seed)\n",
    "isSplit= (not datasets.check_data_exist(config.data_path))#数据集不存在，则从原始数据存放处，转移数据集\n",
    "if isSplit:\n",
    "    print(f\"{config.data_path} 数据集不存在，将从source_dir:{config.source_dir}中获取数据\")\n",
    "    print(f\"清理源文件夹:{config.data_path}\")\n",
    "    datasets.clear_folder(config.data_path)\n",
    "    for dir in tqdm(config.classes,desc=\"处理原始数据：\"):\n",
    "        source_dir=os.path.join(config.source_dir, dir)\n",
    "        print(source_dir)\n",
    "        datasets.split_data(source_dir,target_dir=config.data_path,label=dir,sep=config.dataset_sep)\n",
    "else:\n",
    "    print(f\"{config.data_path} 数据集已存在，无需重新划分\")"
   ]
  },
  {
   "cell_type": "markdown",
   "metadata": {},
   "source": [
    "#### 本地数据集加载"
   ]
  },
  {
   "cell_type": "code",
   "execution_count": 4,
   "metadata": {},
   "outputs": [],
   "source": [
    "# def get_data_path(typ,path=config.data_path):\n",
    "#     return os.path.join(path,typ)\n",
    "# train_dataset=datasets.CustomImageDataset(\n",
    "#     get_data_path(\"train\"),#data/train\n",
    "#     classes=config.classes,\n",
    "#     transform=datasets.get_transform(\n",
    "#         resize_size=config.resize_size,\n",
    "#         mean=config.mean,std=config.std\n",
    "#         )\n",
    "# )"
   ]
  },
  {
   "cell_type": "markdown",
   "metadata": {},
   "source": [
    "#### 加载CIFAR-10数据集"
   ]
  },
  {
   "cell_type": "code",
   "execution_count": 5,
   "metadata": {},
   "outputs": [
    {
     "name": "stdout",
     "output_type": "stream",
     "text": [
      "Files already downloaded and verified\n",
      "Files already downloaded and verified\n",
      "原始训练集大小：37500\n",
      "原始验证集大小：12500\n",
      "原始测试集大小：10000\n"
     ]
    }
   ],
   "source": [
    "\n",
    "import torchvision\n",
    "train_val_dataset = torchvision.datasets.CIFAR10(\n",
    "    root='./data/Cifar-10', \n",
    "    train=True, \n",
    "    download=True, \n",
    "    transform=datasets.get_transform(\n",
    "        chance=\"train\",\n",
    "        resize_size=config.resize_size,\n",
    "        mean=(0.5, 0.5, 0.5), \n",
    "        std=(0.5, 0.5, 0.5)\n",
    "    )\n",
    ")\n",
    "train_dataset,val_dataset=datasets.get_parts_of_datasets(train_val_dataset,rate=0.75,only_train=False)#训练验证3-1开\n",
    "\n",
    "test_dataset = torchvision.datasets.CIFAR10(root='./data/Cifar-10', train=False, download=True, transform=datasets.get_transform(\n",
    "    chance=\"val\",\n",
    "    resize_size=config.resize_size,\n",
    "    mean=(0.5, 0.5, 0.5), \n",
    "    std=(0.5, 0.5, 0.5)\n",
    "))\n",
    "print(f\"原始训练集大小：{len(train_dataset)}\")\n",
    "print(f\"原始验证集大小：{len(val_dataset)}\")\n",
    "print(f\"原始测试集大小：{len(test_dataset)}\")"
   ]
  },
  {
   "cell_type": "markdown",
   "metadata": {},
   "source": [
    "##### load数据集，并根据数据量进行裁剪。CIFAR-10较大，本身为学习项目只取其中1/4数据进行训练测试"
   ]
  },
  {
   "cell_type": "code",
   "execution_count": 6,
   "metadata": {},
   "outputs": [
    {
     "name": "stdout",
     "output_type": "stream",
     "text": [
      "本次训练用训练集大小：7500\n",
      "本次训练用验证集大小：2500\n",
      "本次测试用测试集大小：2000\n",
      "tarin_dataloader加载完毕, 58个batch, batch大小为128\n",
      "val_dataloader  加载完毕, 20个batch, batch大小为128\n",
      "test_dataloader 加载完毕, 16个batch, batch大小为128\n"
     ]
    }
   ],
   "source": [
    "crop_rate=0.20\n",
    "train_dataset_crop=datasets.get_parts_of_datasets(train_dataset,crop_rate)\n",
    "val_dataset_crop=datasets.get_parts_of_datasets(val_dataset,crop_rate)\n",
    "test_dataset_crop=datasets.get_parts_of_datasets(test_dataset,crop_rate)\n",
    "train_dataset_size=len(train_dataset_crop)\n",
    "val_dataset_size=len(val_dataset_crop)\n",
    "test_dataset_size=len(test_dataset_crop)\n",
    "\n",
    "print(f\"本次训练用训练集大小：{len(train_dataset_crop)}\")\n",
    "print(f\"本次训练用验证集大小：{len(val_dataset_crop)}\")\n",
    "print(f\"本次测试用测试集大小：{len(test_dataset_crop)}\")\n",
    "\n",
    "train_loader=DataLoader(train_dataset_crop,batch_size=config.batch_size,shuffle=True,drop_last=True)\n",
    "val_loader=DataLoader(val_dataset_crop,batch_size=config.batch_size,shuffle=False)\n",
    "test_loader=DataLoader(test_dataset_crop,batch_size=config.batch_size,shuffle=False)\n",
    "\n",
    "print(f\"tarin_dataloader加载完毕, {len(train_loader)}个batch, batch大小为{config.batch_size}\")\n",
    "print(f\"val_dataloader  加载完毕, {len(val_loader)}个batch, batch大小为{config.batch_size}\")\n",
    "print(f\"test_dataloader 加载完毕, {len(test_loader)}个batch, batch大小为{config.batch_size}\")\n"
   ]
  },
  {
   "cell_type": "markdown",
   "metadata": {},
   "source": [
    "#### 记录本次训练和测试用的数据量，还有数据样本信息"
   ]
  },
  {
   "cell_type": "code",
   "execution_count": 7,
   "metadata": {},
   "outputs": [
    {
     "name": "stdout",
     "output_type": "stream",
     "text": [
      "torch.Size([128, 3, 128, 128])\n",
      "torch.Size([128])\n"
     ]
    }
   ],
   "source": [
    "#查看数据加载情况\n",
    "for inputs, labels in train_loader:\n",
    "    inputs=inputs.to(config.device)\n",
    "    labels=labels.to(config.device)\n",
    "    print(inputs.shape)\n",
    "    print(labels.shape)\n",
    "    config.update(\n",
    "        inputs_shape=inputs.shape\n",
    "        )\n",
    "    break\n",
    "config.update(\n",
    "    train_datasize=train_dataset_size,\n",
    "    val_datasetsize=val_dataset_size,\n",
    "    test_datasetsize=test_dataset_size,\n",
    "    datasets_crop_rate=crop_rate,\n",
    "    classes=train_val_dataset.classes,#原始数据集保留classes\n",
    ")\n"
   ]
  },
  {
   "cell_type": "markdown",
   "metadata": {},
   "source": [
    "#### 加载预训练模型"
   ]
  },
  {
   "cell_type": "code",
   "execution_count": 8,
   "metadata": {},
   "outputs": [
    {
     "name": "stdout",
     "output_type": "stream",
     "text": [
      "参数数量：11186890\n"
     ]
    },
    {
     "name": "stderr",
     "output_type": "stream",
     "text": [
      "Warm up ....: 100%|██████████| 100/100 [00:06<00:00, 14.45it/s]\n",
      "Testing ...: 100%|██████████| 300/300 [00:07<00:00, 37.91it/s]"
     ]
    },
    {
     "name": "stdout",
     "output_type": "stream",
     "text": [
      "推理一个batch的时间：0.02582885686238607 ms\n",
      "inference_time:0.02582885686238607 s\n",
      "parameters_num:11186890\n"
     ]
    },
    {
     "name": "stderr",
     "output_type": "stream",
     "text": [
      "\n"
     ]
    },
    {
     "data": {
      "text/plain": [
       "dataset_sep : [0.82, 0.17, 0.01] \n",
       "resize_size : 128 \n",
       "batch_size : 128 \n",
       "lr : 0.0007 \n",
       "epochs : 200 \n",
       "hidden_size : 256 \n",
       "optim : Adam \n",
       "momentum : 0.9 \n",
       "weight_decay : 0.0001 \n",
       "seed : 42 \n",
       "mean : [0.50638, 0.49962538, 0.45205265] \n",
       "std : [0.23568255, 0.24141274, 0.25167742] \n",
       "AMP : True \n",
       "checkpoint_interval : 0.25 \n",
       "source_dir : Cifar-10 \n",
       "data_path : data\\Cifar-10 \n",
       "device : cuda \n",
       "inputs_shape : torch.Size([128, 3, 128, 128]) \n",
       "train_datasize : 7500 \n",
       "val_datasetsize : 2500 \n",
       "test_datasetsize : 2000 \n",
       "datasets_crop_rate : 0.2 \n",
       "classes : ['airplane', 'automobile', 'bird', 'cat', 'deer', 'dog', 'frog', 'horse', 'ship', 'truck'] \n",
       "network : ResNet \n",
       "inference_time : 0.02582885686238607 \n",
       "parameters_num : 11186890 "
      ]
     },
     "execution_count": 8,
     "metadata": {},
     "output_type": "execute_result"
    }
   ],
   "source": [
    "\n",
    "def get_pretrained(config=config):\n",
    "    '''\n",
    "        获取预训练模型\n",
    "        @param config: 配置文件\n",
    "        @return: 预训练模型\n",
    "    '''\n",
    "    # model=net.BinaryClassificationMobileNetV3Large(out_size=len(config.classes))\n",
    "    # model=net.AutoCNN(\n",
    "    #     input_channels=3,\n",
    "    #     num_classes=len(config.classes),\n",
    "    #     input_size=config.inputs_shape[2:],\n",
    "    #     # hidden_channels_size_1=32,\n",
    "    #     # hidden_channels_size_2=64,\n",
    "    #     # hidden_channels_size_3=128,\n",
    "    #     # mlp_hidden_size=256\n",
    "    # )\n",
    "    model=net.ResNet(\n",
    "        num_classes=len(config.classes),\n",
    "        input_channels=config.inputs_shape[1],\n",
    "    )#最后全局池化层压下了尺寸，不需要提供输入尺寸\n",
    "    # model=net.AlexNet(\n",
    "    #     num_classes=len(config.classes),\n",
    "    # )\n",
    "    # model=net.VGGNet(\n",
    "    #     input_channels=config.inputs_shape[1],\n",
    "    #     num_classes=len(config.classes),\n",
    "    #     config=\"D\",\n",
    "    #     classifier_hidden_size=[4096,1024]\n",
    "    # )\n",
    "    # model=net.GoogLeNet(\n",
    "    #     input_channels=3,\n",
    "    #     num_classes=len(config.classes),\n",
    "    #     AAP_shape=(4,4),\n",
    "    #     aux_classify=True\n",
    "    # )\n",
    "    return model.to(config.device)\n",
    "\n",
    "test_model=get_pretrained()\n",
    "measurer=metrics.ModelMeasurer(test_model)\n",
    "unit=1\n",
    "parameters_num,inference_time=measurer.simply_check_model(input_shape=config.inputs_shape)\n",
    "print(f\"inference_time:{inference_time} s\")\n",
    "print(f\"parameters_num:{parameters_num}\")\n",
    "config.update(\n",
    "    network=test_model.__class__.__name__,\n",
    "    inference_time=inference_time,\n",
    "    parameters_num=parameters_num,\n",
    ")\n",
    "config"
   ]
  },
  {
   "cell_type": "markdown",
   "metadata": {},
   "source": [
    "#### 开始训练"
   ]
  },
  {
   "cell_type": "code",
   "execution_count": 9,
   "metadata": {},
   "outputs": [
    {
     "name": "stderr",
     "output_type": "stream",
     "text": [
      "Training Epochs:   0%|          | 1/200 [00:12<40:01, 12.07s/it]"
     ]
    },
    {
     "name": "stdout",
     "output_type": "stream",
     "text": [
      "Epoch 1/200, train_Loss: 1.9842, val_Loss: 1.9695 ,Val Accuracy: 0.2772, Precision: 0.3301, Recall: 0.2735\n",
      "当前最好的模型：acc : 0.2772 ,loss : 1.9842 ,precision : 0.3301 ,recall : 0.2735 ,ap : 0.1164 ,epoch : 0 \n"
     ]
    },
    {
     "name": "stderr",
     "output_type": "stream",
     "text": [
      "Training Epochs:   2%|▏         | 4/200 [00:47<38:57, 11.93s/it]"
     ]
    },
    {
     "name": "stdout",
     "output_type": "stream",
     "text": [
      "Epoch 4/200, train_Loss: 1.5978, val_Loss: 1.6915 ,Val Accuracy: 0.3944, Precision: 0.4308, Recall: 0.3939\n",
      "当前最好的模型：acc : 0.3944 ,loss : 1.5978 ,precision : 0.4308 ,recall : 0.3939 ,ap : 0.1426 ,epoch : 3 \n"
     ]
    },
    {
     "name": "stderr",
     "output_type": "stream",
     "text": [
      "Training Epochs:   4%|▎         | 7/200 [01:24<39:09, 12.17s/it]"
     ]
    },
    {
     "name": "stdout",
     "output_type": "stream",
     "text": [
      "Epoch 7/200, train_Loss: 1.4472, val_Loss: 1.6017 ,Val Accuracy: 0.4232, Precision: 0.4788, Recall: 0.4237\n",
      "当前最好的模型：acc : 0.4340 ,loss : 1.5391 ,precision : 0.4567 ,recall : 0.4297 ,ap : 0.1411 ,epoch : 4 \n"
     ]
    },
    {
     "name": "stderr",
     "output_type": "stream",
     "text": [
      "Training Epochs:   5%|▌         | 10/200 [02:01<39:24, 12.45s/it]"
     ]
    },
    {
     "name": "stdout",
     "output_type": "stream",
     "text": [
      "Epoch 10/200, train_Loss: 1.2807, val_Loss: 1.4047 ,Val Accuracy: 0.5064, Precision: 0.5364, Recall: 0.5060\n",
      "当前最好的模型：acc : 0.5064 ,loss : 1.2807 ,precision : 0.5364 ,recall : 0.5060 ,ap : 0.1177 ,epoch : 9 \n"
     ]
    },
    {
     "name": "stderr",
     "output_type": "stream",
     "text": [
      "Training Epochs:   6%|▋         | 13/200 [02:42<41:50, 13.43s/it]"
     ]
    },
    {
     "name": "stdout",
     "output_type": "stream",
     "text": [
      "Epoch 13/200, train_Loss: 1.1517, val_Loss: 1.4574 ,Val Accuracy: 0.5112, Precision: 0.5481, Recall: 0.5095\n",
      "当前最好的模型：acc : 0.5112 ,loss : 1.1517 ,precision : 0.5481 ,recall : 0.5095 ,ap : 0.0976 ,epoch : 12 \n"
     ]
    },
    {
     "name": "stderr",
     "output_type": "stream",
     "text": [
      "Training Epochs:   8%|▊         | 16/200 [03:21<39:42, 12.95s/it]"
     ]
    },
    {
     "name": "stdout",
     "output_type": "stream",
     "text": [
      "Epoch 16/200, train_Loss: 1.0678, val_Loss: 1.3967 ,Val Accuracy: 0.5272, Precision: 0.5847, Recall: 0.5232\n",
      "当前最好的模型：acc : 0.5560 ,loss : 1.1179 ,precision : 0.5806 ,recall : 0.5550 ,ap : 0.1160 ,epoch : 14 \n"
     ]
    },
    {
     "name": "stderr",
     "output_type": "stream",
     "text": [
      "Training Epochs:  10%|▉         | 19/200 [03:57<37:23, 12.40s/it]"
     ]
    },
    {
     "name": "stdout",
     "output_type": "stream",
     "text": [
      "Epoch 19/200, train_Loss: 0.9513, val_Loss: 1.2588 ,Val Accuracy: 0.5728, Precision: 0.5903, Recall: 0.5718\n",
      "当前最好的模型：acc : 0.5728 ,loss : 0.9513 ,precision : 0.5903 ,recall : 0.5718 ,ap : 0.1159 ,epoch : 18 \n"
     ]
    },
    {
     "name": "stderr",
     "output_type": "stream",
     "text": [
      "Training Epochs:  11%|█         | 22/200 [04:34<36:18, 12.24s/it]"
     ]
    },
    {
     "name": "stdout",
     "output_type": "stream",
     "text": [
      "Epoch 22/200, train_Loss: 0.9002, val_Loss: 1.2975 ,Val Accuracy: 0.5564, Precision: 0.5825, Recall: 0.5575\n",
      "当前最好的模型：acc : 0.5908 ,loss : 0.9199 ,precision : 0.6104 ,recall : 0.5887 ,ap : 0.0960 ,epoch : 20 \n"
     ]
    },
    {
     "name": "stderr",
     "output_type": "stream",
     "text": [
      "Training Epochs:  12%|█▎        | 25/200 [05:12<36:50, 12.63s/it]"
     ]
    },
    {
     "name": "stdout",
     "output_type": "stream",
     "text": [
      "Epoch 25/200, train_Loss: 0.8335, val_Loss: 1.2106 ,Val Accuracy: 0.6024, Precision: 0.6351, Recall: 0.6035\n",
      "当前最好的模型：acc : 0.6024 ,loss : 0.8335 ,precision : 0.6351 ,recall : 0.6035 ,ap : 0.1141 ,epoch : 24 \n"
     ]
    },
    {
     "name": "stderr",
     "output_type": "stream",
     "text": [
      "Training Epochs:  14%|█▍        | 28/200 [05:48<34:37, 12.08s/it]"
     ]
    },
    {
     "name": "stdout",
     "output_type": "stream",
     "text": [
      "Epoch 28/200, train_Loss: 0.7914, val_Loss: 1.1468 ,Val Accuracy: 0.6148, Precision: 0.6365, Recall: 0.6152\n",
      "当前最好的模型：acc : 0.6148 ,loss : 0.7914 ,precision : 0.6365 ,recall : 0.6152 ,ap : 0.0987 ,epoch : 27 \n"
     ]
    },
    {
     "name": "stderr",
     "output_type": "stream",
     "text": [
      "Training Epochs:  16%|█▌        | 31/200 [06:24<33:57, 12.05s/it]"
     ]
    },
    {
     "name": "stdout",
     "output_type": "stream",
     "text": [
      "Epoch 31/200, train_Loss: 0.7133, val_Loss: 1.1124 ,Val Accuracy: 0.6284, Precision: 0.6500, Recall: 0.6272\n",
      "当前最好的模型：acc : 0.6284 ,loss : 0.7133 ,precision : 0.6500 ,recall : 0.6272 ,ap : 0.0998 ,epoch : 30 \n"
     ]
    },
    {
     "name": "stderr",
     "output_type": "stream",
     "text": [
      "Training Epochs:  17%|█▋        | 34/200 [07:10<37:34, 13.58s/it]"
     ]
    },
    {
     "name": "stdout",
     "output_type": "stream",
     "text": [
      "Epoch 34/200, train_Loss: 0.6751, val_Loss: 1.1338 ,Val Accuracy: 0.6332, Precision: 0.6499, Recall: 0.6292\n",
      "当前最好的模型：acc : 0.6464 ,loss : 0.6843 ,precision : 0.6590 ,recall : 0.6445 ,ap : 0.1117 ,epoch : 32 \n"
     ]
    },
    {
     "name": "stderr",
     "output_type": "stream",
     "text": [
      "Training Epochs:  18%|█▊        | 37/200 [07:49<36:14, 13.34s/it]"
     ]
    },
    {
     "name": "stdout",
     "output_type": "stream",
     "text": [
      "Epoch 37/200, train_Loss: 0.6130, val_Loss: 1.1070 ,Val Accuracy: 0.6432, Precision: 0.6610, Recall: 0.6429\n",
      "当前最好的模型：acc : 0.6464 ,loss : 0.6843 ,precision : 0.6590 ,recall : 0.6445 ,ap : 0.1117 ,epoch : 32 \n"
     ]
    },
    {
     "name": "stderr",
     "output_type": "stream",
     "text": [
      "Training Epochs:  20%|██        | 40/200 [08:26<33:43, 12.65s/it]"
     ]
    },
    {
     "name": "stdout",
     "output_type": "stream",
     "text": [
      "Epoch 40/200, train_Loss: 0.5810, val_Loss: 1.1000 ,Val Accuracy: 0.6424, Precision: 0.6539, Recall: 0.6403\n",
      "当前最好的模型：acc : 0.6464 ,loss : 0.6843 ,precision : 0.6590 ,recall : 0.6445 ,ap : 0.1117 ,epoch : 32 \n"
     ]
    },
    {
     "name": "stderr",
     "output_type": "stream",
     "text": [
      "Training Epochs:  22%|██▏       | 43/200 [09:03<32:28, 12.41s/it]"
     ]
    },
    {
     "name": "stdout",
     "output_type": "stream",
     "text": [
      "Epoch 43/200, train_Loss: 0.5338, val_Loss: 1.2747 ,Val Accuracy: 0.6368, Precision: 0.6712, Recall: 0.6363\n",
      "当前最好的模型：acc : 0.6696 ,loss : 0.5321 ,precision : 0.6893 ,recall : 0.6699 ,ap : 0.0976 ,epoch : 41 \n"
     ]
    },
    {
     "name": "stderr",
     "output_type": "stream",
     "text": [
      "Training Epochs:  23%|██▎       | 46/200 [09:36<29:17, 11.41s/it]"
     ]
    },
    {
     "name": "stdout",
     "output_type": "stream",
     "text": [
      "Epoch 46/200, train_Loss: 0.4709, val_Loss: 1.2820 ,Val Accuracy: 0.6208, Precision: 0.6753, Recall: 0.6185\n",
      "当前最好的模型：acc : 0.6696 ,loss : 0.5321 ,precision : 0.6893 ,recall : 0.6699 ,ap : 0.0976 ,epoch : 41 \n"
     ]
    },
    {
     "name": "stderr",
     "output_type": "stream",
     "text": [
      "Training Epochs:  24%|██▍       | 49/200 [10:08<27:32, 10.95s/it]"
     ]
    },
    {
     "name": "stdout",
     "output_type": "stream",
     "text": [
      "Epoch 49/200, train_Loss: 0.4644, val_Loss: 1.2122 ,Val Accuracy: 0.6484, Precision: 0.6709, Recall: 0.6496\n",
      "当前最好的模型：acc : 0.6696 ,loss : 0.5321 ,precision : 0.6893 ,recall : 0.6699 ,ap : 0.0976 ,epoch : 41 \n"
     ]
    },
    {
     "name": "stderr",
     "output_type": "stream",
     "text": [
      "Training Epochs:  26%|██▌       | 52/200 [10:41<26:48, 10.87s/it]"
     ]
    },
    {
     "name": "stdout",
     "output_type": "stream",
     "text": [
      "Epoch 52/200, train_Loss: 0.4116, val_Loss: 1.2173 ,Val Accuracy: 0.6492, Precision: 0.6663, Recall: 0.6476\n",
      "当前最好的模型：acc : 0.6696 ,loss : 0.5321 ,precision : 0.6893 ,recall : 0.6699 ,ap : 0.0976 ,epoch : 41 \n"
     ]
    },
    {
     "name": "stderr",
     "output_type": "stream",
     "text": [
      "Training Epochs:  28%|██▊       | 55/200 [11:13<26:02, 10.77s/it]"
     ]
    },
    {
     "name": "stdout",
     "output_type": "stream",
     "text": [
      "Epoch 55/200, train_Loss: 0.3656, val_Loss: 1.2169 ,Val Accuracy: 0.6616, Precision: 0.6874, Recall: 0.6621\n",
      "当前最好的模型：acc : 0.6696 ,loss : 0.3867 ,precision : 0.6743 ,recall : 0.6674 ,ap : 0.0982 ,epoch : 53 \n"
     ]
    },
    {
     "name": "stderr",
     "output_type": "stream",
     "text": [
      "Training Epochs:  29%|██▉       | 58/200 [11:47<26:27, 11.18s/it]"
     ]
    },
    {
     "name": "stdout",
     "output_type": "stream",
     "text": [
      "Epoch 58/200, train_Loss: 0.3429, val_Loss: 1.2865 ,Val Accuracy: 0.6624, Precision: 0.6586, Recall: 0.6604\n",
      "当前最好的模型：acc : 0.6800 ,loss : 0.3654 ,precision : 0.6830 ,recall : 0.6792 ,ap : 0.0805 ,epoch : 55 \n"
     ]
    },
    {
     "name": "stderr",
     "output_type": "stream",
     "text": [
      "Training Epochs:  30%|███       | 61/200 [12:21<25:57, 11.21s/it]"
     ]
    },
    {
     "name": "stdout",
     "output_type": "stream",
     "text": [
      "Epoch 61/200, train_Loss: 0.3316, val_Loss: 1.1627 ,Val Accuracy: 0.6728, Precision: 0.6759, Recall: 0.6708\n",
      "当前最好的模型：acc : 0.6800 ,loss : 0.3654 ,precision : 0.6830 ,recall : 0.6792 ,ap : 0.0805 ,epoch : 55 \n"
     ]
    },
    {
     "name": "stderr",
     "output_type": "stream",
     "text": [
      "Training Epochs:  32%|███▏      | 64/200 [12:54<25:19, 11.17s/it]"
     ]
    },
    {
     "name": "stdout",
     "output_type": "stream",
     "text": [
      "Epoch 64/200, train_Loss: 0.2762, val_Loss: 1.2895 ,Val Accuracy: 0.6660, Precision: 0.6662, Recall: 0.6637\n",
      "当前最好的模型：acc : 0.6796 ,loss : 0.2913 ,precision : 0.6977 ,recall : 0.6809 ,ap : 0.0961 ,epoch : 61 \n"
     ]
    },
    {
     "name": "stderr",
     "output_type": "stream",
     "text": [
      "Training Epochs:  34%|███▎      | 67/200 [13:26<24:04, 10.86s/it]"
     ]
    },
    {
     "name": "stdout",
     "output_type": "stream",
     "text": [
      "Epoch 67/200, train_Loss: 0.2604, val_Loss: 1.2034 ,Val Accuracy: 0.6772, Precision: 0.6765, Recall: 0.6755\n",
      "当前最好的模型：acc : 0.6860 ,loss : 0.2680 ,precision : 0.6855 ,recall : 0.6853 ,ap : 0.0854 ,epoch : 65 \n"
     ]
    },
    {
     "name": "stderr",
     "output_type": "stream",
     "text": [
      "Training Epochs:  35%|███▌      | 70/200 [13:59<23:16, 10.74s/it]"
     ]
    },
    {
     "name": "stdout",
     "output_type": "stream",
     "text": [
      "Epoch 70/200, train_Loss: 0.2677, val_Loss: 1.2236 ,Val Accuracy: 0.6688, Precision: 0.6862, Recall: 0.6687\n",
      "当前最好的模型：acc : 0.6860 ,loss : 0.2680 ,precision : 0.6855 ,recall : 0.6853 ,ap : 0.0854 ,epoch : 65 \n"
     ]
    },
    {
     "name": "stderr",
     "output_type": "stream",
     "text": [
      "Training Epochs:  36%|███▋      | 73/200 [14:31<23:06, 10.92s/it]"
     ]
    },
    {
     "name": "stdout",
     "output_type": "stream",
     "text": [
      "Epoch 73/200, train_Loss: 0.2362, val_Loss: 1.2458 ,Val Accuracy: 0.6768, Precision: 0.6807, Recall: 0.6775\n",
      "当前最好的模型：acc : 0.6984 ,loss : 0.2389 ,precision : 0.7004 ,recall : 0.6982 ,ap : 0.0964 ,epoch : 70 \n"
     ]
    },
    {
     "name": "stderr",
     "output_type": "stream",
     "text": [
      "Training Epochs:  38%|███▊      | 76/200 [15:07<23:56, 11.59s/it]"
     ]
    },
    {
     "name": "stdout",
     "output_type": "stream",
     "text": [
      "Epoch 76/200, train_Loss: 0.2428, val_Loss: 1.2310 ,Val Accuracy: 0.6816, Precision: 0.6906, Recall: 0.6815\n",
      "当前最好的模型：acc : 0.6984 ,loss : 0.2389 ,precision : 0.7004 ,recall : 0.6982 ,ap : 0.0964 ,epoch : 70 \n"
     ]
    },
    {
     "name": "stderr",
     "output_type": "stream",
     "text": [
      "Training Epochs:  40%|███▉      | 79/200 [15:41<22:45, 11.28s/it]"
     ]
    },
    {
     "name": "stdout",
     "output_type": "stream",
     "text": [
      "Epoch 79/200, train_Loss: 0.2132, val_Loss: 1.2078 ,Val Accuracy: 0.6932, Precision: 0.6961, Recall: 0.6929\n",
      "当前最好的模型：acc : 0.6984 ,loss : 0.2389 ,precision : 0.7004 ,recall : 0.6982 ,ap : 0.0964 ,epoch : 70 \n"
     ]
    },
    {
     "name": "stderr",
     "output_type": "stream",
     "text": [
      "Training Epochs:  41%|████      | 82/200 [16:13<21:19, 10.85s/it]"
     ]
    },
    {
     "name": "stdout",
     "output_type": "stream",
     "text": [
      "Epoch 82/200, train_Loss: 0.1728, val_Loss: 1.2402 ,Val Accuracy: 0.6884, Precision: 0.6937, Recall: 0.6861\n",
      "当前最好的模型：acc : 0.6984 ,loss : 0.2389 ,precision : 0.7004 ,recall : 0.6982 ,ap : 0.0964 ,epoch : 70 \n"
     ]
    },
    {
     "name": "stderr",
     "output_type": "stream",
     "text": [
      "Training Epochs:  42%|████▎     | 85/200 [16:46<21:16, 11.10s/it]"
     ]
    },
    {
     "name": "stdout",
     "output_type": "stream",
     "text": [
      "Epoch 85/200, train_Loss: 0.1966, val_Loss: 1.2620 ,Val Accuracy: 0.6900, Precision: 0.6972, Recall: 0.6891\n",
      "当前最好的模型：acc : 0.6984 ,loss : 0.2389 ,precision : 0.7004 ,recall : 0.6982 ,ap : 0.0964 ,epoch : 70 \n"
     ]
    },
    {
     "name": "stderr",
     "output_type": "stream",
     "text": [
      "Training Epochs:  44%|████▍     | 88/200 [17:20<20:50, 11.17s/it]"
     ]
    },
    {
     "name": "stdout",
     "output_type": "stream",
     "text": [
      "Epoch 88/200, train_Loss: 0.1703, val_Loss: 1.4466 ,Val Accuracy: 0.6740, Precision: 0.6902, Recall: 0.6737\n",
      "当前最好的模型：acc : 0.6984 ,loss : 0.2389 ,precision : 0.7004 ,recall : 0.6982 ,ap : 0.0964 ,epoch : 70 \n"
     ]
    },
    {
     "name": "stderr",
     "output_type": "stream",
     "text": [
      "Training Epochs:  46%|████▌     | 91/200 [17:52<19:46, 10.89s/it]"
     ]
    },
    {
     "name": "stdout",
     "output_type": "stream",
     "text": [
      "Epoch 91/200, train_Loss: 0.1618, val_Loss: 1.2901 ,Val Accuracy: 0.6800, Precision: 0.6864, Recall: 0.6802\n",
      "当前最好的模型：acc : 0.6984 ,loss : 0.2389 ,precision : 0.7004 ,recall : 0.6982 ,ap : 0.0964 ,epoch : 70 \n"
     ]
    },
    {
     "name": "stderr",
     "output_type": "stream",
     "text": [
      "Training Epochs:  47%|████▋     | 94/200 [18:25<19:20, 10.95s/it]"
     ]
    },
    {
     "name": "stdout",
     "output_type": "stream",
     "text": [
      "Epoch 94/200, train_Loss: 0.1600, val_Loss: 1.3293 ,Val Accuracy: 0.6780, Precision: 0.6937, Recall: 0.6754\n",
      "当前最好的模型：acc : 0.6980 ,loss : 0.1648 ,precision : 0.7072 ,recall : 0.6980 ,ap : 0.1006 ,epoch : 91 \n"
     ]
    },
    {
     "name": "stderr",
     "output_type": "stream",
     "text": [
      "Training Epochs:  48%|████▊     | 97/200 [18:57<18:34, 10.82s/it]"
     ]
    },
    {
     "name": "stdout",
     "output_type": "stream",
     "text": [
      "Epoch 97/200, train_Loss: 0.1492, val_Loss: 1.3194 ,Val Accuracy: 0.6956, Precision: 0.6915, Recall: 0.6939\n",
      "当前最好的模型：acc : 0.6980 ,loss : 0.1648 ,precision : 0.7072 ,recall : 0.6980 ,ap : 0.1006 ,epoch : 91 \n"
     ]
    },
    {
     "name": "stderr",
     "output_type": "stream",
     "text": [
      "Training Epochs:  50%|█████     | 100/200 [19:30<18:20, 11.01s/it]"
     ]
    },
    {
     "name": "stdout",
     "output_type": "stream",
     "text": [
      "Epoch 100/200, train_Loss: 0.1345, val_Loss: 1.2141 ,Val Accuracy: 0.6860, Precision: 0.6842, Recall: 0.6852\n",
      "当前最好的模型：acc : 0.6980 ,loss : 0.1648 ,precision : 0.7072 ,recall : 0.6980 ,ap : 0.1006 ,epoch : 91 \n"
     ]
    },
    {
     "name": "stderr",
     "output_type": "stream",
     "text": [
      "Training Epochs:  52%|█████▏    | 103/200 [20:03<17:41, 10.94s/it]"
     ]
    },
    {
     "name": "stdout",
     "output_type": "stream",
     "text": [
      "Epoch 103/200, train_Loss: 0.1369, val_Loss: 1.2832 ,Val Accuracy: 0.6924, Precision: 0.6984, Recall: 0.6902\n",
      "当前最好的模型：acc : 0.6980 ,loss : 0.1648 ,precision : 0.7072 ,recall : 0.6980 ,ap : 0.1006 ,epoch : 91 \n"
     ]
    },
    {
     "name": "stderr",
     "output_type": "stream",
     "text": [
      "Training Epochs:  53%|█████▎    | 106/200 [20:36<17:01, 10.87s/it]"
     ]
    },
    {
     "name": "stdout",
     "output_type": "stream",
     "text": [
      "Epoch 106/200, train_Loss: 0.1386, val_Loss: 1.3596 ,Val Accuracy: 0.6800, Precision: 0.6872, Recall: 0.6785\n",
      "当前最好的模型：acc : 0.6976 ,loss : 0.1361 ,precision : 0.7096 ,recall : 0.6979 ,ap : 0.1027 ,epoch : 104 \n"
     ]
    },
    {
     "name": "stderr",
     "output_type": "stream",
     "text": [
      "Training Epochs:  55%|█████▍    | 109/200 [21:09<16:51, 11.12s/it]"
     ]
    },
    {
     "name": "stdout",
     "output_type": "stream",
     "text": [
      "Epoch 109/200, train_Loss: 0.1396, val_Loss: 1.4647 ,Val Accuracy: 0.6880, Precision: 0.6965, Recall: 0.6869\n",
      "当前最好的模型：acc : 0.6988 ,loss : 0.1334 ,precision : 0.7014 ,recall : 0.6980 ,ap : 0.0931 ,epoch : 106 \n"
     ]
    },
    {
     "name": "stderr",
     "output_type": "stream",
     "text": [
      "Training Epochs:  56%|█████▌    | 112/200 [21:46<17:24, 11.87s/it]"
     ]
    },
    {
     "name": "stdout",
     "output_type": "stream",
     "text": [
      "Epoch 112/200, train_Loss: 0.1434, val_Loss: 1.2148 ,Val Accuracy: 0.7112, Precision: 0.7180, Recall: 0.7101\n",
      "当前最好的模型：acc : 0.7112 ,loss : 0.1434 ,precision : 0.7180 ,recall : 0.7101 ,ap : 0.0944 ,epoch : 111 \n"
     ]
    },
    {
     "name": "stderr",
     "output_type": "stream",
     "text": [
      "Training Epochs:  57%|█████▊    | 115/200 [22:24<17:42, 12.50s/it]"
     ]
    },
    {
     "name": "stdout",
     "output_type": "stream",
     "text": [
      "Epoch 115/200, train_Loss: 0.1278, val_Loss: 1.3339 ,Val Accuracy: 0.7060, Precision: 0.7123, Recall: 0.7065\n",
      "当前最好的模型：acc : 0.7112 ,loss : 0.1434 ,precision : 0.7180 ,recall : 0.7101 ,ap : 0.0944 ,epoch : 111 \n"
     ]
    },
    {
     "name": "stderr",
     "output_type": "stream",
     "text": [
      "Training Epochs:  59%|█████▉    | 118/200 [23:01<16:38, 12.18s/it]"
     ]
    },
    {
     "name": "stdout",
     "output_type": "stream",
     "text": [
      "Epoch 118/200, train_Loss: 0.1230, val_Loss: 1.3694 ,Val Accuracy: 0.6864, Precision: 0.7005, Recall: 0.6859\n",
      "当前最好的模型：acc : 0.7112 ,loss : 0.1434 ,precision : 0.7180 ,recall : 0.7101 ,ap : 0.0944 ,epoch : 111 \n"
     ]
    },
    {
     "name": "stderr",
     "output_type": "stream",
     "text": [
      "Training Epochs:  60%|██████    | 121/200 [23:34<15:20, 11.66s/it]"
     ]
    },
    {
     "name": "stdout",
     "output_type": "stream",
     "text": [
      "Epoch 121/200, train_Loss: 0.1195, val_Loss: 1.3382 ,Val Accuracy: 0.7004, Precision: 0.7036, Recall: 0.6991\n",
      "当前最好的模型：acc : 0.7112 ,loss : 0.1434 ,precision : 0.7180 ,recall : 0.7101 ,ap : 0.0944 ,epoch : 111 \n"
     ]
    },
    {
     "name": "stderr",
     "output_type": "stream",
     "text": [
      "Training Epochs:  62%|██████▏   | 124/200 [24:09<14:28, 11.43s/it]"
     ]
    },
    {
     "name": "stdout",
     "output_type": "stream",
     "text": [
      "Epoch 124/200, train_Loss: 0.1121, val_Loss: 1.3331 ,Val Accuracy: 0.7084, Precision: 0.7083, Recall: 0.7097\n",
      "当前最好的模型：acc : 0.7112 ,loss : 0.1434 ,precision : 0.7180 ,recall : 0.7101 ,ap : 0.0944 ,epoch : 111 \n"
     ]
    },
    {
     "name": "stderr",
     "output_type": "stream",
     "text": [
      "Training Epochs:  64%|██████▎   | 127/200 [24:44<14:14, 11.71s/it]"
     ]
    },
    {
     "name": "stdout",
     "output_type": "stream",
     "text": [
      "Epoch 127/200, train_Loss: 0.1172, val_Loss: 1.3715 ,Val Accuracy: 0.6952, Precision: 0.7118, Recall: 0.6962\n",
      "当前最好的模型：acc : 0.7112 ,loss : 0.1434 ,precision : 0.7180 ,recall : 0.7101 ,ap : 0.0944 ,epoch : 111 \n"
     ]
    },
    {
     "name": "stderr",
     "output_type": "stream",
     "text": [
      "Training Epochs:  65%|██████▌   | 130/200 [25:27<15:55, 13.65s/it]"
     ]
    },
    {
     "name": "stdout",
     "output_type": "stream",
     "text": [
      "Epoch 130/200, train_Loss: 0.1002, val_Loss: 1.3374 ,Val Accuracy: 0.7084, Precision: 0.7056, Recall: 0.7070\n",
      "当前最好的模型：acc : 0.7108 ,loss : 0.0912 ,precision : 0.7142 ,recall : 0.7101 ,ap : 0.0898 ,epoch : 127 \n"
     ]
    },
    {
     "name": "stderr",
     "output_type": "stream",
     "text": [
      "Training Epochs:  66%|██████▋   | 133/200 [26:06<14:37, 13.09s/it]"
     ]
    },
    {
     "name": "stdout",
     "output_type": "stream",
     "text": [
      "Epoch 133/200, train_Loss: 0.0940, val_Loss: 1.4694 ,Val Accuracy: 0.6936, Precision: 0.6954, Recall: 0.6923\n",
      "当前最好的模型：acc : 0.7108 ,loss : 0.0912 ,precision : 0.7142 ,recall : 0.7101 ,ap : 0.0898 ,epoch : 127 \n"
     ]
    },
    {
     "name": "stderr",
     "output_type": "stream",
     "text": [
      "Training Epochs:  68%|██████▊   | 136/200 [26:43<13:32, 12.69s/it]"
     ]
    },
    {
     "name": "stdout",
     "output_type": "stream",
     "text": [
      "Epoch 136/200, train_Loss: 0.0937, val_Loss: 1.4337 ,Val Accuracy: 0.6924, Precision: 0.7025, Recall: 0.6909\n",
      "当前最好的模型：acc : 0.7108 ,loss : 0.0912 ,precision : 0.7142 ,recall : 0.7101 ,ap : 0.0898 ,epoch : 127 \n"
     ]
    },
    {
     "name": "stderr",
     "output_type": "stream",
     "text": [
      "Training Epochs:  70%|██████▉   | 139/200 [27:16<11:37, 11.44s/it]"
     ]
    },
    {
     "name": "stdout",
     "output_type": "stream",
     "text": [
      "Epoch 139/200, train_Loss: 0.0937, val_Loss: 1.4025 ,Val Accuracy: 0.7032, Precision: 0.7072, Recall: 0.7030\n",
      "当前最好的模型：acc : 0.7108 ,loss : 0.0912 ,precision : 0.7142 ,recall : 0.7101 ,ap : 0.0898 ,epoch : 127 \n"
     ]
    },
    {
     "name": "stderr",
     "output_type": "stream",
     "text": [
      "Training Epochs:  71%|███████   | 142/200 [27:48<10:38, 11.01s/it]"
     ]
    },
    {
     "name": "stdout",
     "output_type": "stream",
     "text": [
      "Epoch 142/200, train_Loss: 0.0949, val_Loss: 1.4046 ,Val Accuracy: 0.6920, Precision: 0.6985, Recall: 0.6923\n",
      "当前最好的模型：acc : 0.7108 ,loss : 0.0912 ,precision : 0.7142 ,recall : 0.7101 ,ap : 0.0898 ,epoch : 127 \n"
     ]
    },
    {
     "name": "stderr",
     "output_type": "stream",
     "text": [
      "Training Epochs:  72%|███████▎  | 145/200 [28:20<09:45, 10.64s/it]"
     ]
    },
    {
     "name": "stdout",
     "output_type": "stream",
     "text": [
      "Epoch 145/200, train_Loss: 0.0980, val_Loss: 1.3625 ,Val Accuracy: 0.7032, Precision: 0.7034, Recall: 0.7016\n",
      "当前最好的模型：acc : 0.7108 ,loss : 0.0912 ,precision : 0.7142 ,recall : 0.7101 ,ap : 0.0898 ,epoch : 127 \n"
     ]
    },
    {
     "name": "stderr",
     "output_type": "stream",
     "text": [
      "Training Epochs:  74%|███████▍  | 148/200 [28:52<09:23, 10.84s/it]"
     ]
    },
    {
     "name": "stdout",
     "output_type": "stream",
     "text": [
      "Epoch 148/200, train_Loss: 0.0900, val_Loss: 1.4468 ,Val Accuracy: 0.6988, Precision: 0.7085, Recall: 0.6974\n",
      "当前最好的模型：acc : 0.7108 ,loss : 0.0912 ,precision : 0.7142 ,recall : 0.7101 ,ap : 0.0898 ,epoch : 127 \n"
     ]
    },
    {
     "name": "stderr",
     "output_type": "stream",
     "text": [
      "Training Epochs:  76%|███████▌  | 151/200 [29:25<08:52, 10.87s/it]"
     ]
    },
    {
     "name": "stdout",
     "output_type": "stream",
     "text": [
      "Epoch 151/200, train_Loss: 0.0807, val_Loss: 1.4693 ,Val Accuracy: 0.6960, Precision: 0.6965, Recall: 0.6944\n",
      "当前最好的模型：acc : 0.7108 ,loss : 0.0912 ,precision : 0.7142 ,recall : 0.7101 ,ap : 0.0898 ,epoch : 127 \n"
     ]
    },
    {
     "name": "stderr",
     "output_type": "stream",
     "text": [
      "Training Epochs:  77%|███████▋  | 154/200 [30:00<08:47, 11.47s/it]"
     ]
    },
    {
     "name": "stdout",
     "output_type": "stream",
     "text": [
      "Epoch 154/200, train_Loss: 0.0910, val_Loss: 1.3509 ,Val Accuracy: 0.6976, Precision: 0.7023, Recall: 0.6974\n",
      "当前最好的模型：acc : 0.7108 ,loss : 0.0912 ,precision : 0.7142 ,recall : 0.7101 ,ap : 0.0898 ,epoch : 127 \n"
     ]
    },
    {
     "name": "stderr",
     "output_type": "stream",
     "text": [
      "Training Epochs:  78%|███████▊  | 157/200 [30:37<08:33, 11.95s/it]"
     ]
    },
    {
     "name": "stdout",
     "output_type": "stream",
     "text": [
      "Epoch 157/200, train_Loss: 0.0768, val_Loss: 1.4205 ,Val Accuracy: 0.7076, Precision: 0.7066, Recall: 0.7075\n",
      "当前最好的模型：acc : 0.7108 ,loss : 0.0912 ,precision : 0.7142 ,recall : 0.7101 ,ap : 0.0898 ,epoch : 127 \n"
     ]
    },
    {
     "name": "stderr",
     "output_type": "stream",
     "text": [
      "Training Epochs:  80%|████████  | 160/200 [31:14<08:08, 12.22s/it]"
     ]
    },
    {
     "name": "stdout",
     "output_type": "stream",
     "text": [
      "Epoch 160/200, train_Loss: 0.0864, val_Loss: 1.4467 ,Val Accuracy: 0.6972, Precision: 0.7054, Recall: 0.6973\n",
      "当前最好的模型：acc : 0.7108 ,loss : 0.0912 ,precision : 0.7142 ,recall : 0.7101 ,ap : 0.0898 ,epoch : 127 \n"
     ]
    },
    {
     "name": "stderr",
     "output_type": "stream",
     "text": [
      "Training Epochs:  82%|████████▏ | 163/200 [31:50<07:30, 12.17s/it]"
     ]
    },
    {
     "name": "stdout",
     "output_type": "stream",
     "text": [
      "Epoch 163/200, train_Loss: 0.0777, val_Loss: 1.4578 ,Val Accuracy: 0.6984, Precision: 0.6992, Recall: 0.6972\n",
      "当前最好的模型：acc : 0.7112 ,loss : 0.0741 ,precision : 0.7128 ,recall : 0.7097 ,ap : 0.0948 ,epoch : 161 \n"
     ]
    },
    {
     "name": "stderr",
     "output_type": "stream",
     "text": [
      "Training Epochs:  83%|████████▎ | 166/200 [32:24<06:27, 11.41s/it]"
     ]
    },
    {
     "name": "stdout",
     "output_type": "stream",
     "text": [
      "Epoch 166/200, train_Loss: 0.0844, val_Loss: 1.4199 ,Val Accuracy: 0.7112, Precision: 0.7145, Recall: 0.7115\n",
      "当前最好的模型：acc : 0.7112 ,loss : 0.0741 ,precision : 0.7128 ,recall : 0.7097 ,ap : 0.0948 ,epoch : 161 \n"
     ]
    },
    {
     "name": "stderr",
     "output_type": "stream",
     "text": [
      "Training Epochs:  84%|████████▍ | 169/200 [32:57<05:41, 11.03s/it]"
     ]
    },
    {
     "name": "stdout",
     "output_type": "stream",
     "text": [
      "Epoch 169/200, train_Loss: 0.0772, val_Loss: 1.7280 ,Val Accuracy: 0.6824, Precision: 0.6974, Recall: 0.6834\n",
      "当前最好的模型：acc : 0.7144 ,loss : 0.0655 ,precision : 0.7140 ,recall : 0.7126 ,ap : 0.1004 ,epoch : 167 \n"
     ]
    },
    {
     "name": "stderr",
     "output_type": "stream",
     "text": [
      "Training Epochs:  86%|████████▌ | 172/200 [33:30<05:09, 11.04s/it]"
     ]
    },
    {
     "name": "stdout",
     "output_type": "stream",
     "text": [
      "Epoch 172/200, train_Loss: 0.0806, val_Loss: 1.4411 ,Val Accuracy: 0.7084, Precision: 0.7163, Recall: 0.7084\n",
      "当前最好的模型：acc : 0.7144 ,loss : 0.0655 ,precision : 0.7140 ,recall : 0.7126 ,ap : 0.1004 ,epoch : 167 \n"
     ]
    },
    {
     "name": "stderr",
     "output_type": "stream",
     "text": [
      "Training Epochs:  88%|████████▊ | 175/200 [34:05<04:48, 11.56s/it]"
     ]
    },
    {
     "name": "stdout",
     "output_type": "stream",
     "text": [
      "Epoch 175/200, train_Loss: 0.0767, val_Loss: 1.3744 ,Val Accuracy: 0.7112, Precision: 0.7153, Recall: 0.7104\n",
      "当前最好的模型：acc : 0.7144 ,loss : 0.0655 ,precision : 0.7140 ,recall : 0.7126 ,ap : 0.1004 ,epoch : 167 \n"
     ]
    },
    {
     "name": "stderr",
     "output_type": "stream",
     "text": [
      "Training Epochs:  89%|████████▉ | 178/200 [34:41<04:23, 11.96s/it]"
     ]
    },
    {
     "name": "stdout",
     "output_type": "stream",
     "text": [
      "Epoch 178/200, train_Loss: 0.0695, val_Loss: 1.5172 ,Val Accuracy: 0.7052, Precision: 0.7036, Recall: 0.7052\n",
      "当前最好的模型：acc : 0.7144 ,loss : 0.0655 ,precision : 0.7140 ,recall : 0.7126 ,ap : 0.1004 ,epoch : 167 \n"
     ]
    },
    {
     "name": "stderr",
     "output_type": "stream",
     "text": [
      "Training Epochs:  90%|█████████ | 181/200 [35:18<03:51, 12.20s/it]"
     ]
    },
    {
     "name": "stdout",
     "output_type": "stream",
     "text": [
      "Epoch 181/200, train_Loss: 0.0601, val_Loss: 1.4349 ,Val Accuracy: 0.7132, Precision: 0.7183, Recall: 0.7125\n",
      "当前最好的模型：acc : 0.7144 ,loss : 0.0655 ,precision : 0.7140 ,recall : 0.7126 ,ap : 0.1004 ,epoch : 167 \n"
     ]
    },
    {
     "name": "stderr",
     "output_type": "stream",
     "text": [
      "Training Epochs:  92%|█████████▏| 184/200 [35:55<03:13, 12.08s/it]"
     ]
    },
    {
     "name": "stdout",
     "output_type": "stream",
     "text": [
      "Epoch 184/200, train_Loss: 0.0667, val_Loss: 1.4776 ,Val Accuracy: 0.7100, Precision: 0.7133, Recall: 0.7102\n",
      "当前最好的模型：acc : 0.7144 ,loss : 0.0655 ,precision : 0.7140 ,recall : 0.7126 ,ap : 0.1004 ,epoch : 167 \n"
     ]
    },
    {
     "name": "stderr",
     "output_type": "stream",
     "text": [
      "Training Epochs:  94%|█████████▎| 187/200 [36:27<02:26, 11.25s/it]"
     ]
    },
    {
     "name": "stdout",
     "output_type": "stream",
     "text": [
      "Epoch 187/200, train_Loss: 0.0721, val_Loss: 1.4294 ,Val Accuracy: 0.7088, Precision: 0.7090, Recall: 0.7073\n",
      "当前最好的模型：acc : 0.7144 ,loss : 0.0655 ,precision : 0.7140 ,recall : 0.7126 ,ap : 0.1004 ,epoch : 167 \n"
     ]
    },
    {
     "name": "stderr",
     "output_type": "stream",
     "text": [
      "Training Epochs:  95%|█████████▌| 190/200 [36:59<01:49, 10.90s/it]"
     ]
    },
    {
     "name": "stdout",
     "output_type": "stream",
     "text": [
      "Epoch 190/200, train_Loss: 0.0650, val_Loss: 1.4576 ,Val Accuracy: 0.7044, Precision: 0.7069, Recall: 0.7034\n",
      "当前最好的模型：acc : 0.7144 ,loss : 0.0655 ,precision : 0.7140 ,recall : 0.7126 ,ap : 0.1004 ,epoch : 167 \n"
     ]
    },
    {
     "name": "stderr",
     "output_type": "stream",
     "text": [
      "Training Epochs:  96%|█████████▋| 193/200 [37:31<01:14, 10.71s/it]"
     ]
    },
    {
     "name": "stdout",
     "output_type": "stream",
     "text": [
      "Epoch 193/200, train_Loss: 0.0586, val_Loss: 1.4465 ,Val Accuracy: 0.7136, Precision: 0.7105, Recall: 0.7120\n",
      "当前最好的模型：acc : 0.7144 ,loss : 0.0655 ,precision : 0.7140 ,recall : 0.7126 ,ap : 0.1004 ,epoch : 167 \n"
     ]
    },
    {
     "name": "stderr",
     "output_type": "stream",
     "text": [
      "Training Epochs:  98%|█████████▊| 196/200 [38:04<00:44, 11.06s/it]"
     ]
    },
    {
     "name": "stdout",
     "output_type": "stream",
     "text": [
      "Epoch 196/200, train_Loss: 0.0713, val_Loss: 1.4409 ,Val Accuracy: 0.6928, Precision: 0.7064, Recall: 0.6919\n",
      "当前最好的模型：acc : 0.7160 ,loss : 0.0657 ,precision : 0.7157 ,recall : 0.7151 ,ap : 0.0787 ,epoch : 194 \n"
     ]
    },
    {
     "name": "stderr",
     "output_type": "stream",
     "text": [
      "Training Epochs: 100%|█████████▉| 199/200 [38:39<00:11, 11.38s/it]"
     ]
    },
    {
     "name": "stdout",
     "output_type": "stream",
     "text": [
      "Epoch 199/200, train_Loss: 0.0672, val_Loss: 1.5870 ,Val Accuracy: 0.6932, Precision: 0.6985, Recall: 0.6933\n",
      "当前最好的模型：acc : 0.7160 ,loss : 0.0657 ,precision : 0.7157 ,recall : 0.7151 ,ap : 0.0787 ,epoch : 194 \n"
     ]
    },
    {
     "name": "stderr",
     "output_type": "stream",
     "text": [
      "Training Epochs: 100%|██████████| 200/200 [38:51<00:00, 11.66s/it]\n"
     ]
    }
   ],
   "source": [
    "\n",
    "bestMod=utils.BestSelector(acc=0)\n",
    "train_logs=utils.Logs()\n",
    "model=get_pretrained()\n",
    "# 定义损失函数和优化器\n",
    "criterion = nn.CrossEntropyLoss()\n",
    "# criterion = nn.BCELoss()\n",
    "if config.optim == \"Adam\":\n",
    "    optimizer = optim.Adam(model.parameters(), lr=config.lr)\n",
    "else:\n",
    "    optimizer = optim.SGD(model.parameters(), lr=config.lr, momentum=0.9, weight_decay=1e-4)\n",
    "    \n",
    "bestMod,train_logs=train_val.train_model(\n",
    "            model, \n",
    "            criterion,\n",
    "            optimizer, \n",
    "            train_loader,\n",
    "            val_loader,\n",
    "            bestMod=bestMod,\n",
    "            train_logs=train_logs,\n",
    "            config=config, \n",
    "            checkpoint_interval=10000,\n",
    "            show_progress_interval=3,\n",
    "            AMP=config.AMP,#是否使用混合精度训练\n",
    "            multi_loss_weight=[1,0.3,0.3],\n",
    "            lr_scheduler_step=0.7,#动态调整学习率\n",
    "            # num_epochs=config.epochs\n",
    "        )"
   ]
  },
  {
   "cell_type": "code",
   "execution_count": 10,
   "metadata": {},
   "outputs": [
    {
     "name": "stdout",
     "output_type": "stream",
     "text": [
      "200 epoch中 最好的模型\n",
      "acc : 0.7160 ,loss : 0.0657 ,precision : 0.7157 ,recall : 0.7151 ,ap : 0.0787 ,epoch : 194 \n"
     ]
    }
   ],
   "source": [
    "print(f\"{config.epochs} epoch中 最好的模型\")\n",
    "print(bestMod)"
   ]
  },
  {
   "cell_type": "markdown",
   "metadata": {},
   "source": [
    "#### 保存模型超参数和训练日志"
   ]
  },
  {
   "cell_type": "code",
   "execution_count": 11,
   "metadata": {},
   "outputs": [
    {
     "name": "stdout",
     "output_type": "stream",
     "text": [
      "save_weights\\ResNet-acc=0.716-loss=0.066-max_epochs=200\n",
      "{'acc': 0.716, 'model': 'save_weights\\\\ResNet-acc=0.716-loss=0.066-max_epochs=200\\\\best.pth', 'loss': 0.06573596426510606, 'precision': 0.715738409342314, 'recall': 0.7150832583561887, 'ap': 0.07871563003134147, 'epoch': 194, 'checkpoints': {'checkpoint_0': 'save_weights\\\\ResNet-acc=0.716-loss=0.066-max_epochs=200\\\\checkpoint_0.pth'}}\n"
     ]
    }
   ],
   "source": [
    "saveDir=r'save_weights'\n",
    "saveDir=os.path.join(\n",
    "        saveDir,\n",
    "        f'{bestMod.model.__class__.__name__[:10]}-acc={round(bestMod.acc,5)}-loss={round(bestMod.loss,3)}-max_epochs={config.epochs}'\n",
    ")  \n",
    "utils.saveProcess(\n",
    "    saveDir=saveDir,\n",
    "    bestMod=bestMod,\n",
    "    train_log=train_logs,\n",
    "    config=config\n",
    ")"
   ]
  },
  {
   "cell_type": "markdown",
   "metadata": {},
   "source": [
    "#### 进行测试"
   ]
  },
  {
   "cell_type": "code",
   "execution_count": 12,
   "metadata": {},
   "outputs": [
    {
     "name": "stderr",
     "output_type": "stream",
     "text": [
      "模型测试中:: 100%|██████████| 16/16 [00:01<00:00,  9.00it/s]\n"
     ]
    },
    {
     "data": {
      "text/plain": [
       "{'Accuracy': 0.7205,\n",
       " 'Precision': 0.7185984191921404,\n",
       " 'Recall': 0.7196254481355189,\n",
       " 'F1': 0.7175960754050676,\n",
       " 'AP': 0.08098016042607904,\n",
       " 'Loss': 1.5023339465260506}"
      ]
     },
     "execution_count": 12,
     "metadata": {},
     "output_type": "execute_result"
    }
   ],
   "source": [
    "import torch\n",
    "from utils import utils,train_val\n",
    "import os\n",
    "\n",
    "# config=Config(os.path.join(dir,'config.json'))\n",
    "# model=BestSelector(os.path.join(dir,'metrics.json'))\n",
    "# saveDir=r'save_weights\\BinaryClassificationMobileNetV3Large-acc=0.74336-loss=1.671334-max_epochs=40-1100'\n",
    "Model,config,logs=utils.loadProcess(saveDir=saveDir)\n",
    "metrics=train_val.validate_model(\n",
    "    model=Model.model,\n",
    "    val_loader=test_loader,\n",
    "    device=config.device,\n",
    "    only_val=True,\n",
    "    criterion=criterion\n",
    ")\n",
    "\n",
    "metrics"
   ]
  },
  {
   "cell_type": "markdown",
   "metadata": {},
   "source": [
    "#### 保存数据到tensorboard"
   ]
  },
  {
   "cell_type": "code",
   "execution_count": 13,
   "metadata": {},
   "outputs": [],
   "source": [
    "from utils import metrics,utils\n",
    "recoder=metrics.TensorboardRecorder(#存到tensorboard显示\n",
    "    log_dir=\"runs/\",\n",
    "    input_shape=[4,3,128,128],\n",
    "    model=model\n",
    "\n",
    ")\n",
    "recoder.logs_scalars(\n",
    "    logs.logs,\n",
    "    prefix=\"train\"\n",
    ")"
   ]
  }
 ],
 "metadata": {
  "kernelspec": {
   "display_name": "sound",
   "language": "python",
   "name": "python3"
  },
  "language_info": {
   "codemirror_mode": {
    "name": "ipython",
    "version": 3
   },
   "file_extension": ".py",
   "mimetype": "text/x-python",
   "name": "python",
   "nbconvert_exporter": "python",
   "pygments_lexer": "ipython3",
   "version": "3.9.17"
  }
 },
 "nbformat": 4,
 "nbformat_minor": 2
}
