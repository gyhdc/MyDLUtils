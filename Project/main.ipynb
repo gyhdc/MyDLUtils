{
 "cells": [
  {
   "cell_type": "code",
   "execution_count": 1,
   "metadata": {},
   "outputs": [],
   "source": [
    "import os\n",
    "from PIL import Image\n",
    "import torch\n",
    "import torchvision\n",
    "from torch.utils.data import DataLoader, Dataset\n",
    "import torch.nn as nn\n",
    "import torchvision.transforms as transforms\n",
    "import torchvision.models as models\n",
    "import torch.optim as optim\n",
    "from utils import datasets\n",
    "from utils import utils\n",
    "from utils import train_val\n",
    "from utils import net #网络文件于此\n",
    "from utils import metrics\n",
    "import warnings\n",
    "\n",
    "# 完全禁用警告\n",
    "warnings.filterwarnings(\"ignore\")"
   ]
  },
  {
   "cell_type": "code",
   "execution_count": 2,
   "metadata": {},
   "outputs": [
    {
     "name": "stdout",
     "output_type": "stream",
     "text": [
      "dataset_sep : [0.82, 0.17, 0.01] \n",
      "resize_size : 128 \n",
      "batch_size : 128 \n",
      "lr : 0.001 \n",
      "epochs : 50 \n",
      "hidden_size : 256 \n",
      "optim : Adam \n",
      "momentum : 0.9 \n",
      "weight_decay : 0.0001 \n",
      "seed : 42 \n",
      "mean : [0.50638, 0.49962538, 0.45205265] \n",
      "std : [0.23568255, 0.24141274, 0.25167742] \n",
      "source_dir : Cifar-10 \n",
      "data_path : data\\Cifar-10 \n",
      "device : cuda \n"
     ]
    }
   ],
   "source": [
    "from utils.utils import Config,Logs,BestSelector\n",
    "config=utils.Config(\n",
    "    dataset_sep=[\n",
    "        0.82,0.17,0.01          \n",
    "        ],\n",
    "    resize_size=128,\n",
    "    batch_size=128,\n",
    "    lr=0.001,\n",
    "    epochs=50,\n",
    "    hidden_size=256,\n",
    "    optim=\"Adam\",\n",
    "    momentum=0.9,\n",
    "    weight_decay=1e-4,\n",
    "    seed=42,\n",
    "    mean= [0.50638 ,0.49962538 ,0.45205265],\n",
    "    std=[0.23568255 ,0.24141274 ,0.25167742],\n",
    "    source_dir=r\"Cifar-10\",#原始数据集，每个分类一个文件夹，每个文件夹里包含多个图片\n",
    "    data_path=r\"data\\Cifar-10\",#项目数据集\n",
    "    # classes=[\"Apple\",\"Carambola\",\"Pear\",\"Plum\",\"Tomatoes\"],\n",
    "    device=\"cuda\" if torch.cuda.is_available() else \"cpu\",\n",
    ")\n",
    "print(config)"
   ]
  },
  {
   "cell_type": "code",
   "execution_count": 3,
   "metadata": {},
   "outputs": [
    {
     "name": "stdout",
     "output_type": "stream",
     "text": [
      "data\\Cifar-10 数据集已存在，无需重新划分\n"
     ]
    }
   ],
   "source": [
    "from tqdm import tqdm\n",
    "\n",
    "#设置随机数种子\n",
    "torch.manual_seed(config.seed)\n",
    "\n",
    "isSplit= (not datasets.check_data_exist(config.data_path))#数据集不存在，则从原始数据存放处，转移数据集\n",
    "if isSplit:\n",
    "    print(f\"{config.data_path} 数据集不存在，将从source_dir:{config.source_dir}中获取数据\")\n",
    "    print(f\"清理源文件夹:{config.data_path}\")\n",
    "    datasets.clear_folder(config.data_path)\n",
    "    for dir in tqdm(config.classes,desc=\"处理原始数据：\"):\n",
    "        source_dir=os.path.join(config.source_dir, dir)\n",
    "        print(source_dir)\n",
    "        datasets.split_data(source_dir,target_dir=config.data_path,label=dir,sep=config.dataset_sep)\n",
    "else:\n",
    "    print(f\"{config.data_path} 数据集已存在，无需重新划分\")\n",
    "\n"
   ]
  },
  {
   "cell_type": "code",
   "execution_count": 4,
   "metadata": {},
   "outputs": [
    {
     "data": {
      "text/plain": [
       "'\\ndef get_data_path(typ,path=config.data_path):\\n    return os.path.join(path,typ)\\n\\ntrain_dataset=datasets.CustomImageDataset(\\n    get_data_path(\"train\"),\\n    classes=config.classes,\\n    transform=datasets.get_transform(\\n        resize_size=config.resize_size,\\n        mean=config.mean,std=config.std\\n        )\\n)\\n\\nval_dataset=datasets.CustomImageDataset(\\n    get_data_path(\"val\"),\\n    classes=config.classes,\\n    transform=datasets.get_transform(\\n        \"val\",\\n        config.resize_size,\\n        \\n        mean=config.mean,\\n        std=config.std\\n        )\\n)\\n'"
      ]
     },
     "execution_count": 4,
     "metadata": {},
     "output_type": "execute_result"
    }
   ],
   "source": [
    "'''\n",
    "def get_data_path(typ,path=config.data_path):\n",
    "    return os.path.join(path,typ)\n",
    "\n",
    "train_dataset=datasets.CustomImageDataset(\n",
    "    get_data_path(\"train\"),\n",
    "    classes=config.classes,\n",
    "    transform=datasets.get_transform(\n",
    "        resize_size=config.resize_size,\n",
    "        mean=config.mean,std=config.std\n",
    "        )\n",
    ")\n",
    "\n",
    "val_dataset=datasets.CustomImageDataset(\n",
    "    get_data_path(\"val\"),\n",
    "    classes=config.classes,\n",
    "    transform=datasets.get_transform(\n",
    "        \"val\",\n",
    "        config.resize_size,\n",
    "        \n",
    "        mean=config.mean,\n",
    "        std=config.std\n",
    "        )\n",
    ")\n",
    "'''\n"
   ]
  },
  {
   "cell_type": "markdown",
   "metadata": {},
   "source": [
    "#### 加载数据集，可本地数据集。调用datasets.CustomImageDataset"
   ]
  },
  {
   "cell_type": "code",
   "execution_count": 5,
   "metadata": {},
   "outputs": [
    {
     "name": "stdout",
     "output_type": "stream",
     "text": [
      "Files already downloaded and verified\n",
      "Files already downloaded and verified\n",
      "原始训练集大小：37500\n",
      "原始验证集大小：12500\n",
      "原始测试集大小：10000\n"
     ]
    }
   ],
   "source": [
    "#加载cifar-10\n",
    "import torchvision\n",
    "train_val_dataset = torchvision.datasets.CIFAR10(\n",
    "    root='./data/Cifar-10', \n",
    "    train=True, \n",
    "    download=True, \n",
    "    transform=datasets.get_transform(\n",
    "        chance=\"train\",\n",
    "        resize_size=config.resize_size,\n",
    "        mean=(0.5, 0.5, 0.5), \n",
    "        std=(0.5, 0.5, 0.5)\n",
    "    )\n",
    ")\n",
    "train_dataset,val_dataset=datasets.get_parts_of_datasets(train_val_dataset,rate=0.75,only_train=False)#训练验证3-1开\n",
    "\n",
    "test_dataset = torchvision.datasets.CIFAR10(root='./data/Cifar-10', train=False, download=True, transform=datasets.get_transform(\n",
    "    chance=\"val\",\n",
    "    resize_size=config.resize_size,\n",
    "    mean=(0.5, 0.5, 0.5), \n",
    "    std=(0.5, 0.5, 0.5)\n",
    "))\n",
    "print(f\"原始训练集大小：{len(train_dataset)}\")\n",
    "print(f\"原始验证集大小：{len(val_dataset)}\")\n",
    "print(f\"原始测试集大小：{len(test_dataset)}\")"
   ]
  },
  {
   "cell_type": "markdown",
   "metadata": {},
   "source": [
    "#### load数据集，并根据数据量进行裁剪"
   ]
  },
  {
   "cell_type": "code",
   "execution_count": 6,
   "metadata": {},
   "outputs": [
    {
     "name": "stdout",
     "output_type": "stream",
     "text": [
      "本次训练用训练集大小：7500\n",
      "本次训练用验证集大小：2500\n",
      "本次测试用测试集大小：2000\n",
      "tarin_dataloader加载完毕, 58个batch, batch大小为128\n",
      "val_dataloader  加载完毕, 20个batch, batch大小为128\n",
      "test_dataloader 加载完毕, 16个batch, batch大小为128\n"
     ]
    }
   ],
   "source": [
    "crop_rate=0.20\n",
    "train_dataset_crop=datasets.get_parts_of_datasets(train_dataset,crop_rate)\n",
    "val_dataset_crop=datasets.get_parts_of_datasets(val_dataset,crop_rate)\n",
    "test_dataset_crop=datasets.get_parts_of_datasets(test_dataset,crop_rate)\n",
    "train_dataset_size=len(train_dataset_crop)\n",
    "val_dataset_size=len(val_dataset_crop)\n",
    "test_dataset_size=len(test_dataset_crop)\n",
    "\n",
    "print(f\"本次训练用训练集大小：{len(train_dataset_crop)}\")\n",
    "print(f\"本次训练用验证集大小：{len(val_dataset_crop)}\")\n",
    "print(f\"本次测试用测试集大小：{len(test_dataset_crop)}\")\n",
    "\n",
    "train_loader=DataLoader(train_dataset_crop,batch_size=config.batch_size,shuffle=True,drop_last=True)\n",
    "val_loader=DataLoader(val_dataset_crop,batch_size=config.batch_size,shuffle=False)\n",
    "test_loader=DataLoader(test_dataset_crop,batch_size=config.batch_size,shuffle=False)\n",
    "\n",
    "print(f\"tarin_dataloader加载完毕, {len(train_loader)}个batch, batch大小为{config.batch_size}\")\n",
    "print(f\"val_dataloader  加载完毕, {len(val_loader)}个batch, batch大小为{config.batch_size}\")\n",
    "print(f\"test_dataloader 加载完毕, {len(test_loader)}个batch, batch大小为{config.batch_size}\")\n"
   ]
  },
  {
   "cell_type": "markdown",
   "metadata": {},
   "source": [
    "#### 记录本次训练和测试用的数据量，还有数据样本信息"
   ]
  },
  {
   "cell_type": "code",
   "execution_count": 7,
   "metadata": {},
   "outputs": [
    {
     "name": "stdout",
     "output_type": "stream",
     "text": [
      "torch.Size([128, 3, 128, 128])\n",
      "torch.Size([128])\n"
     ]
    },
    {
     "data": {
      "text/plain": [
       "dataset_sep : [0.82, 0.17, 0.01] \n",
       "resize_size : 128 \n",
       "batch_size : 128 \n",
       "lr : 0.001 \n",
       "epochs : 50 \n",
       "hidden_size : 256 \n",
       "optim : Adam \n",
       "momentum : 0.9 \n",
       "weight_decay : 0.0001 \n",
       "seed : 42 \n",
       "mean : [0.50638, 0.49962538, 0.45205265] \n",
       "std : [0.23568255, 0.24141274, 0.25167742] \n",
       "source_dir : Cifar-10 \n",
       "data_path : data\\Cifar-10 \n",
       "device : cuda \n",
       "inputs_shape : torch.Size([128, 3, 128, 128]) \n",
       "train_datasize : 7500 \n",
       "val_datasetsize : 2500 \n",
       "test_datasetsize : 2000 \n",
       "datasets_crop_rate : 0.2 \n",
       "classes : ['airplane', 'automobile', 'bird', 'cat', 'deer', 'dog', 'frog', 'horse', 'ship', 'truck'] "
      ]
     },
     "execution_count": 7,
     "metadata": {},
     "output_type": "execute_result"
    }
   ],
   "source": [
    "#查看数据加载情况\n",
    "for inputs, labels in train_loader:\n",
    "    inputs=inputs.to(config.device)\n",
    "    labels=labels.to(config.device)\n",
    "    print(inputs.shape)\n",
    "    print(labels.shape)\n",
    "    config.update(\n",
    "        inputs_shape=inputs.shape\n",
    "        )\n",
    "    break\n",
    "config.update(\n",
    "    train_datasize=train_dataset_size,\n",
    "    val_datasetsize=val_dataset_size,\n",
    "    test_datasetsize=test_dataset_size,\n",
    "    datasets_crop_rate=crop_rate,\n",
    "    classes=train_val_dataset.classes,#原始数据集保留classes\n",
    ")\n",
    "config"
   ]
  },
  {
   "cell_type": "markdown",
   "metadata": {},
   "source": [
    "#### 加载预训练模型"
   ]
  },
  {
   "cell_type": "code",
   "execution_count": 8,
   "metadata": {},
   "outputs": [
    {
     "name": "stderr",
     "output_type": "stream",
     "text": [
      "Warm up ....: 100%|██████████| 100/100 [00:03<00:00, 25.57it/s]\n",
      "Testing ...: 100%|██████████| 300/300 [00:11<00:00, 27.12it/s]"
     ]
    },
    {
     "name": "stdout",
     "output_type": "stream",
     "text": [
      "inference_time:0.03631245431264241 ms\n",
      "parameters_num:17151370\n"
     ]
    },
    {
     "name": "stderr",
     "output_type": "stream",
     "text": [
      "\n"
     ]
    }
   ],
   "source": [
    "\n",
    "def get_pretrained(hidden_size=config.hidden_size,config=config):\n",
    "    '''\n",
    "        获取预训练模型\n",
    "        @param hidden_size: 隐藏层大小\n",
    "        @param config: 配置文件\n",
    "        @return: 预训练模型\n",
    "    '''\n",
    "    # model=net.BinaryClassificationMobileNetV3Large(out_size=len(config.classes))\n",
    "    model=net.AutoCNN(\n",
    "        input_channels=config.inputs_shape[1],\n",
    "        input_size=config.inputs_shape[2:],\n",
    "        num_classes=len(config.classes),\n",
    "        mlp_hidden_size=256\n",
    "    )\n",
    "    return model.to(config.device)\n",
    "test_model=get_pretrained()\n",
    "inference_time=metrics.get_inference_time(test_model,config.device,input_shape=config.inputs_shape)\n",
    "parameters_num=metrics.get_parameters_num(test_model)\n",
    "print(f\"inference_time:{inference_time} ms\")\n",
    "print(f\"parameters_num:{parameters_num}\")\n",
    "config.update(\n",
    "    network=test_model.__class__.__name__,\n",
    "    inference_time=inference_time,\n",
    "    parameters_num=parameters_num,\n",
    "\n",
    ")"
   ]
  },
  {
   "cell_type": "code",
   "execution_count": 9,
   "metadata": {},
   "outputs": [
    {
     "name": "stderr",
     "output_type": "stream",
     "text": [
      "Training Epochs:   2%|▏         | 1/50 [00:16<13:43, 16.81s/it]"
     ]
    },
    {
     "name": "stdout",
     "output_type": "stream",
     "text": [
      "Epoch 1/50, Loss: 2.2205,  Val Accuracy: 0.2832, AP: 0.0793, Precision: 0.3195, Recall: 0.2832\n",
      "当前最好的模型： acc : 0.2832 ,loss : 2.220451889366939 ,precision : 0.31950008017365195 ,recall : 0.28323044415649196 ,ap : 0.07927765262391004 ,epoch : 0 \n"
     ]
    },
    {
     "name": "stderr",
     "output_type": "stream",
     "text": [
      "Training Epochs:   4%|▍         | 2/50 [00:32<12:54, 16.14s/it]"
     ]
    },
    {
     "name": "stdout",
     "output_type": "stream",
     "text": [
      "Epoch 2/50, Loss: 2.1746,  Val Accuracy: 0.2800, AP: 0.0883, Precision: 0.3217, Recall: 0.2756\n",
      "当前最好的模型： acc : 0.2832 ,loss : 2.220451889366939 ,precision : 0.31950008017365195 ,recall : 0.28323044415649196 ,ap : 0.07927765262391004 ,epoch : 0 \n"
     ]
    },
    {
     "name": "stderr",
     "output_type": "stream",
     "text": [
      "Training Epochs:   6%|▌         | 3/50 [00:48<12:30, 15.96s/it]"
     ]
    },
    {
     "name": "stdout",
     "output_type": "stream",
     "text": [
      "Epoch 3/50, Loss: 2.1446,  Val Accuracy: 0.3276, AP: 0.0921, Precision: 0.3296, Recall: 0.3292\n",
      "当前最好的模型： acc : 0.3276 ,loss : 2.144572270327601 ,precision : 0.3295964936756498 ,recall : 0.32923612303686123 ,ap : 0.09212541758994694 ,epoch : 2 \n"
     ]
    },
    {
     "name": "stderr",
     "output_type": "stream",
     "text": [
      "Training Epochs:   8%|▊         | 4/50 [01:03<12:10, 15.87s/it]"
     ]
    },
    {
     "name": "stdout",
     "output_type": "stream",
     "text": [
      "Epoch 4/50, Loss: 2.1230,  Val Accuracy: 0.3216, AP: 0.0752, Precision: 0.3460, Recall: 0.3221\n",
      "当前最好的模型： acc : 0.3276 ,loss : 2.144572270327601 ,precision : 0.3295964936756498 ,recall : 0.32923612303686123 ,ap : 0.09212541758994694 ,epoch : 2 \n"
     ]
    },
    {
     "name": "stderr",
     "output_type": "stream",
     "text": [
      "Training Epochs:  10%|█         | 5/50 [01:20<12:04, 16.09s/it]"
     ]
    },
    {
     "name": "stdout",
     "output_type": "stream",
     "text": [
      "Epoch 5/50, Loss: 2.1092,  Val Accuracy: 0.3476, AP: 0.0749, Precision: 0.3687, Recall: 0.3490\n",
      "当前最好的模型： acc : 0.3476 ,loss : 2.1092281136019477 ,precision : 0.3687416249579333 ,recall : 0.3489604906939242 ,ap : 0.07492851772250242 ,epoch : 4 \n"
     ]
    },
    {
     "name": "stderr",
     "output_type": "stream",
     "text": [
      "Training Epochs:  12%|█▏        | 6/50 [01:36<11:44, 16.02s/it]"
     ]
    },
    {
     "name": "stdout",
     "output_type": "stream",
     "text": [
      "Epoch 6/50, Loss: 2.0954,  Val Accuracy: 0.3776, AP: 0.0834, Precision: 0.3784, Recall: 0.3771\n",
      "当前最好的模型： acc : 0.3776 ,loss : 2.0953771410317255 ,precision : 0.37839230535030577 ,recall : 0.37707992295384873 ,ap : 0.08339268403340465 ,epoch : 5 \n"
     ]
    },
    {
     "name": "stderr",
     "output_type": "stream",
     "text": [
      "Training Epochs:  14%|█▍        | 7/50 [01:51<11:19, 15.81s/it]"
     ]
    },
    {
     "name": "stdout",
     "output_type": "stream",
     "text": [
      "Epoch 7/50, Loss: 2.0848,  Val Accuracy: 0.3640, AP: 0.0902, Precision: 0.3771, Recall: 0.3658\n",
      "当前最好的模型： acc : 0.3776 ,loss : 2.0953771410317255 ,precision : 0.37839230535030577 ,recall : 0.37707992295384873 ,ap : 0.08339268403340465 ,epoch : 5 \n"
     ]
    },
    {
     "name": "stderr",
     "output_type": "stream",
     "text": [
      "Training Epochs:  16%|█▌        | 8/50 [02:08<11:21, 16.24s/it]"
     ]
    },
    {
     "name": "stdout",
     "output_type": "stream",
     "text": [
      "Epoch 8/50, Loss: 2.0677,  Val Accuracy: 0.3988, AP: 0.0733, Precision: 0.3953, Recall: 0.3994\n",
      "当前最好的模型： acc : 0.3988 ,loss : 2.06766330168165 ,precision : 0.39530744641756954 ,recall : 0.3994489970708631 ,ap : 0.07325337630716987 ,epoch : 7 \n"
     ]
    },
    {
     "name": "stderr",
     "output_type": "stream",
     "text": [
      "Training Epochs:  18%|█▊        | 9/50 [02:24<11:01, 16.13s/it]"
     ]
    },
    {
     "name": "stdout",
     "output_type": "stream",
     "text": [
      "Epoch 9/50, Loss: 2.0605,  Val Accuracy: 0.4068, AP: 0.1017, Precision: 0.4185, Recall: 0.4071\n",
      "当前最好的模型： acc : 0.4068 ,loss : 2.06048637423022 ,precision : 0.4184696614841889 ,recall : 0.40713257562619043 ,ap : 0.10172560554913604 ,epoch : 8 \n"
     ]
    },
    {
     "name": "stderr",
     "output_type": "stream",
     "text": [
      "Training Epochs:  20%|██        | 10/50 [02:40<10:40, 16.02s/it]"
     ]
    },
    {
     "name": "stdout",
     "output_type": "stream",
     "text": [
      "Epoch 10/50, Loss: 2.0558,  Val Accuracy: 0.3996, AP: 0.0793, Precision: 0.4290, Recall: 0.3992\n",
      "当前最好的模型： acc : 0.4068 ,loss : 2.06048637423022 ,precision : 0.4184696614841889 ,recall : 0.40713257562619043 ,ap : 0.10172560554913604 ,epoch : 8 \n"
     ]
    },
    {
     "name": "stderr",
     "output_type": "stream",
     "text": [
      "Training Epochs:  22%|██▏       | 11/50 [02:56<10:20, 15.91s/it]"
     ]
    },
    {
     "name": "stdout",
     "output_type": "stream",
     "text": [
      "Epoch 11/50, Loss: 2.0466,  Val Accuracy: 0.4140, AP: 0.0804, Precision: 0.4096, Recall: 0.4137\n",
      "当前最好的模型： acc : 0.414 ,loss : 2.0465551943614564 ,precision : 0.40961467565935505 ,recall : 0.4136829769438501 ,ap : 0.08037587585119535 ,epoch : 10 \n"
     ]
    },
    {
     "name": "stderr",
     "output_type": "stream",
     "text": [
      "Training Epochs:  24%|██▍       | 12/50 [03:12<10:04, 15.90s/it]"
     ]
    },
    {
     "name": "stdout",
     "output_type": "stream",
     "text": [
      "Epoch 12/50, Loss: 2.0280,  Val Accuracy: 0.4240, AP: 0.1011, Precision: 0.4335, Recall: 0.4236\n",
      "当前最好的模型： acc : 0.424 ,loss : 2.028018969914009 ,precision : 0.43352344917827923 ,recall : 0.42363853935706963 ,ap : 0.10114155396362712 ,epoch : 11 \n"
     ]
    },
    {
     "name": "stderr",
     "output_type": "stream",
     "text": [
      "Training Epochs:  26%|██▌       | 13/50 [03:27<09:42, 15.75s/it]"
     ]
    },
    {
     "name": "stdout",
     "output_type": "stream",
     "text": [
      "Epoch 13/50, Loss: 2.0217,  Val Accuracy: 0.4320, AP: 0.0962, Precision: 0.4638, Recall: 0.4324\n",
      "当前最好的模型： acc : 0.432 ,loss : 2.0217042565345764 ,precision : 0.46377850211855565 ,recall : 0.43241526153030885 ,ap : 0.09617438057824718 ,epoch : 12 \n"
     ]
    },
    {
     "name": "stderr",
     "output_type": "stream",
     "text": [
      "Training Epochs:  28%|██▊       | 14/50 [03:42<09:20, 15.56s/it]"
     ]
    },
    {
     "name": "stdout",
     "output_type": "stream",
     "text": [
      "Epoch 14/50, Loss: 2.0083,  Val Accuracy: 0.4636, AP: 0.0844, Precision: 0.4584, Recall: 0.4632\n",
      "当前最好的模型： acc : 0.4636 ,loss : 2.0083230898298066 ,precision : 0.4584290033682473 ,recall : 0.4632037130362262 ,ap : 0.08444963735406977 ,epoch : 13 \n"
     ]
    },
    {
     "name": "stderr",
     "output_type": "stream",
     "text": [
      "Training Epochs:  30%|███       | 15/50 [03:57<08:58, 15.38s/it]"
     ]
    },
    {
     "name": "stdout",
     "output_type": "stream",
     "text": [
      "Epoch 15/50, Loss: 2.0038,  Val Accuracy: 0.4736, AP: 0.0942, Precision: 0.4820, Recall: 0.4736\n",
      "当前最好的模型： acc : 0.4736 ,loss : 2.003846298004019 ,precision : 0.4819983883182252 ,recall : 0.47359472928920177 ,ap : 0.0942333482307774 ,epoch : 14 \n"
     ]
    },
    {
     "name": "stderr",
     "output_type": "stream",
     "text": [
      "Training Epochs:  32%|███▏      | 16/50 [04:12<08:38, 15.25s/it]"
     ]
    },
    {
     "name": "stdout",
     "output_type": "stream",
     "text": [
      "Epoch 16/50, Loss: 1.9879,  Val Accuracy: 0.4632, AP: 0.0992, Precision: 0.4870, Recall: 0.4641\n",
      "当前最好的模型： acc : 0.4736 ,loss : 2.003846298004019 ,precision : 0.4819983883182252 ,recall : 0.47359472928920177 ,ap : 0.0942333482307774 ,epoch : 14 \n"
     ]
    },
    {
     "name": "stderr",
     "output_type": "stream",
     "text": [
      "Training Epochs:  34%|███▍      | 17/50 [04:28<08:26, 15.35s/it]"
     ]
    },
    {
     "name": "stdout",
     "output_type": "stream",
     "text": [
      "Epoch 17/50, Loss: 1.9808,  Val Accuracy: 0.4236, AP: 0.0962, Precision: 0.4789, Recall: 0.4227\n",
      "当前最好的模型： acc : 0.4736 ,loss : 2.003846298004019 ,precision : 0.4819983883182252 ,recall : 0.47359472928920177 ,ap : 0.0942333482307774 ,epoch : 14 \n"
     ]
    },
    {
     "name": "stderr",
     "output_type": "stream",
     "text": [
      "Training Epochs:  36%|███▌      | 18/50 [04:43<08:09, 15.29s/it]"
     ]
    },
    {
     "name": "stdout",
     "output_type": "stream",
     "text": [
      "Epoch 18/50, Loss: 1.9816,  Val Accuracy: 0.4600, AP: 0.0860, Precision: 0.4655, Recall: 0.4609\n",
      "当前最好的模型： acc : 0.4736 ,loss : 2.003846298004019 ,precision : 0.4819983883182252 ,recall : 0.47359472928920177 ,ap : 0.0942333482307774 ,epoch : 14 \n"
     ]
    },
    {
     "name": "stderr",
     "output_type": "stream",
     "text": [
      "Training Epochs:  38%|███▊      | 19/50 [04:58<07:50, 15.19s/it]"
     ]
    },
    {
     "name": "stdout",
     "output_type": "stream",
     "text": [
      "Epoch 19/50, Loss: 1.9718,  Val Accuracy: 0.4604, AP: 0.0940, Precision: 0.4709, Recall: 0.4596\n",
      "当前最好的模型： acc : 0.4736 ,loss : 2.003846298004019 ,precision : 0.4819983883182252 ,recall : 0.47359472928920177 ,ap : 0.0942333482307774 ,epoch : 14 \n"
     ]
    },
    {
     "name": "stderr",
     "output_type": "stream",
     "text": [
      "Training Epochs:  40%|████      | 20/50 [05:13<07:32, 15.09s/it]"
     ]
    },
    {
     "name": "stdout",
     "output_type": "stream",
     "text": [
      "Epoch 20/50, Loss: 1.9754,  Val Accuracy: 0.4636, AP: 0.0837, Precision: 0.4998, Recall: 0.4634\n",
      "当前最好的模型： acc : 0.4736 ,loss : 2.003846298004019 ,precision : 0.4819983883182252 ,recall : 0.47359472928920177 ,ap : 0.0942333482307774 ,epoch : 14 \n"
     ]
    },
    {
     "name": "stderr",
     "output_type": "stream",
     "text": [
      "Training Epochs:  42%|████▏     | 21/50 [05:27<07:15, 15.01s/it]"
     ]
    },
    {
     "name": "stdout",
     "output_type": "stream",
     "text": [
      "Epoch 21/50, Loss: 1.9610,  Val Accuracy: 0.4780, AP: 0.0901, Precision: 0.4883, Recall: 0.4777\n",
      "当前最好的模型： acc : 0.478 ,loss : 1.9610156807406196 ,precision : 0.48833179785489345 ,recall : 0.47771598708828067 ,ap : 0.09008037173646416 ,epoch : 20 \n"
     ]
    },
    {
     "name": "stderr",
     "output_type": "stream",
     "text": [
      "Training Epochs:  44%|████▍     | 22/50 [05:43<07:02, 15.08s/it]"
     ]
    },
    {
     "name": "stdout",
     "output_type": "stream",
     "text": [
      "Epoch 22/50, Loss: 1.9601,  Val Accuracy: 0.4956, AP: 0.0894, Precision: 0.4964, Recall: 0.4944\n",
      "当前最好的模型： acc : 0.4956 ,loss : 1.9600552998740097 ,precision : 0.4964186874759763 ,recall : 0.49435933500276175 ,ap : 0.08943598976250547 ,epoch : 21 \n"
     ]
    },
    {
     "name": "stderr",
     "output_type": "stream",
     "text": [
      "Training Epochs:  46%|████▌     | 23/50 [05:58<06:48, 15.12s/it]"
     ]
    },
    {
     "name": "stdout",
     "output_type": "stream",
     "text": [
      "Epoch 23/50, Loss: 1.9565,  Val Accuracy: 0.4892, AP: 0.0875, Precision: 0.5220, Recall: 0.4893\n",
      "当前最好的模型： acc : 0.4956 ,loss : 1.9600552998740097 ,precision : 0.4964186874759763 ,recall : 0.49435933500276175 ,ap : 0.08943598976250547 ,epoch : 21 \n"
     ]
    },
    {
     "name": "stderr",
     "output_type": "stream",
     "text": [
      "Training Epochs:  48%|████▊     | 24/50 [06:13<06:37, 15.27s/it]"
     ]
    },
    {
     "name": "stdout",
     "output_type": "stream",
     "text": [
      "Epoch 24/50, Loss: 1.9484,  Val Accuracy: 0.4860, AP: 0.0928, Precision: 0.5004, Recall: 0.4871\n",
      "当前最好的模型： acc : 0.4956 ,loss : 1.9600552998740097 ,precision : 0.4964186874759763 ,recall : 0.49435933500276175 ,ap : 0.08943598976250547 ,epoch : 21 \n"
     ]
    },
    {
     "name": "stderr",
     "output_type": "stream",
     "text": [
      "Training Epochs:  50%|█████     | 25/50 [06:30<06:35, 15.80s/it]"
     ]
    },
    {
     "name": "stdout",
     "output_type": "stream",
     "text": [
      "Epoch 25/50, Loss: 1.9489,  Val Accuracy: 0.5116, AP: 0.0992, Precision: 0.5178, Recall: 0.5114\n",
      "当前最好的模型： acc : 0.5116 ,loss : 1.948861808612429 ,precision : 0.5177802263475927 ,recall : 0.5113648544733055 ,ap : 0.09918716099852391 ,epoch : 24 \n"
     ]
    },
    {
     "name": "stderr",
     "output_type": "stream",
     "text": [
      "Training Epochs:  52%|█████▏    | 26/50 [06:48<06:29, 16.23s/it]"
     ]
    },
    {
     "name": "stdout",
     "output_type": "stream",
     "text": [
      "Epoch 26/50, Loss: 1.9459,  Val Accuracy: 0.4896, AP: 0.0892, Precision: 0.5027, Recall: 0.4914\n",
      "当前最好的模型： acc : 0.5116 ,loss : 1.948861808612429 ,precision : 0.5177802263475927 ,recall : 0.5113648544733055 ,ap : 0.09918716099852391 ,epoch : 24 \n"
     ]
    },
    {
     "name": "stderr",
     "output_type": "stream",
     "text": [
      "Training Epochs:  54%|█████▍    | 27/50 [07:05<06:17, 16.40s/it]"
     ]
    },
    {
     "name": "stdout",
     "output_type": "stream",
     "text": [
      "Epoch 27/50, Loss: 1.9379,  Val Accuracy: 0.5012, AP: 0.0979, Precision: 0.5171, Recall: 0.5009\n",
      "当前最好的模型： acc : 0.5116 ,loss : 1.948861808612429 ,precision : 0.5177802263475927 ,recall : 0.5113648544733055 ,ap : 0.09918716099852391 ,epoch : 24 \n"
     ]
    },
    {
     "name": "stderr",
     "output_type": "stream",
     "text": [
      "Training Epochs:  56%|█████▌    | 28/50 [07:21<06:03, 16.54s/it]"
     ]
    },
    {
     "name": "stdout",
     "output_type": "stream",
     "text": [
      "Epoch 28/50, Loss: 1.9267,  Val Accuracy: 0.4880, AP: 0.0941, Precision: 0.5082, Recall: 0.4868\n",
      "当前最好的模型： acc : 0.5116 ,loss : 1.948861808612429 ,precision : 0.5177802263475927 ,recall : 0.5113648544733055 ,ap : 0.09918716099852391 ,epoch : 24 \n"
     ]
    },
    {
     "name": "stderr",
     "output_type": "stream",
     "text": [
      "Training Epochs:  58%|█████▊    | 29/50 [07:37<05:42, 16.31s/it]"
     ]
    },
    {
     "name": "stdout",
     "output_type": "stream",
     "text": [
      "Epoch 29/50, Loss: 1.9280,  Val Accuracy: 0.5000, AP: 0.0883, Precision: 0.5201, Recall: 0.5001\n",
      "当前最好的模型： acc : 0.5116 ,loss : 1.948861808612429 ,precision : 0.5177802263475927 ,recall : 0.5113648544733055 ,ap : 0.09918716099852391 ,epoch : 24 \n"
     ]
    },
    {
     "name": "stderr",
     "output_type": "stream",
     "text": [
      "Training Epochs:  60%|██████    | 30/50 [07:52<05:19, 15.97s/it]"
     ]
    },
    {
     "name": "stdout",
     "output_type": "stream",
     "text": [
      "Epoch 30/50, Loss: 1.9231,  Val Accuracy: 0.4944, AP: 0.1020, Precision: 0.5435, Recall: 0.4972\n",
      "当前最好的模型： acc : 0.5116 ,loss : 1.948861808612429 ,precision : 0.5177802263475927 ,recall : 0.5113648544733055 ,ap : 0.09918716099852391 ,epoch : 24 \n"
     ]
    },
    {
     "name": "stderr",
     "output_type": "stream",
     "text": [
      "Training Epochs:  62%|██████▏   | 31/50 [08:09<05:07, 16.19s/it]"
     ]
    },
    {
     "name": "stdout",
     "output_type": "stream",
     "text": [
      "Epoch 31/50, Loss: 1.9305,  Val Accuracy: 0.5180, AP: 0.0889, Precision: 0.5229, Recall: 0.5189\n",
      "当前最好的模型： acc : 0.518 ,loss : 1.930499237159203 ,precision : 0.5229185742236715 ,recall : 0.5188773814706725 ,ap : 0.08891600386560042 ,epoch : 30 \n"
     ]
    },
    {
     "name": "stderr",
     "output_type": "stream",
     "text": [
      "Training Epochs:  64%|██████▍   | 32/50 [08:25<04:48, 16.00s/it]"
     ]
    },
    {
     "name": "stdout",
     "output_type": "stream",
     "text": [
      "Epoch 32/50, Loss: 1.9269,  Val Accuracy: 0.5140, AP: 0.1062, Precision: 0.5242, Recall: 0.5137\n",
      "当前最好的模型： acc : 0.518 ,loss : 1.930499237159203 ,precision : 0.5229185742236715 ,recall : 0.5188773814706725 ,ap : 0.08891600386560042 ,epoch : 30 \n"
     ]
    },
    {
     "name": "stderr",
     "output_type": "stream",
     "text": [
      "Training Epochs:  66%|██████▌   | 33/50 [08:40<04:26, 15.69s/it]"
     ]
    },
    {
     "name": "stdout",
     "output_type": "stream",
     "text": [
      "Epoch 33/50, Loss: 1.9180,  Val Accuracy: 0.5052, AP: 0.1052, Precision: 0.5420, Recall: 0.5049\n",
      "当前最好的模型： acc : 0.518 ,loss : 1.930499237159203 ,precision : 0.5229185742236715 ,recall : 0.5188773814706725 ,ap : 0.08891600386560042 ,epoch : 30 \n"
     ]
    },
    {
     "name": "stderr",
     "output_type": "stream",
     "text": [
      "Training Epochs:  68%|██████▊   | 34/50 [08:55<04:10, 15.65s/it]"
     ]
    },
    {
     "name": "stdout",
     "output_type": "stream",
     "text": [
      "Epoch 34/50, Loss: 1.9202,  Val Accuracy: 0.5100, AP: 0.0902, Precision: 0.5311, Recall: 0.5109\n",
      "当前最好的模型： acc : 0.518 ,loss : 1.930499237159203 ,precision : 0.5229185742236715 ,recall : 0.5188773814706725 ,ap : 0.08891600386560042 ,epoch : 30 \n"
     ]
    },
    {
     "name": "stderr",
     "output_type": "stream",
     "text": [
      "Training Epochs:  70%|███████   | 35/50 [09:10<03:52, 15.52s/it]"
     ]
    },
    {
     "name": "stdout",
     "output_type": "stream",
     "text": [
      "Epoch 35/50, Loss: 1.9132,  Val Accuracy: 0.5328, AP: 0.0951, Precision: 0.5315, Recall: 0.5324\n",
      "当前最好的模型： acc : 0.5328 ,loss : 1.9132167902486077 ,precision : 0.5314844466278708 ,recall : 0.5323580611414078 ,ap : 0.09507692942491533 ,epoch : 34 \n"
     ]
    },
    {
     "name": "stderr",
     "output_type": "stream",
     "text": [
      "Training Epochs:  72%|███████▏  | 36/50 [09:26<03:37, 15.53s/it]"
     ]
    },
    {
     "name": "stdout",
     "output_type": "stream",
     "text": [
      "Epoch 36/50, Loss: 1.9056,  Val Accuracy: 0.5004, AP: 0.0968, Precision: 0.5264, Recall: 0.5003\n",
      "当前最好的模型： acc : 0.5328 ,loss : 1.9132167902486077 ,precision : 0.5314844466278708 ,recall : 0.5323580611414078 ,ap : 0.09507692942491533 ,epoch : 34 \n"
     ]
    },
    {
     "name": "stderr",
     "output_type": "stream",
     "text": [
      "Training Epochs:  74%|███████▍  | 37/50 [09:43<03:26, 15.89s/it]"
     ]
    },
    {
     "name": "stdout",
     "output_type": "stream",
     "text": [
      "Epoch 37/50, Loss: 1.9056,  Val Accuracy: 0.5328, AP: 0.0807, Precision: 0.5408, Recall: 0.5335\n",
      "当前最好的模型： acc : 0.5328 ,loss : 1.9132167902486077 ,precision : 0.5314844466278708 ,recall : 0.5323580611414078 ,ap : 0.09507692942491533 ,epoch : 34 \n"
     ]
    },
    {
     "name": "stderr",
     "output_type": "stream",
     "text": [
      "Training Epochs:  76%|███████▌  | 38/50 [09:58<03:08, 15.72s/it]"
     ]
    },
    {
     "name": "stdout",
     "output_type": "stream",
     "text": [
      "Epoch 38/50, Loss: 1.9039,  Val Accuracy: 0.5236, AP: 0.0883, Precision: 0.5235, Recall: 0.5230\n",
      "当前最好的模型： acc : 0.5328 ,loss : 1.9132167902486077 ,precision : 0.5314844466278708 ,recall : 0.5323580611414078 ,ap : 0.09507692942491533 ,epoch : 34 \n"
     ]
    },
    {
     "name": "stderr",
     "output_type": "stream",
     "text": [
      "Training Epochs:  78%|███████▊  | 39/50 [10:13<02:50, 15.53s/it]"
     ]
    },
    {
     "name": "stdout",
     "output_type": "stream",
     "text": [
      "Epoch 39/50, Loss: 1.9095,  Val Accuracy: 0.5068, AP: 0.1028, Precision: 0.5257, Recall: 0.5080\n",
      "当前最好的模型： acc : 0.5328 ,loss : 1.9132167902486077 ,precision : 0.5314844466278708 ,recall : 0.5323580611414078 ,ap : 0.09507692942491533 ,epoch : 34 \n"
     ]
    },
    {
     "name": "stderr",
     "output_type": "stream",
     "text": [
      "Training Epochs:  80%|████████  | 40/50 [10:28<02:33, 15.32s/it]"
     ]
    },
    {
     "name": "stdout",
     "output_type": "stream",
     "text": [
      "Epoch 40/50, Loss: 1.9002,  Val Accuracy: 0.5348, AP: 0.0885, Precision: 0.5353, Recall: 0.5352\n",
      "当前最好的模型： acc : 0.5348 ,loss : 1.9001504984395257 ,precision : 0.535285588261306 ,recall : 0.5351610029800575 ,ap : 0.08847658002572881 ,epoch : 39 \n"
     ]
    },
    {
     "name": "stderr",
     "output_type": "stream",
     "text": [
      "Training Epochs:  82%|████████▏ | 41/50 [10:43<02:16, 15.21s/it]"
     ]
    },
    {
     "name": "stdout",
     "output_type": "stream",
     "text": [
      "Epoch 41/50, Loss: 1.8951,  Val Accuracy: 0.5384, AP: 0.0803, Precision: 0.5381, Recall: 0.5397\n",
      "当前最好的模型： acc : 0.5384 ,loss : 1.895094018557976 ,precision : 0.5380834346055625 ,recall : 0.5396526167201292 ,ap : 0.0803093141724161 ,epoch : 40 \n"
     ]
    },
    {
     "name": "stderr",
     "output_type": "stream",
     "text": [
      "Training Epochs:  84%|████████▍ | 42/50 [10:58<02:00, 15.12s/it]"
     ]
    },
    {
     "name": "stdout",
     "output_type": "stream",
     "text": [
      "Epoch 42/50, Loss: 1.8958,  Val Accuracy: 0.5384, AP: 0.1059, Precision: 0.5393, Recall: 0.5373\n",
      "当前最好的模型： acc : 0.5384 ,loss : 1.8958291288079887 ,precision : 0.5392903325018388 ,recall : 0.5373129691155765 ,ap : 0.10588779305741873 ,epoch : 41 \n"
     ]
    },
    {
     "name": "stderr",
     "output_type": "stream",
     "text": [
      "Training Epochs:  86%|████████▌ | 43/50 [11:13<01:45, 15.12s/it]"
     ]
    },
    {
     "name": "stdout",
     "output_type": "stream",
     "text": [
      "Epoch 43/50, Loss: 1.8908,  Val Accuracy: 0.5332, AP: 0.0923, Precision: 0.5337, Recall: 0.5325\n",
      "当前最好的模型： acc : 0.5384 ,loss : 1.8958291288079887 ,precision : 0.5392903325018388 ,recall : 0.5373129691155765 ,ap : 0.10588779305741873 ,epoch : 41 \n"
     ]
    },
    {
     "name": "stderr",
     "output_type": "stream",
     "text": [
      "Training Epochs:  88%|████████▊ | 44/50 [11:28<01:30, 15.05s/it]"
     ]
    },
    {
     "name": "stdout",
     "output_type": "stream",
     "text": [
      "Epoch 44/50, Loss: 1.8941,  Val Accuracy: 0.5344, AP: 0.1036, Precision: 0.5403, Recall: 0.5350\n",
      "当前最好的模型： acc : 0.5384 ,loss : 1.8958291288079887 ,precision : 0.5392903325018388 ,recall : 0.5373129691155765 ,ap : 0.10588779305741873 ,epoch : 41 \n"
     ]
    },
    {
     "name": "stderr",
     "output_type": "stream",
     "text": [
      "Training Epochs:  90%|█████████ | 45/50 [11:43<01:14, 14.98s/it]"
     ]
    },
    {
     "name": "stdout",
     "output_type": "stream",
     "text": [
      "Epoch 45/50, Loss: 1.8879,  Val Accuracy: 0.5520, AP: 0.0853, Precision: 0.5510, Recall: 0.5520\n",
      "当前最好的模型： acc : 0.552 ,loss : 1.887880645949265 ,precision : 0.5510116177740261 ,recall : 0.5520372635261089 ,ap : 0.08533942133983544 ,epoch : 44 \n"
     ]
    },
    {
     "name": "stderr",
     "output_type": "stream",
     "text": [
      "Training Epochs:  92%|█████████▏| 46/50 [11:58<01:00, 15.07s/it]"
     ]
    },
    {
     "name": "stdout",
     "output_type": "stream",
     "text": [
      "Epoch 46/50, Loss: 1.8837,  Val Accuracy: 0.5384, AP: 0.0894, Precision: 0.5395, Recall: 0.5363\n",
      "当前最好的模型： acc : 0.552 ,loss : 1.887880645949265 ,precision : 0.5510116177740261 ,recall : 0.5520372635261089 ,ap : 0.08533942133983544 ,epoch : 44 \n"
     ]
    },
    {
     "name": "stderr",
     "output_type": "stream",
     "text": [
      "Training Epochs:  94%|█████████▍| 47/50 [12:13<00:45, 15.10s/it]"
     ]
    },
    {
     "name": "stdout",
     "output_type": "stream",
     "text": [
      "Epoch 47/50, Loss: 1.8763,  Val Accuracy: 0.5512, AP: 0.0904, Precision: 0.5570, Recall: 0.5521\n",
      "当前最好的模型： acc : 0.552 ,loss : 1.887880645949265 ,precision : 0.5510116177740261 ,recall : 0.5520372635261089 ,ap : 0.08533942133983544 ,epoch : 44 \n"
     ]
    },
    {
     "name": "stderr",
     "output_type": "stream",
     "text": [
      "Training Epochs:  96%|█████████▌| 48/50 [12:28<00:30, 15.21s/it]"
     ]
    },
    {
     "name": "stdout",
     "output_type": "stream",
     "text": [
      "Epoch 48/50, Loss: 1.8717,  Val Accuracy: 0.5464, AP: 0.0890, Precision: 0.5521, Recall: 0.5477\n",
      "当前最好的模型： acc : 0.552 ,loss : 1.887880645949265 ,precision : 0.5510116177740261 ,recall : 0.5520372635261089 ,ap : 0.08533942133983544 ,epoch : 44 \n"
     ]
    },
    {
     "name": "stderr",
     "output_type": "stream",
     "text": [
      "Training Epochs:  98%|█████████▊| 49/50 [12:44<00:15, 15.16s/it]"
     ]
    },
    {
     "name": "stdout",
     "output_type": "stream",
     "text": [
      "Epoch 49/50, Loss: 1.8730,  Val Accuracy: 0.5448, AP: 0.1018, Precision: 0.5503, Recall: 0.5450\n",
      "当前最好的模型： acc : 0.552 ,loss : 1.887880645949265 ,precision : 0.5510116177740261 ,recall : 0.5520372635261089 ,ap : 0.08533942133983544 ,epoch : 44 \n"
     ]
    },
    {
     "name": "stderr",
     "output_type": "stream",
     "text": [
      "Training Epochs: 100%|██████████| 50/50 [12:59<00:00, 15.59s/it]"
     ]
    },
    {
     "name": "stdout",
     "output_type": "stream",
     "text": [
      "Epoch 50/50, Loss: 1.8774,  Val Accuracy: 0.5316, AP: 0.0917, Precision: 0.5385, Recall: 0.5329\n",
      "当前最好的模型： acc : 0.552 ,loss : 1.887880645949265 ,precision : 0.5510116177740261 ,recall : 0.5520372635261089 ,ap : 0.08533942133983544 ,epoch : 44 \n"
     ]
    },
    {
     "name": "stderr",
     "output_type": "stream",
     "text": [
      "\n"
     ]
    }
   ],
   "source": [
    "\n",
    "bestMod=utils.BestSelector(acc=0)\n",
    "train_logs=utils.Logs()\n",
    "model=get_pretrained()\n",
    "# 定义损失函数和优化器\n",
    "criterion = nn.CrossEntropyLoss()\n",
    "# criterion = nn.BCELoss()\n",
    "if config.optim == \"Adam\":\n",
    "    optimizer = optim.Adam(model.parameters(), lr=config.lr)\n",
    "else:\n",
    "    optimizer = optim.SGD(model.parameters(), lr=config.lr, momentum=0.9, weight_decay=1e-4)\n",
    "    \n",
    "bestMod,train_logs=train_val.train_model(\n",
    "            model, \n",
    "            criterion,\n",
    "            optimizer, \n",
    "            train_loader,\n",
    "            val_loader,\n",
    "            bestMod=bestMod,\n",
    "            train_logs=train_logs,\n",
    "            config=config, \n",
    "            # num_epochs=config.epochs\n",
    "        )\n",
    "\n"
   ]
  },
  {
   "cell_type": "code",
   "execution_count": 10,
   "metadata": {},
   "outputs": [
    {
     "name": "stdout",
     "output_type": "stream",
     "text": [
      "50 epoch中 最好的模型\n",
      "acc : 0.552 ,loss : 1.887880645949265 ,precision : 0.5510116177740261 ,recall : 0.5520372635261089 ,ap : 0.08533942133983544 ,epoch : 44 \n"
     ]
    }
   ],
   "source": [
    "print(f\"{config.epochs} epoch中 最好的模型\")\n",
    "print(bestMod)"
   ]
  },
  {
   "cell_type": "markdown",
   "metadata": {},
   "source": [
    "#### 保存模型超参数和训练日志"
   ]
  },
  {
   "cell_type": "code",
   "execution_count": 11,
   "metadata": {},
   "outputs": [
    {
     "name": "stdout",
     "output_type": "stream",
     "text": [
      "save_weights\\AutoCNN-acc=0.552-loss=1.887881-max_epochs=50-1100\n"
     ]
    }
   ],
   "source": [
    "saveDir=r'save_weights'\n",
    "saveDir=os.path.join(saveDir,f'{bestMod.model.__class__.__name__}-acc={round(bestMod.acc,5)}-loss={round(bestMod.loss,6)}-max_epochs={config.epochs}-1100')\n",
    "utils.saveProcess(\n",
    "    saveDir=saveDir,\n",
    "    bestMod=bestMod,\n",
    "    train_log=train_logs,\n",
    "    config=config\n",
    ")"
   ]
  },
  {
   "cell_type": "markdown",
   "metadata": {},
   "source": [
    "#### 进行测试"
   ]
  },
  {
   "cell_type": "code",
   "execution_count": 12,
   "metadata": {},
   "outputs": [
    {
     "name": "stderr",
     "output_type": "stream",
     "text": [
      "模型测试中:: 100%|██████████| 16/16 [00:01<00:00,  8.03it/s]\n"
     ]
    },
    {
     "data": {
      "text/plain": [
       "{'Accuracy': 0.572,\n",
       " 'Precision': 0.6234483008635754,\n",
       " 'Recall': 0.5734097219219197,\n",
       " 'F1': 0.5735498695026443,\n",
       " 'AP': 0.06495701079185362}"
      ]
     },
     "execution_count": 12,
     "metadata": {},
     "output_type": "execute_result"
    }
   ],
   "source": [
    "import torch\n",
    "from utils import utils,train_val\n",
    "import os\n",
    "\n",
    "# config=Config(os.path.join(dir,'config.json'))\n",
    "# model=BestSelector(os.path.join(dir,'metrics.json'))\n",
    "saveDir=r'save_weights\\BinaryClassificationMobileNetV3Large-acc=0.74336-loss=1.671334-max_epochs=40-1100'\n",
    "\n",
    "Model,config,logs=utils.loadProcess(saveDir=saveDir)\n",
    "metrics=train_val.validate_model(\n",
    "    model=Model.model,\n",
    "    val_loader=test_loader,\n",
    "    device=config.device,\n",
    "    only_val=True\n",
    ")\n",
    "\n",
    "metrics"
   ]
  },
  {
   "cell_type": "markdown",
   "metadata": {},
   "source": [
    "#### 保存数据到tensorboard"
   ]
  },
  {
   "cell_type": "code",
   "execution_count": 13,
   "metadata": {},
   "outputs": [],
   "source": [
    "from utils import metrics,utils\n",
    "\n",
    "\n",
    "recoder=metrics.TensorboardRecorder(\n",
    "    log_dir=\"runs/\"\n",
    ")\n",
    "\n",
    "recoder.logs_scalars(\n",
    "    logs.logs,\n",
    "    prefix=\"train\"\n",
    ")\n",
    "\n"
   ]
  },
  {
   "cell_type": "markdown",
   "metadata": {},
   "source": [
    "#### 多个模型的训练日志展示\n",
    " "
   ]
  },
  {
   "cell_type": "code",
   "execution_count": 14,
   "metadata": {},
   "outputs": [],
   "source": [
    "from utils import metrics,utils\n",
    "import os\n",
    "model_dirs=[\n",
    "    r\"D:\\Desktop\\深度学习\\12.康复训练\\My_DL_Utils\\Project\\save_weights\\AutoCNN-acc=0.3832-loss=2.082528-max_epochs=10-1100\",\n",
    "    r\"D:\\Desktop\\深度学习\\12.康复训练\\My_DL_Utils\\Project\\save_weights\\BinaryClassificationMobileNetV3Large-acc=0.662-loss=1.719393-max_epochs=10-1100\"\n",
    "]\n",
    "recorders=[]\n",
    "for model_dir in model_dirs:\n",
    "    Model,config,logs=utils.loadProcess(model_dir)\n",
    "    dirname=os.path.basename(model_dir)\n",
    "    recorder=metrics.TensorboardRecorder(log_dir=f\"runs/{dirname}\")\n",
    "    recorders.append(recorder)\n",
    "    recorder.logs_scalars(\n",
    "        scalars=logs.logs,\n",
    "        prefix=\"train\"\n",
    "    )\n",
    "\n"
   ]
  }
 ],
 "metadata": {
  "kernelspec": {
   "display_name": "sound",
   "language": "python",
   "name": "python3"
  },
  "language_info": {
   "codemirror_mode": {
    "name": "ipython",
    "version": 3
   },
   "file_extension": ".py",
   "mimetype": "text/x-python",
   "name": "python",
   "nbconvert_exporter": "python",
   "pygments_lexer": "ipython3",
   "version": "3.9.17"
  }
 },
 "nbformat": 4,
 "nbformat_minor": 2
}
