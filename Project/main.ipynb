{
 "cells": [
  {
   "cell_type": "code",
   "execution_count": 1,
   "metadata": {},
   "outputs": [],
   "source": [
    "import os\n",
    "from PIL import Image\n",
    "import torch\n",
    "import torchvision\n",
    "from torch.utils.data import DataLoader, Dataset\n",
    "import torch.nn as nn\n",
    "import torchvision.transforms as transforms\n",
    "import torchvision.models as models\n",
    "import torch.optim as optim\n",
    "from utils import datasets\n",
    "from utils import utils\n",
    "from utils import train_val\n",
    "from utils import net #网络文件于此\n",
    "from utils import metrics\n",
    "import warnings\n",
    "# 完全禁用警告\n",
    "warnings.filterwarnings(\"ignore\")"
   ]
  },
  {
   "cell_type": "markdown",
   "metadata": {},
   "source": [
    "#### 基本超参数配置"
   ]
  },
  {
   "cell_type": "code",
   "execution_count": 2,
   "metadata": {},
   "outputs": [],
   "source": [
    "from utils.utils import Config,Logs,BestSelector\n",
    "config=utils.Config(\n",
    "    dataset_sep=[\n",
    "        0.82,0.17,0.01          \n",
    "        ],\n",
    "    resize_size=224,#图像尺寸\n",
    "    batch_size=128,\n",
    "    lr=0.0003,\n",
    "    epochs=50,#epoch轮数\n",
    "    hidden_size=256,\n",
    "    optim=\"AdamW\",\n",
    "    momentum=0.9,\n",
    "    weight_decay=1e-4,\n",
    "    seed=42,\n",
    "    mean= (0.4914, 0.4822, 0.4465),\n",
    "    std=(0.247, 0.243, 0.261),\n",
    "    AMP=True,\n",
    "    checkpoint_interval=0.25,#只保存4个模型\n",
    "    source_dir=r\"Cifar-10\",#原始数据集，每个分类一个文件夹，每个文件夹里包含多个图片\n",
    "    data_path=r\"data\\Cifar-10\",#项目数据集\n",
    "    data_crop_rate=0.2,\n",
    "    # classes=[\"Apple\",\"Carambola\",\"Pear\",\"Plum\",\"Tomatoes\"],\n",
    "    device=\"cuda\" if torch.cuda.is_available() else \"cpu\",\n",
    ")\n"
   ]
  },
  {
   "cell_type": "code",
   "execution_count": 3,
   "metadata": {},
   "outputs": [
    {
     "name": "stdout",
     "output_type": "stream",
     "text": [
      "data\\Cifar-10 数据集已存在，无需重新划分\n"
     ]
    }
   ],
   "source": [
    "from tqdm import tqdm\n",
    "\n",
    "torch.manual_seed(config.seed)\n",
    "isSplit= (not datasets.check_data_exist(config.data_path))#数据集不存在，则从原始数据存放处，转移数据集\n",
    "if isSplit:\n",
    "    print(f\"{config.data_path} 数据集不存在，将从source_dir:{config.source_dir}中获取数据\")\n",
    "    print(f\"清理源文件夹:{config.data_path}\")\n",
    "    datasets.clear_folder(config.data_path)\n",
    "    for dir in tqdm(config.classes,desc=\"处理原始数据：\"):\n",
    "        source_dir=os.path.join(config.source_dir, dir)\n",
    "        print(source_dir)\n",
    "        datasets.split_data(source_dir,target_dir=config.data_path,label=dir,sep=config.dataset_sep)\n",
    "else:\n",
    "    print(f\"{config.data_path} 数据集已存在，无需重新划分\")"
   ]
  },
  {
   "cell_type": "markdown",
   "metadata": {},
   "source": [
    "#### 本地数据集加载"
   ]
  },
  {
   "cell_type": "code",
   "execution_count": 4,
   "metadata": {},
   "outputs": [],
   "source": [
    "# def get_data_path(typ,path=config.data_path):\n",
    "#     return os.path.join(path,typ)\n",
    "# train_dataset=datasets.CustomImageDataset(\n",
    "#     get_data_path(\"train\"),#data/train\n",
    "#     classes=config.classes,\n",
    "#     transform=datasets.get_transform(\n",
    "#         resize_size=config.resize_size,\n",
    "#         mean=config.mean,std=config.std\n",
    "#         )\n",
    "# )"
   ]
  },
  {
   "cell_type": "markdown",
   "metadata": {},
   "source": [
    "#### 加载CIFAR-10数据集"
   ]
  },
  {
   "cell_type": "code",
   "execution_count": 5,
   "metadata": {},
   "outputs": [
    {
     "name": "stdout",
     "output_type": "stream",
     "text": [
      "Files already downloaded and verified\n",
      "Files already downloaded and verified\n",
      "原始训练集大小：37500\n",
      "原始验证集大小：12500\n",
      "原始测试集大小：10000\n"
     ]
    }
   ],
   "source": [
    "\n",
    "import torchvision\n",
    "train_val_dataset = torchvision.datasets.CIFAR10(\n",
    "    root='./data/Cifar-10', \n",
    "    train=True, \n",
    "    download=True, \n",
    "    transform=datasets.get_transform(\n",
    "        chance=\"train\",\n",
    "        resize_size=config.resize_size,\n",
    "\n",
    "    )\n",
    ")\n",
    "train_dataset,val_dataset=datasets.get_parts_of_datasets(train_val_dataset,rate=0.75,only_train=False)#训练验证3-1开\n",
    "\n",
    "test_dataset = torchvision.datasets.CIFAR10(root='./data/Cifar-10', train=False, download=True, transform=datasets.get_transform(\n",
    "    chance=\"val\",\n",
    "    resize_size=config.resize_size,\n",
    "))\n",
    "print(f\"原始训练集大小：{len(train_dataset)}\")\n",
    "print(f\"原始验证集大小：{len(val_dataset)}\")\n",
    "print(f\"原始测试集大小：{len(test_dataset)}\")"
   ]
  },
  {
   "cell_type": "markdown",
   "metadata": {},
   "source": [
    "##### load数据集，并根据数据量进行裁剪。CIFAR-10较大，本身为学习项目只取其中1/4数据进行训练测试"
   ]
  },
  {
   "cell_type": "code",
   "execution_count": 6,
   "metadata": {},
   "outputs": [
    {
     "name": "stdout",
     "output_type": "stream",
     "text": [
      "本次训练用训练集大小：7500\n",
      "本次训练用验证集大小：2500\n",
      "本次测试用测试集大小：2000\n",
      "tarin_dataloader加载完毕, 58个batch, batch大小为128\n",
      "val_dataloader  加载完毕, 20个batch, batch大小为128\n",
      "test_dataloader 加载完毕, 16个batch, batch大小为128\n"
     ]
    }
   ],
   "source": [
    "crop_rate=config.data_crop_rate\n",
    "train_dataset_crop=datasets.get_parts_of_datasets(train_dataset,crop_rate)\n",
    "val_dataset_crop=datasets.get_parts_of_datasets(val_dataset,crop_rate)\n",
    "test_dataset_crop=datasets.get_parts_of_datasets(test_dataset,crop_rate)\n",
    "train_dataset_size=len(train_dataset_crop)\n",
    "val_dataset_size=len(val_dataset_crop)\n",
    "test_dataset_size=len(test_dataset_crop)\n",
    "\n",
    "print(f\"本次训练用训练集大小：{len(train_dataset_crop)}\")\n",
    "print(f\"本次训练用验证集大小：{len(val_dataset_crop)}\")\n",
    "print(f\"本次测试用测试集大小：{len(test_dataset_crop)}\")\n",
    "\n",
    "train_loader=DataLoader(train_dataset_crop,batch_size=config.batch_size,shuffle=True,drop_last=True)\n",
    "val_loader=DataLoader(val_dataset_crop,batch_size=config.batch_size,shuffle=False)\n",
    "test_loader=DataLoader(test_dataset_crop,batch_size=config.batch_size,shuffle=False)\n",
    "\n",
    "print(f\"tarin_dataloader加载完毕, {len(train_loader)}个batch, batch大小为{config.batch_size}\")\n",
    "print(f\"val_dataloader  加载完毕, {len(val_loader)}个batch, batch大小为{config.batch_size}\")\n",
    "print(f\"test_dataloader 加载完毕, {len(test_loader)}个batch, batch大小为{config.batch_size}\")\n"
   ]
  },
  {
   "cell_type": "markdown",
   "metadata": {},
   "source": [
    "#### 记录本次训练和测试用的数据量，还有数据样本信息"
   ]
  },
  {
   "cell_type": "code",
   "execution_count": 7,
   "metadata": {},
   "outputs": [
    {
     "name": "stdout",
     "output_type": "stream",
     "text": [
      "torch.Size([128, 3, 224, 224])\n",
      "torch.Size([128])\n"
     ]
    }
   ],
   "source": [
    "#查看数据加载情况\n",
    "for inputs, labels in train_loader:\n",
    "    inputs=inputs.to(config.device)\n",
    "    labels=labels.to(config.device)\n",
    "    print(inputs.shape)\n",
    "    print(labels.shape)\n",
    "    config.update(\n",
    "        inputs_shape=inputs.shape\n",
    "        )\n",
    "    break\n",
    "config.update(\n",
    "    train_datasize=train_dataset_size,\n",
    "    val_datasetsize=val_dataset_size,\n",
    "    test_datasetsize=test_dataset_size,\n",
    "    datasets_crop_rate=crop_rate,\n",
    "    classes=train_val_dataset.classes,#原始数据集保留classes\n",
    ")\n"
   ]
  },
  {
   "cell_type": "markdown",
   "metadata": {},
   "source": [
    "#### 加载预训练模型，自己选择和调节参数"
   ]
  },
  {
   "cell_type": "code",
   "execution_count": 8,
   "metadata": {},
   "outputs": [
    {
     "name": "stdout",
     "output_type": "stream",
     "text": [
      "参数数量：6009713\n"
     ]
    },
    {
     "name": "stderr",
     "output_type": "stream",
     "text": [
      "Warm up ....: 100%|██████████| 100/100 [00:10<00:00,  9.18it/s]\n",
      "Testing ...: 100%|██████████| 300/300 [00:33<00:00,  9.02it/s]"
     ]
    },
    {
     "name": "stdout",
     "output_type": "stream",
     "text": [
      "推理一个batch的时间：0.10984260762532552 s\n",
      "inference_time:0.10984260762532552 s\n",
      "parameters_num:6009713\n"
     ]
    },
    {
     "name": "stderr",
     "output_type": "stream",
     "text": [
      "\n"
     ]
    },
    {
     "data": {
      "text/plain": [
       "dataset_sep : [0.82, 0.17, 0.01] \n",
       "resize_size : 224 \n",
       "batch_size : 128 \n",
       "lr : 0.0003 \n",
       "epochs : 50 \n",
       "hidden_size : 256 \n",
       "optim : AdamW \n",
       "momentum : 0.9 \n",
       "weight_decay : 0.0001 \n",
       "seed : 42 \n",
       "mean : (0.4914, 0.4822, 0.4465) \n",
       "std : (0.247, 0.243, 0.261) \n",
       "AMP : True \n",
       "checkpoint_interval : 0.25 \n",
       "source_dir : Cifar-10 \n",
       "data_path : data\\Cifar-10 \n",
       "data_crop_rate : 0.2 \n",
       "device : cuda \n",
       "inputs_shape : torch.Size([128, 3, 224, 224]) \n",
       "train_datasize : 7500 \n",
       "val_datasetsize : 2500 \n",
       "test_datasetsize : 2000 \n",
       "datasets_crop_rate : 0.2 \n",
       "classes : ['airplane', 'automobile', 'bird', 'cat', 'deer', 'dog', 'frog', 'horse', 'ship', 'truck'] \n",
       "network : VisionTransformer \n",
       "inference_time : 0.10984260762532552 \n",
       "parameters_num : 6009713 "
      ]
     },
     "execution_count": 8,
     "metadata": {},
     "output_type": "execute_result"
    }
   ],
   "source": [
    "\n",
    "def get_pretrained(config=config):\n",
    "    '''\n",
    "        获取预训练模型\n",
    "        @param config: 配置文件\n",
    "        @return: 预训练模型\n",
    "    '''\n",
    "    # model=net.BinaryClassificationMobileNetV3Large(out_size=len(config.classes))\n",
    "    # model=net.AutoCNN(\n",
    "    #     input_channels=3,\n",
    "    #     num_classes=len(config.classes),\n",
    "    #     input_size=config.inputs_shape[2:],\n",
    "    #     # hidden_channels_size_1=32,\n",
    "    #     # hidden_channels_size_2=64,\n",
    "    #     # hidden_channels_size_3=128,\n",
    "    #     # mlp_hidden_size=256\n",
    "    # )\n",
    "    # model=net.ResNet(\n",
    "    #     num_classes=len(config.classes),\n",
    "    #     input_channels=config.inputs_shape[1],\n",
    "    #)#最后全局池化层压下了尺寸，不需要提供输入尺寸\n",
    "    # model=net.AlexNet(\n",
    "    #     num_classes=len(config.classes),\n",
    "    # )\n",
    "    # model=net.VGGNet(\n",
    "    #     input_channels=config.inputs_shape[1],\n",
    "    #     num_classes=len(config.classes),\n",
    "    #     config=\"D\",\n",
    "    #     classifier_hidden_size=[4096,1024]\n",
    "    # )\n",
    "    # model=net.GoogLeNet(\n",
    "    #     input_channels=3,\n",
    "    #     num_classes=len(config.classes),\n",
    "    #     AAP_shape=(4,4),\n",
    "    #     aux_classify=True\n",
    "    # )\n",
    "    # model=net.MobileNetV1(\n",
    "    #     num_classes=len(config.classes),\n",
    "    #     gamma=1\n",
    "    # )\n",
    "    # model=torchvision.models.vision_transformer.VisionTransformer(\n",
    "    #     image_size=config.inputs_shape[2:],\n",
    "    #     embed_dim=343,\n",
    "        \n",
    "    #     depth=6,#decoder的个数\n",
    "    #     num_heads=7,\n",
    "    #     patch_size=(16,16),\n",
    "    #     mlp_ratio=2,\n",
    "    #     dropout_rate=0.2,\n",
    "    #     attention_dropout_rate=0.1,\n",
    "    # )\n",
    "    model=net.VisionTransformer(\n",
    "        image_size=config.inputs_shape[2:],\n",
    "        num_classes=len(config.classes),\n",
    "        embed_dim=343,\n",
    "        depth=6,#decoder的个数\n",
    "        num_heads=7,\n",
    "        patch_size=(16,16),\n",
    "        mlp_ratio=2,\n",
    "        dropout_rate=0.1,\n",
    "        attention_dropout_rate=0.1,\n",
    "    )\n",
    "    return model.to(config.device)\n",
    "\n",
    "test_model=get_pretrained()\n",
    "measurer=metrics.ModelMeasurer(test_model)\n",
    "unit=1\n",
    "parameters_num,inference_time=measurer.simply_check_model(input_shape=config.inputs_shape)\n",
    "print(f\"inference_time:{inference_time} s\")\n",
    "print(f\"parameters_num:{parameters_num}\")\n",
    "config.update(\n",
    "    network=test_model.__class__.__name__,\n",
    "    inference_time=inference_time,\n",
    "    parameters_num=parameters_num,\n",
    ")\n",
    "config"
   ]
  },
  {
   "cell_type": "markdown",
   "metadata": {},
   "source": [
    "#### 开始训练"
   ]
  },
  {
   "cell_type": "code",
   "execution_count": 9,
   "metadata": {},
   "outputs": [
    {
     "name": "stderr",
     "output_type": "stream",
     "text": [
      "Training Epochs:   2%|▏         | 1/50 [00:25<20:39, 25.30s/it]"
     ]
    },
    {
     "name": "stdout",
     "output_type": "stream",
     "text": [
      "Epoch 1/50, train_Loss: 2.0731, val_Loss: 2.0112 ,Val Accuracy: 0.2320, Precision: 0.2229, Recall: 0.2372\n",
      "当前最好的模型：acc : 0.2320 ,loss : 2.0731 ,precision : 0.2229 ,recall : 0.2372 ,ap : 0.1329 ,epoch : 0 \n"
     ]
    },
    {
     "name": "stderr",
     "output_type": "stream",
     "text": [
      "Training Epochs:   6%|▌         | 3/50 [01:14<19:20, 24.69s/it]"
     ]
    },
    {
     "name": "stdout",
     "output_type": "stream",
     "text": [
      "Epoch 3/50, train_Loss: 1.8356, val_Loss: 1.7682 ,Val Accuracy: 0.3448, Precision: 0.3779, Recall: 0.3446\n",
      "当前最好的模型：acc : 0.3448 ,loss : 1.8356 ,precision : 0.3779 ,recall : 0.3446 ,ap : 0.1183 ,epoch : 2 \n"
     ]
    },
    {
     "name": "stderr",
     "output_type": "stream",
     "text": [
      "Training Epochs:  10%|█         | 5/50 [02:04<18:44, 24.99s/it]"
     ]
    },
    {
     "name": "stdout",
     "output_type": "stream",
     "text": [
      "Epoch 5/50, train_Loss: 1.7141, val_Loss: 1.7757 ,Val Accuracy: 0.3472, Precision: 0.3846, Recall: 0.3510\n",
      "当前最好的模型：acc : 0.3572 ,loss : 1.7645 ,precision : 0.3740 ,recall : 0.3571 ,ap : 0.1129 ,epoch : 3 \n"
     ]
    },
    {
     "name": "stderr",
     "output_type": "stream",
     "text": [
      "Training Epochs:  14%|█▍        | 7/50 [02:54<17:56, 25.03s/it]"
     ]
    },
    {
     "name": "stdout",
     "output_type": "stream",
     "text": [
      "Epoch 7/50, train_Loss: 1.6399, val_Loss: 1.6574 ,Val Accuracy: 0.3888, Precision: 0.4069, Recall: 0.3899\n",
      "当前最好的模型：acc : 0.3920 ,loss : 1.6708 ,precision : 0.4145 ,recall : 0.3925 ,ap : 0.1480 ,epoch : 5 \n"
     ]
    },
    {
     "name": "stderr",
     "output_type": "stream",
     "text": [
      "Training Epochs:  18%|█▊        | 9/50 [03:43<16:54, 24.74s/it]"
     ]
    },
    {
     "name": "stdout",
     "output_type": "stream",
     "text": [
      "Epoch 9/50, train_Loss: 1.5327, val_Loss: 1.5887 ,Val Accuracy: 0.4284, Precision: 0.4357, Recall: 0.4299\n",
      "当前最好的模型：acc : 0.4284 ,loss : 1.5327 ,precision : 0.4357 ,recall : 0.4299 ,ap : 0.1213 ,epoch : 8 \n"
     ]
    },
    {
     "name": "stderr",
     "output_type": "stream",
     "text": [
      "Training Epochs:  22%|██▏       | 11/50 [04:33<16:11, 24.91s/it]"
     ]
    },
    {
     "name": "stdout",
     "output_type": "stream",
     "text": [
      "Epoch 11/50, train_Loss: 1.4879, val_Loss: 1.6208 ,Val Accuracy: 0.4192, Precision: 0.4470, Recall: 0.4195\n",
      "当前最好的模型：acc : 0.4284 ,loss : 1.5327 ,precision : 0.4357 ,recall : 0.4299 ,ap : 0.1213 ,epoch : 8 \n"
     ]
    },
    {
     "name": "stderr",
     "output_type": "stream",
     "text": [
      "Training Epochs:  26%|██▌       | 13/50 [05:22<15:13, 24.68s/it]"
     ]
    },
    {
     "name": "stdout",
     "output_type": "stream",
     "text": [
      "Epoch 13/50, train_Loss: 1.4395, val_Loss: 1.5330 ,Val Accuracy: 0.4456, Precision: 0.4594, Recall: 0.4474\n",
      "当前最好的模型：acc : 0.4456 ,loss : 1.4395 ,precision : 0.4594 ,recall : 0.4474 ,ap : 0.1184 ,epoch : 12 \n"
     ]
    },
    {
     "name": "stderr",
     "output_type": "stream",
     "text": [
      "Training Epochs:  30%|███       | 15/50 [06:11<14:20, 24.60s/it]"
     ]
    },
    {
     "name": "stdout",
     "output_type": "stream",
     "text": [
      "Epoch 15/50, train_Loss: 1.3969, val_Loss: 1.5369 ,Val Accuracy: 0.4416, Precision: 0.4689, Recall: 0.4428\n",
      "当前最好的模型：acc : 0.4444 ,loss : 1.4172 ,precision : 0.4817 ,recall : 0.4433 ,ap : 0.1351 ,epoch : 13 \n"
     ]
    },
    {
     "name": "stderr",
     "output_type": "stream",
     "text": [
      "Training Epochs:  34%|███▍      | 17/50 [07:00<13:31, 24.58s/it]"
     ]
    },
    {
     "name": "stdout",
     "output_type": "stream",
     "text": [
      "Epoch 17/50, train_Loss: 1.3453, val_Loss: 1.5104 ,Val Accuracy: 0.4624, Precision: 0.4675, Recall: 0.4624\n",
      "当前最好的模型：acc : 0.4624 ,loss : 1.3453 ,precision : 0.4675 ,recall : 0.4624 ,ap : 0.1140 ,epoch : 16 \n"
     ]
    },
    {
     "name": "stderr",
     "output_type": "stream",
     "text": [
      "Training Epochs:  38%|███▊      | 19/50 [07:51<12:51, 24.88s/it]"
     ]
    },
    {
     "name": "stdout",
     "output_type": "stream",
     "text": [
      "Epoch 19/50, train_Loss: 1.3408, val_Loss: 1.4716 ,Val Accuracy: 0.4692, Precision: 0.4951, Recall: 0.4704\n",
      "当前最好的模型：acc : 0.4692 ,loss : 1.3408 ,precision : 0.4951 ,recall : 0.4704 ,ap : 0.1241 ,epoch : 18 \n"
     ]
    },
    {
     "name": "stderr",
     "output_type": "stream",
     "text": [
      "Training Epochs:  42%|████▏     | 21/50 [08:39<11:53, 24.60s/it]"
     ]
    },
    {
     "name": "stdout",
     "output_type": "stream",
     "text": [
      "Epoch 21/50, train_Loss: 1.2701, val_Loss: 1.4699 ,Val Accuracy: 0.4776, Precision: 0.4935, Recall: 0.4775\n",
      "当前最好的模型：acc : 0.4776 ,loss : 1.2701 ,precision : 0.4935 ,recall : 0.4775 ,ap : 0.1184 ,epoch : 20 \n"
     ]
    },
    {
     "name": "stderr",
     "output_type": "stream",
     "text": [
      "Training Epochs:  46%|████▌     | 23/50 [09:28<11:04, 24.60s/it]"
     ]
    },
    {
     "name": "stdout",
     "output_type": "stream",
     "text": [
      "Epoch 23/50, train_Loss: 1.2587, val_Loss: 1.4654 ,Val Accuracy: 0.4864, Precision: 0.4963, Recall: 0.4832\n",
      "当前最好的模型：acc : 0.4864 ,loss : 1.2587 ,precision : 0.4963 ,recall : 0.4832 ,ap : 0.1206 ,epoch : 22 \n"
     ]
    },
    {
     "name": "stderr",
     "output_type": "stream",
     "text": [
      "Training Epochs:  50%|█████     | 25/50 [10:18<10:18, 24.73s/it]"
     ]
    },
    {
     "name": "stdout",
     "output_type": "stream",
     "text": [
      "Epoch 25/50, train_Loss: 1.2245, val_Loss: 1.4646 ,Val Accuracy: 0.4720, Precision: 0.5069, Recall: 0.4746\n",
      "当前最好的模型：acc : 0.4868 ,loss : 1.2295 ,precision : 0.5036 ,recall : 0.4866 ,ap : 0.1220 ,epoch : 23 \n"
     ]
    },
    {
     "name": "stderr",
     "output_type": "stream",
     "text": [
      "Training Epochs:  54%|█████▍    | 27/50 [11:07<09:25, 24.58s/it]"
     ]
    },
    {
     "name": "stdout",
     "output_type": "stream",
     "text": [
      "Epoch 27/50, train_Loss: 1.1717, val_Loss: 1.4954 ,Val Accuracy: 0.4768, Precision: 0.5067, Recall: 0.4774\n",
      "当前最好的模型：acc : 0.5056 ,loss : 1.2054 ,precision : 0.5033 ,recall : 0.5056 ,ap : 0.1204 ,epoch : 25 \n"
     ]
    },
    {
     "name": "stderr",
     "output_type": "stream",
     "text": [
      "Training Epochs:  58%|█████▊    | 29/50 [11:56<08:37, 24.66s/it]"
     ]
    },
    {
     "name": "stdout",
     "output_type": "stream",
     "text": [
      "Epoch 29/50, train_Loss: 1.1360, val_Loss: 1.4104 ,Val Accuracy: 0.5264, Precision: 0.5308, Recall: 0.5264\n",
      "当前最好的模型：acc : 0.5264 ,loss : 1.1360 ,precision : 0.5308 ,recall : 0.5264 ,ap : 0.1233 ,epoch : 28 \n"
     ]
    },
    {
     "name": "stderr",
     "output_type": "stream",
     "text": [
      "Training Epochs:  62%|██████▏   | 31/50 [12:49<08:07, 25.64s/it]"
     ]
    },
    {
     "name": "stdout",
     "output_type": "stream",
     "text": [
      "Epoch 31/50, train_Loss: 1.1098, val_Loss: 1.4779 ,Val Accuracy: 0.5024, Precision: 0.5153, Recall: 0.5015\n",
      "当前最好的模型：acc : 0.5264 ,loss : 1.1360 ,precision : 0.5308 ,recall : 0.5264 ,ap : 0.1233 ,epoch : 28 \n"
     ]
    },
    {
     "name": "stderr",
     "output_type": "stream",
     "text": [
      "Training Epochs:  66%|██████▌   | 33/50 [13:39<07:10, 25.30s/it]"
     ]
    },
    {
     "name": "stdout",
     "output_type": "stream",
     "text": [
      "Epoch 33/50, train_Loss: 1.0848, val_Loss: 1.4753 ,Val Accuracy: 0.4904, Precision: 0.5007, Recall: 0.4886\n",
      "当前最好的模型：acc : 0.5264 ,loss : 1.1360 ,precision : 0.5308 ,recall : 0.5264 ,ap : 0.1233 ,epoch : 28 \n"
     ]
    },
    {
     "name": "stderr",
     "output_type": "stream",
     "text": [
      "Training Epochs:  70%|███████   | 35/50 [14:29<06:20, 25.38s/it]"
     ]
    },
    {
     "name": "stdout",
     "output_type": "stream",
     "text": [
      "Epoch 00035: reducing learning rate of group 0 to 2.1000e-04.\n",
      "Epoch 35/50, train_Loss: 1.0514, val_Loss: 1.4761 ,Val Accuracy: 0.5000, Precision: 0.4957, Recall: 0.4990\n",
      "当前最好的模型：acc : 0.5264 ,loss : 1.1360 ,precision : 0.5308 ,recall : 0.5264 ,ap : 0.1233 ,epoch : 28 \n"
     ]
    },
    {
     "name": "stderr",
     "output_type": "stream",
     "text": [
      "Training Epochs:  74%|███████▍  | 37/50 [15:22<05:35, 25.79s/it]"
     ]
    },
    {
     "name": "stdout",
     "output_type": "stream",
     "text": [
      "Epoch 37/50, train_Loss: 0.9743, val_Loss: 1.4925 ,Val Accuracy: 0.5060, Precision: 0.5155, Recall: 0.5058\n",
      "当前最好的模型：acc : 0.5264 ,loss : 1.1360 ,precision : 0.5308 ,recall : 0.5264 ,ap : 0.1233 ,epoch : 28 \n"
     ]
    },
    {
     "name": "stderr",
     "output_type": "stream",
     "text": [
      "Training Epochs:  78%|███████▊  | 39/50 [16:22<05:12, 28.37s/it]"
     ]
    },
    {
     "name": "stdout",
     "output_type": "stream",
     "text": [
      "Epoch 39/50, train_Loss: 0.9306, val_Loss: 1.5015 ,Val Accuracy: 0.5232, Precision: 0.5218, Recall: 0.5221\n",
      "当前最好的模型：acc : 0.5232 ,loss : 0.9306 ,precision : 0.5218 ,recall : 0.5221 ,ap : 0.1265 ,epoch : 38 \n"
     ]
    },
    {
     "name": "stderr",
     "output_type": "stream",
     "text": [
      "Training Epochs:  82%|████████▏ | 41/50 [17:17<04:09, 27.77s/it]"
     ]
    },
    {
     "name": "stdout",
     "output_type": "stream",
     "text": [
      "Epoch 00041: reducing learning rate of group 0 to 1.4700e-04.\n",
      "Epoch 41/50, train_Loss: 0.9045, val_Loss: 1.5143 ,Val Accuracy: 0.5112, Precision: 0.5270, Recall: 0.5116\n",
      "当前最好的模型：acc : 0.5232 ,loss : 0.9306 ,precision : 0.5218 ,recall : 0.5221 ,ap : 0.1265 ,epoch : 38 \n"
     ]
    },
    {
     "name": "stderr",
     "output_type": "stream",
     "text": [
      "Training Epochs:  86%|████████▌ | 43/50 [18:10<03:09, 27.12s/it]"
     ]
    },
    {
     "name": "stdout",
     "output_type": "stream",
     "text": [
      "Epoch 43/50, train_Loss: 0.8108, val_Loss: 1.4757 ,Val Accuracy: 0.5312, Precision: 0.5308, Recall: 0.5306\n",
      "当前最好的模型：acc : 0.5312 ,loss : 0.8108 ,precision : 0.5308 ,recall : 0.5306 ,ap : 0.1176 ,epoch : 42 \n"
     ]
    },
    {
     "name": "stderr",
     "output_type": "stream",
     "text": [
      "Training Epochs:  90%|█████████ | 45/50 [19:02<02:12, 26.57s/it]"
     ]
    },
    {
     "name": "stdout",
     "output_type": "stream",
     "text": [
      "Epoch 45/50, train_Loss: 0.7882, val_Loss: 1.5105 ,Val Accuracy: 0.5220, Precision: 0.5288, Recall: 0.5225\n",
      "当前最好的模型：acc : 0.5312 ,loss : 0.8108 ,precision : 0.5308 ,recall : 0.5306 ,ap : 0.1176 ,epoch : 42 \n"
     ]
    },
    {
     "name": "stderr",
     "output_type": "stream",
     "text": [
      "Training Epochs:  94%|█████████▍| 47/50 [19:52<01:17, 25.72s/it]"
     ]
    },
    {
     "name": "stdout",
     "output_type": "stream",
     "text": [
      "Epoch 00047: reducing learning rate of group 0 to 1.0290e-04.\n",
      "Epoch 47/50, train_Loss: 0.7640, val_Loss: 1.5829 ,Val Accuracy: 0.5112, Precision: 0.5156, Recall: 0.5116\n",
      "当前最好的模型：acc : 0.5312 ,loss : 0.8108 ,precision : 0.5308 ,recall : 0.5306 ,ap : 0.1176 ,epoch : 42 \n"
     ]
    },
    {
     "name": "stderr",
     "output_type": "stream",
     "text": [
      "Training Epochs:  98%|█████████▊| 49/50 [20:42<00:25, 25.44s/it]"
     ]
    },
    {
     "name": "stdout",
     "output_type": "stream",
     "text": [
      "Epoch 49/50, train_Loss: 0.6686, val_Loss: 1.6104 ,Val Accuracy: 0.5216, Precision: 0.5245, Recall: 0.5222\n",
      "当前最好的模型：acc : 0.5312 ,loss : 0.8108 ,precision : 0.5308 ,recall : 0.5306 ,ap : 0.1176 ,epoch : 42 \n"
     ]
    },
    {
     "name": "stderr",
     "output_type": "stream",
     "text": [
      "Training Epochs: 100%|██████████| 50/50 [21:08<00:00, 25.37s/it]\n"
     ]
    }
   ],
   "source": [
    "\n",
    "bestMod=utils.BestSelector(acc=0)\n",
    "train_logs=utils.Logs()\n",
    "model=get_pretrained()\n",
    "# 定义损失函数和优化器\n",
    "criterion = nn.CrossEntropyLoss()\n",
    "# criterion = nn.BCELoss()\n",
    "if config.optim == \"Adam\":\n",
    "    optimizer = optim.Adam(model.parameters(), lr=config.lr)\n",
    "elif config.optim == \"AdamW\":\n",
    "    optimizer = optim.AdamW(model.parameters(), lr=config.lr,weight_decay=1e-4)\n",
    "else:\n",
    "    optimizer = optim.SGD(model.parameters(), lr=config.lr, momentum=0.9, weight_decay=1e-4)\n",
    "    \n",
    "bestMod,train_logs=train_val.train_model(\n",
    "            model, \n",
    "            criterion,\n",
    "            optimizer, \n",
    "            train_loader,\n",
    "            val_loader,\n",
    "            bestMod=bestMod,\n",
    "            train_logs=train_logs,\n",
    "            config=config, \n",
    "            checkpoint_interval=10000,\n",
    "            show_progress_interval=2,\n",
    "            AMP=config.AMP,#是否使用混合精度训练\n",
    "            multi_loss_weight=[1,0.3,0.3],\n",
    "            lr_scheduler_step=0.7,#动态调整学习率\n",
    "            lr_sheduler_patience=0.1\n",
    "            # num_epochs=config.epochs\n",
    "        )"
   ]
  },
  {
   "cell_type": "code",
   "execution_count": 10,
   "metadata": {},
   "outputs": [
    {
     "name": "stdout",
     "output_type": "stream",
     "text": [
      "50 epoch中 最好的模型\n",
      "acc : 0.5312 ,loss : 0.8108 ,precision : 0.5308 ,recall : 0.5306 ,ap : 0.1176 ,epoch : 42 \n"
     ]
    }
   ],
   "source": [
    "print(f\"{config.epochs} epoch中 最好的模型\")\n",
    "print(bestMod)"
   ]
  },
  {
   "cell_type": "markdown",
   "metadata": {},
   "source": [
    "#### 保存模型超参数和训练日志"
   ]
  },
  {
   "cell_type": "code",
   "execution_count": 11,
   "metadata": {},
   "outputs": [
    {
     "name": "stdout",
     "output_type": "stream",
     "text": [
      "save_weights\\VisionTran-acc=0.5312-loss=0.811-max_epochs=50\n",
      "{'acc': 0.5312, 'model': 'save_weights\\\\VisionTran-acc=0.5312-loss=0.811-max_epochs=50\\\\best.pth', 'loss': 0.8107660423065054, 'precision': 0.5307934525479923, 'recall': 0.5306094808870396, 'ap': 0.11760628953283334, 'epoch': 42, 'checkpoints': {'checkpoint_0': 'save_weights\\\\VisionTran-acc=0.5312-loss=0.811-max_epochs=50\\\\checkpoint_0.pth'}}\n"
     ]
    }
   ],
   "source": [
    "saveDir=r'save_weights'\n",
    "saveDir=os.path.join(\n",
    "        saveDir,\n",
    "        f'{bestMod.model.__class__.__name__[:10]}-acc={round(bestMod.acc,5)}-loss={round(bestMod.loss,3)}-max_epochs={config.epochs}'\n",
    ")  \n",
    "utils.saveProcess(\n",
    "    saveDir=saveDir,\n",
    "    bestMod=bestMod,\n",
    "    train_log=train_logs,\n",
    "    config=config\n",
    ")"
   ]
  },
  {
   "cell_type": "markdown",
   "metadata": {},
   "source": [
    "#### 进行测试"
   ]
  },
  {
   "cell_type": "code",
   "execution_count": 12,
   "metadata": {},
   "outputs": [
    {
     "name": "stderr",
     "output_type": "stream",
     "text": [
      "模型测试中:: 100%|██████████| 16/16 [00:03<00:00,  4.60it/s]\n"
     ]
    },
    {
     "data": {
      "text/plain": [
       "{'Accuracy': 0.5355,\n",
       " 'Precision': 0.5328231041443754,\n",
       " 'Recall': 0.5333450769252522,\n",
       " 'F1': 0.5229648823421558,\n",
       " 'AP': 0.10727837981267023,\n",
       " 'Loss': 1.5647672787308693}"
      ]
     },
     "execution_count": 12,
     "metadata": {},
     "output_type": "execute_result"
    }
   ],
   "source": [
    "import torch\n",
    "from utils import utils,train_val\n",
    "import os\n",
    "\n",
    "# config=Config(os.path.join(dir,'config.json'))\n",
    "# model=BestSelector(os.path.join(dir,'metrics.json'))\n",
    "# saveDir=r'save_weights\\BinaryClassificationMobileNetV3Large-acc=0.74336-loss=1.671334-max_epochs=40-1100'\n",
    "Model,config,logs=utils.loadProcess(saveDir=saveDir)\n",
    "metrics=train_val.validate_model(\n",
    "    model=Model.model,\n",
    "    val_loader=test_loader,\n",
    "    device=config.device,\n",
    "    only_val=True,\n",
    "    criterion=criterion\n",
    ")\n",
    "\n",
    "metrics"
   ]
  },
  {
   "cell_type": "markdown",
   "metadata": {},
   "source": [
    "#### 保存数据到tensorboard"
   ]
  },
  {
   "cell_type": "code",
   "execution_count": 13,
   "metadata": {},
   "outputs": [],
   "source": [
    "from utils import metrics,utils\n",
    "recoder=metrics.TensorboardRecorder(#存到tensorboard显示\n",
    "    log_dir=\"runs/\",\n",
    "    input_shape=[4,3,128,128],\n",
    "    model=model\n",
    "\n",
    ")\n",
    "recoder.logs_scalars(\n",
    "    logs.logs,\n",
    "    prefix=\"train\"\n",
    ")"
   ]
  }
 ],
 "metadata": {
  "kernelspec": {
   "display_name": "mmdetection",
   "language": "python",
   "name": "python3"
  },
  "language_info": {
   "codemirror_mode": {
    "name": "ipython",
    "version": 3
   },
   "file_extension": ".py",
   "mimetype": "text/x-python",
   "name": "python",
   "nbconvert_exporter": "python",
   "pygments_lexer": "ipython3",
   "version": "3.9.21"
  }
 },
 "nbformat": 4,
 "nbformat_minor": 2
}
