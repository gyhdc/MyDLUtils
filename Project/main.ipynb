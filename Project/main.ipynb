{
 "cells": [
  {
   "cell_type": "code",
   "execution_count": 1,
   "metadata": {},
   "outputs": [],
   "source": [
    "import os\n",
    "from PIL import Image\n",
    "import torch\n",
    "import torchvision\n",
    "from torch.utils.data import DataLoader, Dataset\n",
    "import torch.nn as nn\n",
    "import torchvision.transforms as transforms\n",
    "import torchvision.models as models\n",
    "import torch.optim as optim\n",
    "from utils import datasets\n",
    "from utils import utils\n",
    "from utils import train_val\n",
    "from utils import net #网络文件于此\n",
    "import warnings\n",
    "\n",
    "# 完全禁用警告\n",
    "warnings.filterwarnings(\"ignore\")"
   ]
  },
  {
   "cell_type": "code",
   "execution_count": 2,
   "metadata": {},
   "outputs": [
    {
     "name": "stdout",
     "output_type": "stream",
     "text": [
      "dataset_sep : [0.82, 0.17, 0.01] \n",
      "resize_size : 96 \n",
      "batch_size : 128 \n",
      "lr : 0.001 \n",
      "epochs : 10 \n",
      "hidden_size : 256 \n",
      "optim : Adam \n",
      "momentum : 0.9 \n",
      "weight_decay : 0.0001 \n",
      "seed : 42 \n",
      "mean : [0.50638, 0.49962538, 0.45205265] \n",
      "std : [0.23568255, 0.24141274, 0.25167742] \n",
      "source_dir : Cifar-10 \n",
      "data_path : data\\Cifar-10 \n",
      "device : cuda \n"
     ]
    }
   ],
   "source": [
    "from utils.utils import Config,Logs,BestSelector\n",
    "config=utils.Config(\n",
    "    dataset_sep=[\n",
    "        0.82,0.17,0.01          \n",
    "        ],\n",
    "    resize_size=96,\n",
    "    batch_size=128,\n",
    "    lr=0.001,\n",
    "    epochs=10,\n",
    "    hidden_size=256,\n",
    "    optim=\"Adam\",\n",
    "    momentum=0.9,\n",
    "    weight_decay=1e-4,\n",
    "    seed=42,\n",
    "    mean= [0.50638 ,0.49962538 ,0.45205265],\n",
    "    std=[0.23568255 ,0.24141274 ,0.25167742],\n",
    "    source_dir=r\"Cifar-10\",#原始数据集，每个分类一个文件夹，每个文件夹里包含多个图片\n",
    "    data_path=r\"data\\Cifar-10\",#项目数据集\n",
    "    # classes=[\"Apple\",\"Carambola\",\"Pear\",\"Plum\",\"Tomatoes\"],\n",
    "    device=\"cuda\" if torch.cuda.is_available() else \"cpu\",\n",
    ")\n",
    "print(config)"
   ]
  },
  {
   "cell_type": "code",
   "execution_count": 3,
   "metadata": {},
   "outputs": [
    {
     "name": "stdout",
     "output_type": "stream",
     "text": [
      "data\\Cifar-10 数据集已存在，无需重新划分\n"
     ]
    }
   ],
   "source": [
    "from tqdm import tqdm\n",
    "\n",
    "#设置随机数种子\n",
    "torch.manual_seed(config.seed)\n",
    "\n",
    "isSplit= (not datasets.check_data_exist(config.data_path))#数据集不存在，则从原始数据存放处，转移数据集\n",
    "if isSplit:\n",
    "    print(f\"{config.data_path} 数据集不存在，将从source_dir:{config.source_dir}中获取数据\")\n",
    "    print(f\"清理源文件夹:{config.data_path}\")\n",
    "    datasets.clear_folder(config.data_path)\n",
    "    for dir in tqdm(config.classes,desc=\"处理原始数据：\"):\n",
    "        source_dir=os.path.join(config.source_dir, dir)\n",
    "        print(source_dir)\n",
    "        datasets.split_data(source_dir,target_dir=config.data_path,label=dir,sep=config.dataset_sep)\n",
    "else:\n",
    "    print(f\"{config.data_path} 数据集已存在，无需重新划分\")\n",
    "\n"
   ]
  },
  {
   "cell_type": "code",
   "execution_count": 4,
   "metadata": {},
   "outputs": [
    {
     "data": {
      "text/plain": [
       "'\\ndef get_data_path(typ,path=config.data_path):\\n    return os.path.join(path,typ)\\n\\ntrain_dataset=datasets.CustomImageDataset(\\n    get_data_path(\"train\"),\\n    classes=config.classes,\\n    transform=datasets.get_transform(\\n        resize_size=config.resize_size,\\n        mean=config.mean,std=config.std\\n        )\\n)\\n\\nval_dataset=datasets.CustomImageDataset(\\n    get_data_path(\"val\"),\\n    classes=config.classes,\\n    transform=datasets.get_transform(\\n        \"val\",\\n        config.resize_size,\\n        \\n        mean=config.mean,\\n        std=config.std\\n        )\\n)\\n'"
      ]
     },
     "execution_count": 4,
     "metadata": {},
     "output_type": "execute_result"
    }
   ],
   "source": [
    "'''\n",
    "def get_data_path(typ,path=config.data_path):\n",
    "    return os.path.join(path,typ)\n",
    "\n",
    "train_dataset=datasets.CustomImageDataset(\n",
    "    get_data_path(\"train\"),\n",
    "    classes=config.classes,\n",
    "    transform=datasets.get_transform(\n",
    "        resize_size=config.resize_size,\n",
    "        mean=config.mean,std=config.std\n",
    "        )\n",
    ")\n",
    "\n",
    "val_dataset=datasets.CustomImageDataset(\n",
    "    get_data_path(\"val\"),\n",
    "    classes=config.classes,\n",
    "    transform=datasets.get_transform(\n",
    "        \"val\",\n",
    "        config.resize_size,\n",
    "        \n",
    "        mean=config.mean,\n",
    "        std=config.std\n",
    "        )\n",
    ")\n",
    "'''\n"
   ]
  },
  {
   "cell_type": "markdown",
   "metadata": {},
   "source": [
    "#### 加载数据集，可本地数据集。调用datasets.CustomImageDataset"
   ]
  },
  {
   "cell_type": "code",
   "execution_count": 5,
   "metadata": {},
   "outputs": [
    {
     "name": "stdout",
     "output_type": "stream",
     "text": [
      "Files already downloaded and verified\n",
      "Files already downloaded and verified\n",
      "原始训练集大小：37500\n",
      "原始验证集大小：12500\n",
      "原始测试集大小：10000\n"
     ]
    }
   ],
   "source": [
    "#加载cifar-10\n",
    "import torchvision\n",
    "train_val_dataset = torchvision.datasets.CIFAR10(\n",
    "    root='./data/Cifar-10', \n",
    "    train=True, \n",
    "    download=True, \n",
    "    transform=datasets.get_transform(\n",
    "        chance=\"train\",\n",
    "        resize_size=config.resize_size,\n",
    "        mean=(0.5, 0.5, 0.5), \n",
    "        std=(0.5, 0.5, 0.5)\n",
    "    )\n",
    ")\n",
    "train_dataset,val_dataset=datasets.get_parts_of_datasets(train_val_dataset,rate=0.75,only_train=False)#训练验证3-1开\n",
    "\n",
    "test_dataset = torchvision.datasets.CIFAR10(root='./data/Cifar-10', train=False, download=True, transform=datasets.get_transform(\n",
    "    chance=\"val\",\n",
    "    resize_size=config.resize_size,\n",
    "    mean=(0.5, 0.5, 0.5), \n",
    "    std=(0.5, 0.5, 0.5)\n",
    "))\n",
    "print(f\"原始训练集大小：{len(train_dataset)}\")\n",
    "print(f\"原始验证集大小：{len(val_dataset)}\")\n",
    "print(f\"原始测试集大小：{len(test_dataset)}\")"
   ]
  },
  {
   "cell_type": "markdown",
   "metadata": {},
   "source": [
    "#### load数据集，并根据数据量进行裁剪"
   ]
  },
  {
   "cell_type": "code",
   "execution_count": 6,
   "metadata": {},
   "outputs": [
    {
     "name": "stdout",
     "output_type": "stream",
     "text": [
      "本次训练用训练集大小：7500\n",
      "本次训练用验证集大小：2500\n",
      "本次测试用测试集大小：2000\n",
      "tarin_dataloader加载完毕, 58个batch, batch大小为128\n",
      "val_dataloader  加载完毕, 20个batch, batch大小为128\n",
      "test_dataloader 加载完毕, 16个batch, batch大小为128\n"
     ]
    }
   ],
   "source": [
    "crop_rate=0.20\n",
    "train_dataset_crop=datasets.get_parts_of_datasets(train_dataset,crop_rate)\n",
    "val_dataset_crop=datasets.get_parts_of_datasets(val_dataset,crop_rate)\n",
    "test_dataset_crop=datasets.get_parts_of_datasets(test_dataset,crop_rate)\n",
    "train_dataset_size=len(train_dataset_crop)\n",
    "val_dataset_size=len(val_dataset_crop)\n",
    "test_dataset_size=len(test_dataset_crop)\n",
    "\n",
    "print(f\"本次训练用训练集大小：{len(train_dataset_crop)}\")\n",
    "print(f\"本次训练用验证集大小：{len(val_dataset_crop)}\")\n",
    "print(f\"本次测试用测试集大小：{len(test_dataset_crop)}\")\n",
    "\n",
    "train_loader=DataLoader(train_dataset_crop,batch_size=config.batch_size,shuffle=True,drop_last=True)\n",
    "val_loader=DataLoader(val_dataset_crop,batch_size=config.batch_size,shuffle=False)\n",
    "test_loader=DataLoader(test_dataset_crop,batch_size=config.batch_size,shuffle=False)\n",
    "\n",
    "print(f\"tarin_dataloader加载完毕, {len(train_loader)}个batch, batch大小为{config.batch_size}\")\n",
    "print(f\"val_dataloader  加载完毕, {len(val_loader)}个batch, batch大小为{config.batch_size}\")\n",
    "print(f\"test_dataloader 加载完毕, {len(test_loader)}个batch, batch大小为{config.batch_size}\")\n"
   ]
  },
  {
   "cell_type": "markdown",
   "metadata": {},
   "source": [
    "#### 记录本次训练和测试用的数据量，还有数据样本信息"
   ]
  },
  {
   "cell_type": "code",
   "execution_count": 7,
   "metadata": {},
   "outputs": [
    {
     "name": "stdout",
     "output_type": "stream",
     "text": [
      "torch.Size([128, 3, 96, 96])\n",
      "torch.Size([128])\n"
     ]
    },
    {
     "data": {
      "text/plain": [
       "dataset_sep : [0.82, 0.17, 0.01] \n",
       "resize_size : 96 \n",
       "batch_size : 128 \n",
       "lr : 0.001 \n",
       "epochs : 10 \n",
       "hidden_size : 256 \n",
       "optim : Adam \n",
       "momentum : 0.9 \n",
       "weight_decay : 0.0001 \n",
       "seed : 42 \n",
       "mean : [0.50638, 0.49962538, 0.45205265] \n",
       "std : [0.23568255, 0.24141274, 0.25167742] \n",
       "source_dir : Cifar-10 \n",
       "data_path : data\\Cifar-10 \n",
       "device : cuda \n",
       "inputs_shape : torch.Size([128, 3, 96, 96]) \n",
       "train_datasize : 7500 \n",
       "val_datasetsize : 2500 \n",
       "test_datasetsize : 2000 \n",
       "datasets_crop_rate : 0.2 \n",
       "classes : ['airplane', 'automobile', 'bird', 'cat', 'deer', 'dog', 'frog', 'horse', 'ship', 'truck'] "
      ]
     },
     "execution_count": 7,
     "metadata": {},
     "output_type": "execute_result"
    }
   ],
   "source": [
    "#查看数据加载情况\n",
    "for inputs, labels in train_loader:\n",
    "    inputs=inputs.to(config.device)\n",
    "    labels=labels.to(config.device)\n",
    "    print(inputs.shape)\n",
    "    print(labels.shape)\n",
    "    config.update(\n",
    "        inputs_shape=inputs.shape\n",
    "        )\n",
    "    break\n",
    "config.update(\n",
    "    train_datasize=train_dataset_size,\n",
    "    val_datasetsize=val_dataset_size,\n",
    "    test_datasetsize=test_dataset_size,\n",
    "    datasets_crop_rate=crop_rate,\n",
    "    classes=train_val_dataset.classes,#原始数据集保留classes\n",
    ")\n",
    "config"
   ]
  },
  {
   "cell_type": "markdown",
   "metadata": {},
   "source": [
    "#### 加载预训练模型"
   ]
  },
  {
   "cell_type": "code",
   "execution_count": 8,
   "metadata": {},
   "outputs": [],
   "source": [
    "\n",
    "def get_pretrained(hidden_size=config.hidden_size,config=config):\n",
    "    '''\n",
    "        获取预训练模型\n",
    "        @param hidden_size: 隐藏层大小\n",
    "        @param config: 配置文件\n",
    "        @return: 预训练模型\n",
    "    '''\n",
    "    # model=net.BinaryClassificationMobileNetV3Large(out_size=len(config.classes))\n",
    "    model=net.AutoCNN(\n",
    "        input_channels=config.inputs_shape[1],\n",
    "        input_size=config.inputs_shape[2:],\n",
    "        num_classes=len(config.classes),\n",
    "        hidden_channels_size_1=128,\n",
    "        hidden_channels_size_2=64,\n",
    "        mlp_hidden_size=256\n",
    "    )\n",
    "    return model.to(config.device)\n",
    "test_model=get_pretrained()\n",
    "config.update(\n",
    "    network=test_model.__class__.__name__,\n",
    ")"
   ]
  },
  {
   "cell_type": "code",
   "execution_count": 9,
   "metadata": {},
   "outputs": [
    {
     "name": "stderr",
     "output_type": "stream",
     "text": [
      "Training Epochs:  10%|█         | 1/10 [00:11<01:47, 11.92s/it]"
     ]
    },
    {
     "name": "stdout",
     "output_type": "stream",
     "text": [
      "Epoch 1/10, Loss: 2.2231,  Val Accuracy: 0.2516, AP: 0.0776, Precision: 0.2649, Recall: 0.2527\n",
      "当前最好的模型： acc : 0.2516 ,loss : 2.2231496736921113 ,precision : 0.2648824424771915 ,recall : 0.2527205042153368 ,ap : 0.07761913413824495 ,epoch : 0 \n"
     ]
    },
    {
     "name": "stderr",
     "output_type": "stream",
     "text": [
      "Training Epochs:  20%|██        | 2/10 [00:21<01:25, 10.66s/it]"
     ]
    },
    {
     "name": "stdout",
     "output_type": "stream",
     "text": [
      "Epoch 2/10, Loss: 2.1818,  Val Accuracy: 0.3084, AP: 0.0814, Precision: 0.3402, Recall: 0.3093\n",
      "当前最好的模型： acc : 0.3084 ,loss : 2.1818406705198616 ,precision : 0.3402439116528064 ,recall : 0.3092585487235012 ,ap : 0.08140269334183767 ,epoch : 1 \n"
     ]
    },
    {
     "name": "stderr",
     "output_type": "stream",
     "text": [
      "Training Epochs:  30%|███       | 3/10 [00:31<01:10, 10.14s/it]"
     ]
    },
    {
     "name": "stdout",
     "output_type": "stream",
     "text": [
      "Epoch 3/10, Loss: 2.1588,  Val Accuracy: 0.3112, AP: 0.0894, Precision: 0.3506, Recall: 0.3097\n",
      "当前最好的模型： acc : 0.3112 ,loss : 2.1587918297997835 ,precision : 0.35061327375221424 ,recall : 0.3097096231467346 ,ap : 0.08937076970430555 ,epoch : 2 \n"
     ]
    },
    {
     "name": "stderr",
     "output_type": "stream",
     "text": [
      "Training Epochs:  40%|████      | 4/10 [00:40<00:58,  9.78s/it]"
     ]
    },
    {
     "name": "stdout",
     "output_type": "stream",
     "text": [
      "Epoch 4/10, Loss: 2.1298,  Val Accuracy: 0.3388, AP: 0.0802, Precision: 0.3444, Recall: 0.3380\n",
      "当前最好的模型： acc : 0.3388 ,loss : 2.1297525044145256 ,precision : 0.3443570646290496 ,recall : 0.3379577998488165 ,ap : 0.08024807122836354 ,epoch : 3 \n"
     ]
    },
    {
     "name": "stderr",
     "output_type": "stream",
     "text": [
      "Training Epochs:  50%|█████     | 5/10 [00:49<00:48,  9.68s/it]"
     ]
    },
    {
     "name": "stdout",
     "output_type": "stream",
     "text": [
      "Epoch 5/10, Loss: 2.1165,  Val Accuracy: 0.3544, AP: 0.0785, Precision: 0.3517, Recall: 0.3553\n",
      "当前最好的模型： acc : 0.3544 ,loss : 2.116477707336689 ,precision : 0.35171183844888876 ,recall : 0.35529897941245797 ,ap : 0.0785405332314278 ,epoch : 4 \n"
     ]
    },
    {
     "name": "stderr",
     "output_type": "stream",
     "text": [
      "Training Epochs:  60%|██████    | 6/10 [00:59<00:38,  9.55s/it]"
     ]
    },
    {
     "name": "stdout",
     "output_type": "stream",
     "text": [
      "Epoch 6/10, Loss: 2.0988,  Val Accuracy: 0.3700, AP: 0.0916, Precision: 0.3869, Recall: 0.3717\n",
      "当前最好的模型： acc : 0.37 ,loss : 2.0987942794273637 ,precision : 0.38687821455145943 ,recall : 0.3716545569448786 ,ap : 0.0916033133437036 ,epoch : 5 \n"
     ]
    },
    {
     "name": "stderr",
     "output_type": "stream",
     "text": [
      "Training Epochs:  70%|███████   | 7/10 [01:08<00:28,  9.34s/it]"
     ]
    },
    {
     "name": "stdout",
     "output_type": "stream",
     "text": [
      "Epoch 7/10, Loss: 2.0938,  Val Accuracy: 0.3744, AP: 0.0917, Precision: 0.3946, Recall: 0.3753\n",
      "当前最好的模型： acc : 0.3744 ,loss : 2.0937814383671203 ,precision : 0.3946228717070739 ,recall : 0.3753288493352561 ,ap : 0.09171165844660878 ,epoch : 6 \n"
     ]
    },
    {
     "name": "stderr",
     "output_type": "stream",
     "text": [
      "Training Epochs:  80%|████████  | 8/10 [01:17<00:18,  9.37s/it]"
     ]
    },
    {
     "name": "stdout",
     "output_type": "stream",
     "text": [
      "Epoch 8/10, Loss: 2.0833,  Val Accuracy: 0.3588, AP: 0.0926, Precision: 0.3808, Recall: 0.3583\n",
      "当前最好的模型： acc : 0.3744 ,loss : 2.0937814383671203 ,precision : 0.3946228717070739 ,recall : 0.3753288493352561 ,ap : 0.09171165844660878 ,epoch : 6 \n"
     ]
    },
    {
     "name": "stderr",
     "output_type": "stream",
     "text": [
      "Training Epochs:  90%|█████████ | 9/10 [01:26<00:09,  9.29s/it]"
     ]
    },
    {
     "name": "stdout",
     "output_type": "stream",
     "text": [
      "Epoch 9/10, Loss: 2.0830,  Val Accuracy: 0.3876, AP: 0.0868, Precision: 0.3918, Recall: 0.3870\n",
      "当前最好的模型： acc : 0.3876 ,loss : 2.082984315937963 ,precision : 0.39177998809137676 ,recall : 0.386974923516492 ,ap : 0.0868154242184147 ,epoch : 8 \n"
     ]
    },
    {
     "name": "stderr",
     "output_type": "stream",
     "text": [
      "Training Epochs: 100%|██████████| 10/10 [01:35<00:00,  9.55s/it]"
     ]
    },
    {
     "name": "stdout",
     "output_type": "stream",
     "text": [
      "Epoch 10/10, Loss: 2.0749,  Val Accuracy: 0.3716, AP: 0.0777, Precision: 0.3842, Recall: 0.3716\n",
      "当前最好的模型： acc : 0.3876 ,loss : 2.082984315937963 ,precision : 0.39177998809137676 ,recall : 0.386974923516492 ,ap : 0.0868154242184147 ,epoch : 8 \n"
     ]
    },
    {
     "name": "stderr",
     "output_type": "stream",
     "text": [
      "\n"
     ]
    }
   ],
   "source": [
    "\n",
    "bestMod=utils.BestSelector(acc=0)\n",
    "train_logs=utils.Logs()\n",
    "model=get_pretrained()\n",
    "# 定义损失函数和优化器\n",
    "criterion = nn.CrossEntropyLoss()\n",
    "# criterion = nn.BCELoss()\n",
    "if config.optim == \"Adam\":\n",
    "    optimizer = optim.Adam(model.parameters(), lr=config.lr)\n",
    "else:\n",
    "    optimizer = optim.SGD(model.parameters(), lr=config.lr, momentum=0.9, weight_decay=1e-4)\n",
    "    \n",
    "bestMod,train_logs=train_val.train_model(\n",
    "            model, \n",
    "            criterion,\n",
    "            optimizer, \n",
    "            train_loader,\n",
    "            val_loader,\n",
    "            bestMod=bestMod,\n",
    "            train_logs=train_logs,\n",
    "            config=config, \n",
    "            # num_epochs=config.epochs\n",
    "        )\n",
    "\n"
   ]
  },
  {
   "cell_type": "code",
   "execution_count": 10,
   "metadata": {},
   "outputs": [
    {
     "name": "stdout",
     "output_type": "stream",
     "text": [
      "10 epoch中 最好的模型\n",
      "acc : 0.3876 ,loss : 2.082984315937963 ,precision : 0.39177998809137676 ,recall : 0.386974923516492 ,ap : 0.0868154242184147 ,epoch : 8 \n"
     ]
    }
   ],
   "source": [
    "print(f\"{config.epochs} epoch中 最好的模型\")\n",
    "print(bestMod)"
   ]
  },
  {
   "cell_type": "markdown",
   "metadata": {},
   "source": [
    "#### 保存模型超参数和训练日志"
   ]
  },
  {
   "cell_type": "code",
   "execution_count": 11,
   "metadata": {},
   "outputs": [
    {
     "name": "stdout",
     "output_type": "stream",
     "text": [
      "save_weights\\AutoCNN-acc=0.3876-loss=2.082984-max_epochs=10-1100\n"
     ]
    }
   ],
   "source": [
    "saveDir=r'save_weights'\n",
    "saveDir=os.path.join(saveDir,f'{bestMod.model.__class__.__name__}-acc={round(bestMod.acc,5)}-loss={round(bestMod.loss,6)}-max_epochs={config.epochs}-1100')\n",
    "utils.saveProcess(\n",
    "    saveDir=saveDir,\n",
    "    bestMod=bestMod,\n",
    "    train_log=train_logs,\n",
    "    config=config\n",
    ")"
   ]
  },
  {
   "cell_type": "markdown",
   "metadata": {},
   "source": [
    "#### 进行测试"
   ]
  },
  {
   "cell_type": "code",
   "execution_count": 12,
   "metadata": {},
   "outputs": [
    {
     "name": "stderr",
     "output_type": "stream",
     "text": [
      "模型测试中:: 100%|██████████| 16/16 [00:01<00:00, 11.01it/s]\n"
     ]
    },
    {
     "data": {
      "text/plain": [
       "{'Accuracy': 0.2995,\n",
       " 'Precision': 0.4298121556222185,\n",
       " 'Recall': 0.30232334829609153,\n",
       " 'F1': 0.2504240470912221,\n",
       " 'AP': 0.06253706286365261}"
      ]
     },
     "execution_count": 12,
     "metadata": {},
     "output_type": "execute_result"
    }
   ],
   "source": [
    "import torch\n",
    "from utils import utils,train_val\n",
    "import os\n",
    "\n",
    "# config=Config(os.path.join(dir,'config.json'))\n",
    "# model=BestSelector(os.path.join(dir,'metrics.json'))\n",
    "saveDir=r'save_weights\\BinaryClassificationMobileNetV3Large-acc=0.74336-loss=1.671334-max_epochs=40-1100'\n",
    "\n",
    "Model,config,logs=utils.loadProcess(saveDir=saveDir)\n",
    "metrics=train_val.validate_model(\n",
    "    model=Model.model,\n",
    "    val_loader=test_loader,\n",
    "    device=config.device,\n",
    "    only_val=True\n",
    ")\n",
    "\n",
    "metrics"
   ]
  },
  {
   "cell_type": "markdown",
   "metadata": {},
   "source": [
    "#### 保存数据到tensorboard"
   ]
  },
  {
   "cell_type": "code",
   "execution_count": 13,
   "metadata": {},
   "outputs": [],
   "source": [
    "from utils import metrics,utils\n",
    "\n",
    "\n",
    "recoder=metrics.TensorboardRecorder(\n",
    "    log_dir=\"runs/\"\n",
    ")\n",
    "\n",
    "recoder.logs_scalars(\n",
    "    logs.logs,\n",
    "    prefix=\"train\"\n",
    ")\n",
    "\n"
   ]
  },
  {
   "cell_type": "code",
   "execution_count": 2,
   "metadata": {},
   "outputs": [],
   "source": [
    "from utils import metrics,utils\n",
    "import os\n",
    "model_dirs=[\n",
    "    r\"D:\\Desktop\\深度学习\\12.康复训练\\My_DL_Utils\\Project\\save_weights\\AutoCNN-acc=0.3832-loss=2.082528-max_epochs=10-1100\",\n",
    "    r\"D:\\Desktop\\深度学习\\12.康复训练\\My_DL_Utils\\Project\\save_weights\\BinaryClassificationMobileNetV3Large-acc=0.662-loss=1.719393-max_epochs=10-1100\"\n",
    "]\n",
    "recorders=[]\n",
    "for model_dir in model_dirs:\n",
    "    Model,config,logs=utils.loadProcess(model_dir)\n",
    "    dirname=os.path.basename(model_dir)\n",
    "    recorder=metrics.TensorboardRecorder(log_dir=f\"runs/{dirname}\")\n",
    "    recorders.append(recorder)\n",
    "    recorder.logs_scalars(\n",
    "        scalars=logs.logs,\n",
    "        prefix=\"train\"\n",
    "    )\n",
    "\n"
   ]
  }
 ],
 "metadata": {
  "kernelspec": {
   "display_name": "sound",
   "language": "python",
   "name": "python3"
  },
  "language_info": {
   "codemirror_mode": {
    "name": "ipython",
    "version": 3
   },
   "file_extension": ".py",
   "mimetype": "text/x-python",
   "name": "python",
   "nbconvert_exporter": "python",
   "pygments_lexer": "ipython3",
   "version": "3.9.17"
  }
 },
 "nbformat": 4,
 "nbformat_minor": 2
}
