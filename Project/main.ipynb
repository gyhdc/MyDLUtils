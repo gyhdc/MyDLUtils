{
 "cells": [
  {
   "cell_type": "code",
   "execution_count": 1,
   "metadata": {},
   "outputs": [],
   "source": [
    "import os\n",
    "from PIL import Image\n",
    "import torch\n",
    "import torchvision\n",
    "from torch.utils.data import DataLoader, Dataset\n",
    "import torch.nn as nn\n",
    "import torchvision.transforms as transforms\n",
    "import torchvision.models as models\n",
    "import torch.optim as optim\n",
    "from utils import datasets\n",
    "from utils import utils\n",
    "from utils import train_val\n",
    "from utils import net #网络文件于此\n",
    "from utils import metrics\n",
    "import warnings\n",
    "\n",
    "# 完全禁用警告\n",
    "warnings.filterwarnings(\"ignore\")"
   ]
  },
  {
   "cell_type": "code",
   "execution_count": 2,
   "metadata": {},
   "outputs": [
    {
     "name": "stdout",
     "output_type": "stream",
     "text": [
      "dataset_sep : [0.82, 0.17, 0.01] \n",
      "resize_size : 168 \n",
      "batch_size : 128 \n",
      "lr : 0.001 \n",
      "epochs : 30 \n",
      "hidden_size : 256 \n",
      "optim : Adam \n",
      "momentum : 0.9 \n",
      "weight_decay : 0.0001 \n",
      "seed : 42 \n",
      "mean : [0.50638, 0.49962538, 0.45205265] \n",
      "std : [0.23568255, 0.24141274, 0.25167742] \n",
      "checkpoint_interval : 0.25 \n",
      "source_dir : Cifar-10 \n",
      "data_path : data\\Cifar-10 \n",
      "device : cuda \n"
     ]
    }
   ],
   "source": [
    "from utils.utils import Config,Logs,BestSelector\n",
    "config=utils.Config(\n",
    "    dataset_sep=[\n",
    "        0.82,0.17,0.01          \n",
    "        ],\n",
    "    resize_size=168,\n",
    "    batch_size=128,\n",
    "    lr=0.001,\n",
    "    epochs=30,\n",
    "    hidden_size=256,\n",
    "    optim=\"Adam\",\n",
    "    momentum=0.9,\n",
    "    weight_decay=1e-4,\n",
    "    seed=42,\n",
    "    mean= [0.50638 ,0.49962538 ,0.45205265],\n",
    "    std=[0.23568255 ,0.24141274 ,0.25167742],\n",
    "    checkpoint_interval=0.25,#只保存4个模型\n",
    "    source_dir=r\"Cifar-10\",#原始数据集，每个分类一个文件夹，每个文件夹里包含多个图片\n",
    "    data_path=r\"data\\Cifar-10\",#项目数据集\n",
    "    # classes=[\"Apple\",\"Carambola\",\"Pear\",\"Plum\",\"Tomatoes\"],\n",
    "    device=\"cuda\" if torch.cuda.is_available() else \"cpu\",\n",
    ")\n",
    "print(config)"
   ]
  },
  {
   "cell_type": "code",
   "execution_count": 3,
   "metadata": {},
   "outputs": [
    {
     "name": "stdout",
     "output_type": "stream",
     "text": [
      "data\\Cifar-10 数据集已存在，无需重新划分\n"
     ]
    }
   ],
   "source": [
    "from tqdm import tqdm\n",
    "\n",
    "#设置随机数种子\n",
    "torch.manual_seed(config.seed)\n",
    "\n",
    "isSplit= (not datasets.check_data_exist(config.data_path))#数据集不存在，则从原始数据存放处，转移数据集\n",
    "if isSplit:\n",
    "    print(f\"{config.data_path} 数据集不存在，将从source_dir:{config.source_dir}中获取数据\")\n",
    "    print(f\"清理源文件夹:{config.data_path}\")\n",
    "    datasets.clear_folder(config.data_path)\n",
    "    for dir in tqdm(config.classes,desc=\"处理原始数据：\"):\n",
    "        source_dir=os.path.join(config.source_dir, dir)\n",
    "        print(source_dir)\n",
    "        datasets.split_data(source_dir,target_dir=config.data_path,label=dir,sep=config.dataset_sep)\n",
    "else:\n",
    "    print(f\"{config.data_path} 数据集已存在，无需重新划分\")\n",
    "\n"
   ]
  },
  {
   "cell_type": "code",
   "execution_count": 4,
   "metadata": {},
   "outputs": [
    {
     "data": {
      "text/plain": [
       "'\\ndef get_data_path(typ,path=config.data_path):\\n    return os.path.join(path,typ)\\n\\ntrain_dataset=datasets.CustomImageDataset(\\n    get_data_path(\"train\"),\\n    classes=config.classes,\\n    transform=datasets.get_transform(\\n        resize_size=config.resize_size,\\n        mean=config.mean,std=config.std\\n        )\\n)\\n\\nval_dataset=datasets.CustomImageDataset(\\n    get_data_path(\"val\"),\\n    classes=config.classes,\\n    transform=datasets.get_transform(\\n        \"val\",\\n        config.resize_size,\\n        \\n        mean=config.mean,\\n        std=config.std\\n        )\\n)\\n'"
      ]
     },
     "execution_count": 4,
     "metadata": {},
     "output_type": "execute_result"
    }
   ],
   "source": [
    "'''\n",
    "def get_data_path(typ,path=config.data_path):\n",
    "    return os.path.join(path,typ)\n",
    "\n",
    "train_dataset=datasets.CustomImageDataset(\n",
    "    get_data_path(\"train\"),\n",
    "    classes=config.classes,\n",
    "    transform=datasets.get_transform(\n",
    "        resize_size=config.resize_size,\n",
    "        mean=config.mean,std=config.std\n",
    "        )\n",
    ")\n",
    "\n",
    "val_dataset=datasets.CustomImageDataset(\n",
    "    get_data_path(\"val\"),\n",
    "    classes=config.classes,\n",
    "    transform=datasets.get_transform(\n",
    "        \"val\",\n",
    "        config.resize_size,\n",
    "        \n",
    "        mean=config.mean,\n",
    "        std=config.std\n",
    "        )\n",
    ")\n",
    "'''\n"
   ]
  },
  {
   "cell_type": "markdown",
   "metadata": {},
   "source": [
    "#### 加载数据集，可本地数据集。调用datasets.CustomImageDataset"
   ]
  },
  {
   "cell_type": "code",
   "execution_count": 5,
   "metadata": {},
   "outputs": [
    {
     "name": "stdout",
     "output_type": "stream",
     "text": [
      "Files already downloaded and verified\n",
      "Files already downloaded and verified\n",
      "原始训练集大小：37500\n",
      "原始验证集大小：12500\n",
      "原始测试集大小：10000\n"
     ]
    }
   ],
   "source": [
    "#加载cifar-10\n",
    "import torchvision\n",
    "train_val_dataset = torchvision.datasets.CIFAR10(\n",
    "    root='./data/Cifar-10', \n",
    "    train=True, \n",
    "    download=True, \n",
    "    transform=datasets.get_transform(\n",
    "        chance=\"train\",\n",
    "        resize_size=config.resize_size,\n",
    "        mean=(0.5, 0.5, 0.5), \n",
    "        std=(0.5, 0.5, 0.5)\n",
    "    )\n",
    ")\n",
    "train_dataset,val_dataset=datasets.get_parts_of_datasets(train_val_dataset,rate=0.75,only_train=False)#训练验证3-1开\n",
    "\n",
    "test_dataset = torchvision.datasets.CIFAR10(root='./data/Cifar-10', train=False, download=True, transform=datasets.get_transform(\n",
    "    chance=\"val\",\n",
    "    resize_size=config.resize_size,\n",
    "    mean=(0.5, 0.5, 0.5), \n",
    "    std=(0.5, 0.5, 0.5)\n",
    "))\n",
    "print(f\"原始训练集大小：{len(train_dataset)}\")\n",
    "print(f\"原始验证集大小：{len(val_dataset)}\")\n",
    "print(f\"原始测试集大小：{len(test_dataset)}\")"
   ]
  },
  {
   "cell_type": "markdown",
   "metadata": {},
   "source": [
    "#### load数据集，并根据数据量进行裁剪"
   ]
  },
  {
   "cell_type": "code",
   "execution_count": 6,
   "metadata": {},
   "outputs": [
    {
     "name": "stdout",
     "output_type": "stream",
     "text": [
      "本次训练用训练集大小：9375\n",
      "本次训练用验证集大小：3125\n",
      "本次测试用测试集大小：2500\n",
      "tarin_dataloader加载完毕, 73个batch, batch大小为128\n",
      "val_dataloader  加载完毕, 25个batch, batch大小为128\n",
      "test_dataloader 加载完毕, 20个batch, batch大小为128\n"
     ]
    }
   ],
   "source": [
    "crop_rate=0.25\n",
    "train_dataset_crop=datasets.get_parts_of_datasets(train_dataset,crop_rate)\n",
    "val_dataset_crop=datasets.get_parts_of_datasets(val_dataset,crop_rate)\n",
    "test_dataset_crop=datasets.get_parts_of_datasets(test_dataset,crop_rate)\n",
    "train_dataset_size=len(train_dataset_crop)\n",
    "val_dataset_size=len(val_dataset_crop)\n",
    "test_dataset_size=len(test_dataset_crop)\n",
    "\n",
    "print(f\"本次训练用训练集大小：{len(train_dataset_crop)}\")\n",
    "print(f\"本次训练用验证集大小：{len(val_dataset_crop)}\")\n",
    "print(f\"本次测试用测试集大小：{len(test_dataset_crop)}\")\n",
    "\n",
    "train_loader=DataLoader(train_dataset_crop,batch_size=config.batch_size,shuffle=True,drop_last=True)\n",
    "val_loader=DataLoader(val_dataset_crop,batch_size=config.batch_size,shuffle=False)\n",
    "test_loader=DataLoader(test_dataset_crop,batch_size=config.batch_size,shuffle=False)\n",
    "\n",
    "print(f\"tarin_dataloader加载完毕, {len(train_loader)}个batch, batch大小为{config.batch_size}\")\n",
    "print(f\"val_dataloader  加载完毕, {len(val_loader)}个batch, batch大小为{config.batch_size}\")\n",
    "print(f\"test_dataloader 加载完毕, {len(test_loader)}个batch, batch大小为{config.batch_size}\")\n"
   ]
  },
  {
   "cell_type": "markdown",
   "metadata": {},
   "source": [
    "#### 记录本次训练和测试用的数据量，还有数据样本信息"
   ]
  },
  {
   "cell_type": "code",
   "execution_count": 7,
   "metadata": {},
   "outputs": [
    {
     "name": "stdout",
     "output_type": "stream",
     "text": [
      "torch.Size([128, 3, 168, 168])\n",
      "torch.Size([128])\n"
     ]
    },
    {
     "data": {
      "text/plain": [
       "dataset_sep : [0.82, 0.17, 0.01] \n",
       "resize_size : 168 \n",
       "batch_size : 128 \n",
       "lr : 0.001 \n",
       "epochs : 30 \n",
       "hidden_size : 256 \n",
       "optim : Adam \n",
       "momentum : 0.9 \n",
       "weight_decay : 0.0001 \n",
       "seed : 42 \n",
       "mean : [0.50638, 0.49962538, 0.45205265] \n",
       "std : [0.23568255, 0.24141274, 0.25167742] \n",
       "checkpoint_interval : 0.25 \n",
       "source_dir : Cifar-10 \n",
       "data_path : data\\Cifar-10 \n",
       "device : cuda \n",
       "inputs_shape : torch.Size([128, 3, 168, 168]) \n",
       "train_datasize : 9375 \n",
       "val_datasetsize : 3125 \n",
       "test_datasetsize : 2500 \n",
       "datasets_crop_rate : 0.25 \n",
       "classes : ['airplane', 'automobile', 'bird', 'cat', 'deer', 'dog', 'frog', 'horse', 'ship', 'truck'] "
      ]
     },
     "execution_count": 7,
     "metadata": {},
     "output_type": "execute_result"
    }
   ],
   "source": [
    "#查看数据加载情况\n",
    "for inputs, labels in train_loader:\n",
    "    inputs=inputs.to(config.device)\n",
    "    labels=labels.to(config.device)\n",
    "    print(inputs.shape)\n",
    "    print(labels.shape)\n",
    "    config.update(\n",
    "        inputs_shape=inputs.shape\n",
    "        )\n",
    "    break\n",
    "config.update(\n",
    "    train_datasize=train_dataset_size,\n",
    "    val_datasetsize=val_dataset_size,\n",
    "    test_datasetsize=test_dataset_size,\n",
    "    datasets_crop_rate=crop_rate,\n",
    "    classes=train_val_dataset.classes,#原始数据集保留classes\n",
    ")\n",
    "config"
   ]
  },
  {
   "cell_type": "markdown",
   "metadata": {},
   "source": [
    "#### 加载预训练模型"
   ]
  },
  {
   "cell_type": "code",
   "execution_count": 8,
   "metadata": {},
   "outputs": [
    {
     "name": "stderr",
     "output_type": "stream",
     "text": [
      "Warm up ....: 100%|██████████| 100/100 [00:05<00:00, 18.26it/s]\n",
      "Testing ...: 100%|██████████| 300/300 [00:13<00:00, 22.44it/s]"
     ]
    },
    {
     "name": "stdout",
     "output_type": "stream",
     "text": [
      "inference_time:0.044010154024759926 ms\n",
      "parameters_num:11186890\n",
      "训练完成预计用时:0: 2: 9\n"
     ]
    },
    {
     "name": "stderr",
     "output_type": "stream",
     "text": [
      "\n"
     ]
    },
    {
     "data": {
      "text/plain": [
       "dataset_sep : [0.82, 0.17, 0.01] \n",
       "resize_size : 168 \n",
       "batch_size : 128 \n",
       "lr : 0.001 \n",
       "epochs : 30 \n",
       "hidden_size : 256 \n",
       "optim : Adam \n",
       "momentum : 0.9 \n",
       "weight_decay : 0.0001 \n",
       "seed : 42 \n",
       "mean : [0.50638, 0.49962538, 0.45205265] \n",
       "std : [0.23568255, 0.24141274, 0.25167742] \n",
       "checkpoint_interval : 0.25 \n",
       "source_dir : Cifar-10 \n",
       "data_path : data\\Cifar-10 \n",
       "device : cuda \n",
       "inputs_shape : torch.Size([128, 3, 168, 168]) \n",
       "train_datasize : 9375 \n",
       "val_datasetsize : 3125 \n",
       "test_datasetsize : 2500 \n",
       "datasets_crop_rate : 0.25 \n",
       "classes : ['airplane', 'automobile', 'bird', 'cat', 'deer', 'dog', 'frog', 'horse', 'ship', 'truck'] \n",
       "network : ResNet \n",
       "inference_time : 0.044010154024759926 \n",
       "parameters_num : 11186890 "
      ]
     },
     "execution_count": 8,
     "metadata": {},
     "output_type": "execute_result"
    }
   ],
   "source": [
    "\n",
    "def get_pretrained(hidden_size=config.hidden_size,config=config):\n",
    "    '''\n",
    "        获取预训练模型\n",
    "        @param hidden_size: 隐藏层大小\n",
    "        @param config: 配置文件\n",
    "        @return: 预训练模型\n",
    "    '''\n",
    "    # model=net.BinaryClassificationMobileNetV3Large(out_size=len(config.classes))\n",
    "    # model=net.AutoCNN(\n",
    "    #     input_channels=config.inputs_shape[1],\n",
    "    #     input_size=config.inputs_shape[2:],\n",
    "    #     num_classes=len(config.classes),\n",
    "    #     mlp_hidden_size=256\n",
    "    # )\n",
    "    model=net.ResNet(\n",
    "        num_classes=len(config.classes),\n",
    "        input_channels=config.inputs_shape[1],\n",
    "    )#最后全局池化层压下了尺寸，不需要提供输入尺寸\n",
    "    return model.to(config.device)\n",
    "\n",
    "test_model=get_pretrained()\n",
    "measurer=metrics.ModelMeasurer(test_model)\n",
    "unit=1\n",
    "inference_time=measurer.get_inference_time(input_shape=config.inputs_shape,unit=unit)\n",
    "parameters_num=measurer.get_parameters_num()\n",
    "print(f\"inference_time:{inference_time} s\")\n",
    "print(f\"parameters_num:{parameters_num}\")\n",
    "def seconds_to_hms(seconds):\n",
    "    hours = seconds // 3600\n",
    "    remaining_seconds = seconds % 3600\n",
    "    minutes = remaining_seconds // 60\n",
    "    seconds = remaining_seconds % 60\n",
    "    return f\"{int(hours)}: {int(minutes)}: {int(seconds)}\"\n",
    "timestamp=(config.epochs*inference_time*(len(train_loader)+len(val_loader)))/unit\n",
    "print(f\"训练完成预计用时:{seconds_to_hms(timestamp)}\")\n",
    "config.update(\n",
    "    network=test_model.__class__.__name__,\n",
    "    inference_time=inference_time,\n",
    "    parameters_num=parameters_num,\n",
    ")\n",
    "config"
   ]
  },
  {
   "cell_type": "code",
   "execution_count": null,
   "metadata": {},
   "outputs": [
    {
     "name": "stderr",
     "output_type": "stream",
     "text": [
      "Training Epochs:   3%|▎         | 1/30 [00:25<12:16, 25.40s/it]"
     ]
    },
    {
     "name": "stdout",
     "output_type": "stream",
     "text": [
      "Epoch 1/30, Loss: 2.0277,  Val Accuracy: 0.2957, AP: 0.1140, Precision: 0.3263, Recall: 0.2974\n",
      "当前最好的模型： acc : 0.29568 ,loss : 2.027743342804582 ,precision : 0.32625946039380027 ,recall : 0.29742494079799986 ,ap : 0.11401514356778034 ,epoch : 0 \n"
     ]
    },
    {
     "name": "stderr",
     "output_type": "stream",
     "text": [
      "Training Epochs:  13%|█▎        | 4/30 [01:41<11:00, 25.42s/it]"
     ]
    },
    {
     "name": "stdout",
     "output_type": "stream",
     "text": [
      "Epoch 4/30, Loss: 1.6171,  Val Accuracy: 0.4346, AP: 0.1014, Precision: 0.4411, Recall: 0.4336\n",
      "当前最好的模型： acc : 0.43456 ,loss : 1.617102327412122 ,precision : 0.4411379356109234 ,recall : 0.43355927148345214 ,ap : 0.10137807600654461 ,epoch : 3 \n"
     ]
    },
    {
     "name": "stderr",
     "output_type": "stream",
     "text": [
      "Training Epochs:  23%|██▎       | 7/30 [02:55<09:28, 24.71s/it]"
     ]
    },
    {
     "name": "stdout",
     "output_type": "stream",
     "text": [
      "Epoch 7/30, Loss: 1.4126,  Val Accuracy: 0.4976, AP: 0.1184, Precision: 0.5129, Recall: 0.4956\n",
      "当前最好的模型： acc : 0.4976 ,loss : 1.4125922510068711 ,precision : 0.5129432825421355 ,recall : 0.4955859651181405 ,ap : 0.11840359374317493 ,epoch : 6 \n"
     ]
    },
    {
     "name": "stderr",
     "output_type": "stream",
     "text": [
      "Training Epochs:  33%|███▎      | 10/30 [04:07<08:05, 24.29s/it]"
     ]
    },
    {
     "name": "stdout",
     "output_type": "stream",
     "text": [
      "Epoch 10/30, Loss: 1.2596,  Val Accuracy: 0.4752, AP: 0.1226, Precision: 0.5165, Recall: 0.4754\n",
      "当前最好的模型： acc : 0.50528 ,loss : 1.36502440988201 ,precision : 0.522227530541023 ,recall : 0.503483061892714 ,ap : 0.10165965498924594 ,epoch : 7 \n"
     ]
    },
    {
     "name": "stderr",
     "output_type": "stream",
     "text": [
      "Training Epochs:  43%|████▎     | 13/30 [05:19<06:48, 24.05s/it]"
     ]
    },
    {
     "name": "stdout",
     "output_type": "stream",
     "text": [
      "Epoch 13/30, Loss: 1.1386,  Val Accuracy: 0.5578, AP: 0.1022, Precision: 0.5751, Recall: 0.5588\n",
      "当前最好的模型： acc : 0.55776 ,loss : 1.1386282411340165 ,precision : 0.5751033054067489 ,recall : 0.5588240818154584 ,ap : 0.10215287993279262 ,epoch : 12 \n"
     ]
    },
    {
     "name": "stderr",
     "output_type": "stream",
     "text": [
      "Training Epochs:  53%|█████▎    | 16/30 [06:30<05:34, 23.90s/it]"
     ]
    },
    {
     "name": "stdout",
     "output_type": "stream",
     "text": [
      "Epoch 16/30, Loss: 1.0606,  Val Accuracy: 0.5555, AP: 0.1256, Precision: 0.5920, Recall: 0.5540\n",
      "当前最好的模型： acc : 0.57504 ,loss : 1.0805688043163246 ,precision : 0.6082947112897352 ,recall : 0.5738953786396712 ,ap : 0.11259722428779885 ,epoch : 14 \n"
     ]
    },
    {
     "name": "stderr",
     "output_type": "stream",
     "text": [
      "Training Epochs:  63%|██████▎   | 19/30 [07:42<04:22, 23.87s/it]"
     ]
    },
    {
     "name": "stdout",
     "output_type": "stream",
     "text": [
      "Epoch 19/30, Loss: 0.9643,  Val Accuracy: 0.6122, AP: 0.1034, Precision: 0.6326, Recall: 0.6111\n",
      "当前最好的模型： acc : 0.61216 ,loss : 0.9642606973648071 ,precision : 0.6325863379014207 ,recall : 0.6110934920023355 ,ap : 0.10342420197954032 ,epoch : 18 \n"
     ]
    },
    {
     "name": "stderr",
     "output_type": "stream",
     "text": [
      "Training Epochs:  73%|███████▎  | 22/30 [08:56<03:16, 24.52s/it]"
     ]
    },
    {
     "name": "stdout",
     "output_type": "stream",
     "text": [
      "Epoch 22/30, Loss: 0.8839,  Val Accuracy: 0.5734, AP: 0.1078, Precision: 0.6173, Recall: 0.5739\n",
      "当前最好的模型： acc : 0.6176 ,loss : 0.9192486487022818 ,precision : 0.6208336630865773 ,recall : 0.6177364211505211 ,ap : 0.09889777522983192 ,epoch : 20 \n"
     ]
    },
    {
     "name": "stderr",
     "output_type": "stream",
     "text": [
      "Training Epochs:  80%|████████  | 24/30 [09:48<02:31, 25.26s/it]"
     ]
    }
   ],
   "source": [
    "\n",
    "bestMod=utils.BestSelector(acc=0)\n",
    "train_logs=utils.Logs()\n",
    "model=get_pretrained()\n",
    "# 定义损失函数和优化器\n",
    "criterion = nn.CrossEntropyLoss()\n",
    "# criterion = nn.BCELoss()\n",
    "if config.optim == \"Adam\":\n",
    "    optimizer = optim.Adam(model.parameters(), lr=config.lr)\n",
    "else:\n",
    "    optimizer = optim.SGD(model.parameters(), lr=config.lr, momentum=0.9, weight_decay=1e-4)\n",
    "    \n",
    "bestMod,train_logs=train_val.train_model(\n",
    "            model, \n",
    "            criterion,\n",
    "            optimizer, \n",
    "            train_loader,\n",
    "            val_loader,\n",
    "            bestMod=bestMod,\n",
    "            train_logs=train_logs,\n",
    "            config=config, \n",
    "            checkpoint_interval=config.checkpoint_interval,\n",
    "            show_progress_interval=3\n",
    "            # num_epochs=config.epochs\n",
    "        )\n",
    "\n"
   ]
  },
  {
   "cell_type": "code",
   "execution_count": 10,
   "metadata": {},
   "outputs": [
    {
     "name": "stdout",
     "output_type": "stream",
     "text": [
      "1 epoch中 最好的模型\n",
      "acc : 0.31072 ,loss : 2.011701871271003 ,precision : 0.2972016861629805 ,recall : 0.3088747080907871 ,ap : 0.12449937806569095 ,epoch : 0 \n"
     ]
    }
   ],
   "source": [
    "print(f\"{config.epochs} epoch中 最好的模型\")\n",
    "print(bestMod)"
   ]
  },
  {
   "cell_type": "markdown",
   "metadata": {},
   "source": [
    "#### 保存模型超参数和训练日志"
   ]
  },
  {
   "cell_type": "code",
   "execution_count": null,
   "metadata": {},
   "outputs": [
    {
     "name": "stdout",
     "output_type": "stream",
     "text": [
      "save_weights\\ResNet-acc=0.31072-loss=2.012-max_epochs=1\n",
      "{'acc': 0.31072, 'model': 'save_weights\\\\ResNet-acc=0.31072-loss=2.012-max_epochs=1\\\\best.pth', 'loss': 2.011701871271003, 'precision': 0.2972016861629805, 'recall': 0.3088747080907871, 'ap': 0.12449937806569095, 'epoch': 0, 'checkpoints': {'checkpoint_0': 'save_weights\\\\ResNet-acc=0.31072-loss=2.012-max_epochs=1\\\\checkpoint_0.pth'}}\n"
     ]
    }
   ],
   "source": [
    "saveDir=r'save_weights'\n",
    "saveDir=os.path.join(\n",
    "        saveDir,\n",
    "        f'{bestMod.model.__class__.__name__[:10]}-acc={round(bestMod.acc,5)}-loss={round(bestMod.loss,3)}-max_epochs={config.epochs}'\n",
    ")\n",
    "utils.saveProcess(\n",
    "    saveDir=saveDir,\n",
    "    bestMod=bestMod,\n",
    "    train_log=train_logs,\n",
    "    config=config\n",
    ")"
   ]
  },
  {
   "cell_type": "markdown",
   "metadata": {},
   "source": [
    "#### 进行测试"
   ]
  },
  {
   "cell_type": "code",
   "execution_count": null,
   "metadata": {},
   "outputs": [
    {
     "name": "stderr",
     "output_type": "stream",
     "text": [
      "模型测试中:: 100%|██████████| 20/20 [00:00<00:00, 30.16it/s]\n"
     ]
    },
    {
     "data": {
      "text/plain": [
       "{'Accuracy': 0.33,\n",
       " 'Precision': 0.343839494985118,\n",
       " 'Recall': 0.327905984972946,\n",
       " 'F1': 0.2971122184198728,\n",
       " 'AP': 0.13231780506062604}"
      ]
     },
     "execution_count": 12,
     "metadata": {},
     "output_type": "execute_result"
    }
   ],
   "source": [
    "import torch\n",
    "from utils import utils,train_val\n",
    "import os\n",
    "\n",
    "# config=Config(os.path.join(dir,'config.json'))\n",
    "# model=BestSelector(os.path.join(dir,'metrics.json'))\n",
    "# saveDir=r'save_weights\\BinaryClassificationMobileNetV3Large-acc=0.74336-loss=1.671334-max_epochs=40-1100'\n",
    "\n",
    "Model,config,logs=utils.loadProcess(saveDir=saveDir)\n",
    "metrics=train_val.validate_model(\n",
    "    model=Model.model,\n",
    "    val_loader=test_loader,\n",
    "    device=config.device,\n",
    "    only_val=True\n",
    ")\n",
    "\n",
    "metrics"
   ]
  },
  {
   "cell_type": "markdown",
   "metadata": {},
   "source": [
    "#### 保存数据到tensorboard"
   ]
  },
  {
   "cell_type": "code",
   "execution_count": 13,
   "metadata": {},
   "outputs": [],
   "source": [
    "from utils import metrics,utils\n",
    "\n",
    "\n",
    "recoder=metrics.TensorboardRecorder(\n",
    "    log_dir=\"runs/\"\n",
    ")\n",
    "\n",
    "recoder.logs_scalars(\n",
    "    logs.logs,\n",
    "    prefix=\"train\"\n",
    ")\n",
    "\n"
   ]
  },
  {
   "cell_type": "markdown",
   "metadata": {},
   "source": [
    "#### 多个模型的训练日志展示\n",
    " "
   ]
  },
  {
   "cell_type": "code",
   "execution_count": 14,
   "metadata": {},
   "outputs": [
    {
     "ename": "FileNotFoundError",
     "evalue": "[Errno 2] No such file or directory: 'D:\\\\Desktop\\\\深度学习\\\\12.康复训练\\\\My_DL_Utils\\\\Project\\\\save_weights\\\\AutoCNN-acc=0.3832-loss=2.082528-max_epochs=10-1100\\\\metrics.json'",
     "output_type": "error",
     "traceback": [
      "\u001b[1;31m---------------------------------------------------------------------------\u001b[0m",
      "\u001b[1;31mFileNotFoundError\u001b[0m                         Traceback (most recent call last)",
      "Cell \u001b[1;32mIn[14], line 9\u001b[0m\n\u001b[0;32m      7\u001b[0m recorders\u001b[38;5;241m=\u001b[39m[]\n\u001b[0;32m      8\u001b[0m \u001b[38;5;28;01mfor\u001b[39;00m model_dir \u001b[38;5;129;01min\u001b[39;00m model_dirs:\n\u001b[1;32m----> 9\u001b[0m     Model,config,logs\u001b[38;5;241m=\u001b[39m\u001b[43mutils\u001b[49m\u001b[38;5;241;43m.\u001b[39;49m\u001b[43mloadProcess\u001b[49m\u001b[43m(\u001b[49m\u001b[43mmodel_dir\u001b[49m\u001b[43m)\u001b[49m\n\u001b[0;32m     10\u001b[0m     dirname\u001b[38;5;241m=\u001b[39mos\u001b[38;5;241m.\u001b[39mpath\u001b[38;5;241m.\u001b[39mbasename(model_dir)\n\u001b[0;32m     11\u001b[0m     recorder\u001b[38;5;241m=\u001b[39mmetrics\u001b[38;5;241m.\u001b[39mTensorboardRecorder(log_dir\u001b[38;5;241m=\u001b[39m\u001b[38;5;124mf\u001b[39m\u001b[38;5;124m\"\u001b[39m\u001b[38;5;124mruns/\u001b[39m\u001b[38;5;132;01m{\u001b[39;00mdirname\u001b[38;5;132;01m}\u001b[39;00m\u001b[38;5;124m\"\u001b[39m)\n",
      "File \u001b[1;32md:\\Desktop\\深度学习\\12.康复训练\\My_DL_Utils\\Project\\utils\\utils.py:229\u001b[0m, in \u001b[0;36mloadProcess\u001b[1;34m(saveDir)\u001b[0m\n\u001b[0;32m    219\u001b[0m \u001b[38;5;28;01mdef\u001b[39;00m \u001b[38;5;21mloadProcess\u001b[39m(saveDir):\n\u001b[0;32m    220\u001b[0m \u001b[38;5;250m    \u001b[39m\u001b[38;5;124;03m'''\u001b[39;00m\n\u001b[0;32m    221\u001b[0m \u001b[38;5;124;03m        加载训练记录\u001b[39;00m\n\u001b[0;32m    222\u001b[0m \u001b[38;5;124;03m        参数：\u001b[39;00m\n\u001b[1;32m   (...)\u001b[0m\n\u001b[0;32m    227\u001b[0m \u001b[38;5;124;03m            train_log：Logs对象\u001b[39;00m\n\u001b[0;32m    228\u001b[0m \u001b[38;5;124;03m    '''\u001b[39;00m\n\u001b[1;32m--> 229\u001b[0m     bestMod\u001b[38;5;241m=\u001b[39m\u001b[43mBestSelector\u001b[49m\u001b[43m(\u001b[49m\u001b[43mos\u001b[49m\u001b[38;5;241;43m.\u001b[39;49m\u001b[43mpath\u001b[49m\u001b[38;5;241;43m.\u001b[39;49m\u001b[43mjoin\u001b[49m\u001b[43m(\u001b[49m\u001b[43msaveDir\u001b[49m\u001b[43m,\u001b[49m\u001b[38;5;124;43m\"\u001b[39;49m\u001b[38;5;124;43mmetrics.json\u001b[39;49m\u001b[38;5;124;43m\"\u001b[39;49m\u001b[43m)\u001b[49m\u001b[43m)\u001b[49m\n\u001b[0;32m    230\u001b[0m     config\u001b[38;5;241m=\u001b[39mConfig(os\u001b[38;5;241m.\u001b[39mpath\u001b[38;5;241m.\u001b[39mjoin(saveDir,\u001b[38;5;124m\"\u001b[39m\u001b[38;5;124mconfig.json\u001b[39m\u001b[38;5;124m\"\u001b[39m))\n\u001b[0;32m    231\u001b[0m     train_log\u001b[38;5;241m=\u001b[39mLogs(os\u001b[38;5;241m.\u001b[39mpath\u001b[38;5;241m.\u001b[39mjoin(saveDir,\u001b[38;5;124m\"\u001b[39m\u001b[38;5;124mlogs.json\u001b[39m\u001b[38;5;124m\"\u001b[39m))\n",
      "File \u001b[1;32md:\\Desktop\\深度学习\\12.康复训练\\My_DL_Utils\\Project\\utils\\utils.py:67\u001b[0m, in \u001b[0;36mBestSelector.__init__\u001b[1;34m(self, *l_params, **params)\u001b[0m\n\u001b[0;32m     65\u001b[0m \u001b[38;5;28;01mif\u001b[39;00m \u001b[38;5;28mlen\u001b[39m(params) \u001b[38;5;241m==\u001b[39m \u001b[38;5;241m0\u001b[39m \u001b[38;5;129;01mand\u001b[39;00m \u001b[38;5;28mlen\u001b[39m(l_params) \u001b[38;5;241m==\u001b[39m \u001b[38;5;241m1\u001b[39m \u001b[38;5;129;01mand\u001b[39;00m \u001b[38;5;28misinstance\u001b[39m(l_params[\u001b[38;5;241m-\u001b[39m\u001b[38;5;241m1\u001b[39m], \u001b[38;5;28mstr\u001b[39m):\n\u001b[0;32m     66\u001b[0m     \u001b[38;5;28mself\u001b[39m\u001b[38;5;241m.\u001b[39mmetrics_path\u001b[38;5;241m=\u001b[39ml_params[\u001b[38;5;241m-\u001b[39m\u001b[38;5;241m1\u001b[39m]\n\u001b[1;32m---> 67\u001b[0m     \u001b[38;5;28;43mself\u001b[39;49m\u001b[38;5;241;43m.\u001b[39;49m\u001b[43mread\u001b[49m\u001b[43m(\u001b[49m\u001b[43ml_params\u001b[49m\u001b[43m[\u001b[49m\u001b[38;5;241;43m-\u001b[39;49m\u001b[38;5;241;43m1\u001b[39;49m\u001b[43m]\u001b[49m\u001b[43m)\u001b[49m\n\u001b[0;32m     68\u001b[0m \u001b[38;5;28;01melse\u001b[39;00m:\n\u001b[0;32m     69\u001b[0m     \u001b[38;5;28mself\u001b[39m\u001b[38;5;241m.\u001b[39mbestMetrics \u001b[38;5;241m=\u001b[39m params\n",
      "File \u001b[1;32md:\\Desktop\\深度学习\\12.康复训练\\My_DL_Utils\\Project\\utils\\utils.py:89\u001b[0m, in \u001b[0;36mBestSelector.read\u001b[1;34m(self, path)\u001b[0m\n\u001b[0;32m     88\u001b[0m \u001b[38;5;28;01mdef\u001b[39;00m \u001b[38;5;21mread\u001b[39m(\u001b[38;5;28mself\u001b[39m,path):\n\u001b[1;32m---> 89\u001b[0m     \u001b[38;5;28;01mwith\u001b[39;00m \u001b[38;5;28;43mopen\u001b[39;49m\u001b[43m(\u001b[49m\u001b[43mpath\u001b[49m\u001b[43m)\u001b[49m \u001b[38;5;28;01mas\u001b[39;00m f:\n\u001b[0;32m     90\u001b[0m         data\u001b[38;5;241m=\u001b[39mjson\u001b[38;5;241m.\u001b[39mload(f)\n\u001b[0;32m     91\u001b[0m     new_data\u001b[38;5;241m=\u001b[39m{}\n",
      "\u001b[1;31mFileNotFoundError\u001b[0m: [Errno 2] No such file or directory: 'D:\\\\Desktop\\\\深度学习\\\\12.康复训练\\\\My_DL_Utils\\\\Project\\\\save_weights\\\\AutoCNN-acc=0.3832-loss=2.082528-max_epochs=10-1100\\\\metrics.json'"
     ]
    }
   ],
   "source": [
    "from utils import metrics,utils\n",
    "import os\n",
    "model_dirs=[\n",
    "    r\"D:\\Desktop\\深度学习\\12.康复训练\\My_DL_Utils\\Project\\save_weights\\AutoCNN-acc=0.3832-loss=2.082528-max_epochs=10-1100\",\n",
    "    r\"D:\\Desktop\\深度学习\\12.康复训练\\My_DL_Utils\\Project\\save_weights\\BinaryClassificationMobileNetV3Large-acc=0.662-loss=1.719393-max_epochs=10-1100\"\n",
    "]\n",
    "recorders=[]\n",
    "for model_dir in model_dirs:\n",
    "    Model,config,logs=utils.loadProcess(model_dir)\n",
    "    dirname=os.path.basename(model_dir)\n",
    "    recorder=metrics.TensorboardRecorder(log_dir=f\"runs/{dirname}\")\n",
    "    recorders.append(recorder)\n",
    "    recorder.logs_scalars(\n",
    "        scalars=logs.logs,\n",
    "        prefix=\"train\"\n",
    "    )\n",
    "\n"
   ]
  }
 ],
 "metadata": {
  "kernelspec": {
   "display_name": "sound",
   "language": "python",
   "name": "python3"
  },
  "language_info": {
   "codemirror_mode": {
    "name": "ipython",
    "version": 3
   },
   "file_extension": ".py",
   "mimetype": "text/x-python",
   "name": "python",
   "nbconvert_exporter": "python",
   "pygments_lexer": "ipython3",
   "version": "3.9.17"
  }
 },
 "nbformat": 4,
 "nbformat_minor": 2
}
