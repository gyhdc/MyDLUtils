{
 "cells": [
  {
   "cell_type": "code",
   "execution_count": 2,
   "metadata": {},
   "outputs": [],
   "source": [
    "import os\n",
    "from PIL import Image\n",
    "import torch\n",
    "import torchvision\n",
    "from torch.utils.data import DataLoader, Dataset\n",
    "import torch.nn as nn\n",
    "import torchvision.transforms as transforms\n",
    "import torchvision.models as models\n",
    "import torch.optim as optim\n",
    "from utils import datasets\n",
    "from utils import utils\n",
    "from utils import train_val\n",
    "from utils import net #网络文件于此\n",
    "import warnings\n",
    "\n",
    "# 完全禁用警告\n",
    "warnings.filterwarnings(\"ignore\")"
   ]
  },
  {
   "cell_type": "code",
   "execution_count": 3,
   "metadata": {},
   "outputs": [
    {
     "name": "stdout",
     "output_type": "stream",
     "text": [
      "dataset_sep : [0.82, 0.17, 0.01] \n",
      "resize_size : 224 \n",
      "batch_size : 64 \n",
      "lr : 0.001 \n",
      "epochs : 40 \n",
      "hidden_size : 256 \n",
      "optim : Adam \n",
      "momentum : 0.9 \n",
      "weight_decay : 0.0001 \n",
      "seed : 42 \n",
      "mean : [0.50638, 0.49962538, 0.45205265] \n",
      "std : [0.23568255, 0.24141274, 0.25167742] \n",
      "source_dir : Cifar-10 \n",
      "data_path : data\\Cifar-10 \n",
      "device : cuda \n"
     ]
    }
   ],
   "source": [
    "from utils.utils import Config,Logs,BestSelector\n",
    "config=utils.Config(\n",
    "    dataset_sep=[\n",
    "        0.82,0.17,0.01          \n",
    "        ],\n",
    "    resize_size=224,\n",
    "    batch_size=64,\n",
    "    lr=0.001,\n",
    "    epochs=40,\n",
    "    hidden_size=256,\n",
    "    optim=\"Adam\",\n",
    "    momentum=0.9,\n",
    "    weight_decay=1e-4,\n",
    "    seed=42,\n",
    "    mean= [0.50638 ,0.49962538 ,0.45205265],\n",
    "    std=[0.23568255 ,0.24141274 ,0.25167742],\n",
    "    source_dir=r\"Cifar-10\",#原始数据集，每个分类一个文件夹，每个文件夹里包含多个图片\n",
    "    data_path=r\"data\\Cifar-10\",#项目数据集\n",
    "    # classes=[\"Apple\",\"Carambola\",\"Pear\",\"Plum\",\"Tomatoes\"],\n",
    "    device=\"cuda\" if torch.cuda.is_available() else \"cpu\",\n",
    ")\n",
    "print(config)"
   ]
  },
  {
   "cell_type": "code",
   "execution_count": 4,
   "metadata": {},
   "outputs": [
    {
     "name": "stdout",
     "output_type": "stream",
     "text": [
      "data\\Cifar-10 数据集已存在，无需重新划分\n"
     ]
    }
   ],
   "source": [
    "from tqdm import tqdm\n",
    "\n",
    "#设置随机数种子\n",
    "torch.manual_seed(config.seed)\n",
    "\n",
    "isSplit= (not datasets.check_data_exist(config.data_path))#数据集不存在，则从原始数据存放处，转移数据集\n",
    "if isSplit:\n",
    "    print(f\"{config.data_path} 数据集不存在，将从source_dir:{config.source_dir}中获取数据\")\n",
    "    print(f\"清理源文件夹:{config.data_path}\")\n",
    "    datasets.clear_folder(config.data_path)\n",
    "    \n",
    "    for dir in tqdm(config.classes,desc=\"处理原始数据：\"):\n",
    "        source_dir=os.path.join(config.source_dir, dir)\n",
    "        print(source_dir)\n",
    "        datasets.split_data(source_dir,target_dir=config.data_path,label=dir,sep=config.dataset_sep)\n",
    "else:\n",
    "    print(f\"{config.data_path} 数据集已存在，无需重新划分\")\n",
    "\n"
   ]
  },
  {
   "cell_type": "code",
   "execution_count": 5,
   "metadata": {},
   "outputs": [
    {
     "data": {
      "text/plain": [
       "'\\ndef get_data_path(typ,path=config.data_path):\\n    return os.path.join(path,typ)\\n\\ntrain_dataset=datasets.CustomImageDataset(\\n    get_data_path(\"train\"),\\n    classes=config.classes,\\n    transform=datasets.get_transform(\\n        resize_size=config.resize_size,\\n        mean=config.mean,std=config.std\\n        )\\n)\\n\\nval_dataset=datasets.CustomImageDataset(\\n    get_data_path(\"val\"),\\n    classes=config.classes,\\n    transform=datasets.get_transform(\\n        \"val\",\\n        config.resize_size,\\n        \\n        mean=config.mean,\\n        std=config.std\\n        )\\n)\\n'"
      ]
     },
     "execution_count": 5,
     "metadata": {},
     "output_type": "execute_result"
    }
   ],
   "source": [
    "'''\n",
    "def get_data_path(typ,path=config.data_path):\n",
    "    return os.path.join(path,typ)\n",
    "\n",
    "train_dataset=datasets.CustomImageDataset(\n",
    "    get_data_path(\"train\"),\n",
    "    classes=config.classes,\n",
    "    transform=datasets.get_transform(\n",
    "        resize_size=config.resize_size,\n",
    "        mean=config.mean,std=config.std\n",
    "        )\n",
    ")\n",
    "\n",
    "val_dataset=datasets.CustomImageDataset(\n",
    "    get_data_path(\"val\"),\n",
    "    classes=config.classes,\n",
    "    transform=datasets.get_transform(\n",
    "        \"val\",\n",
    "        config.resize_size,\n",
    "        \n",
    "        mean=config.mean,\n",
    "        std=config.std\n",
    "        )\n",
    ")\n",
    "'''\n"
   ]
  },
  {
   "cell_type": "markdown",
   "metadata": {},
   "source": [
    "#### 加载数据集，可本地数据集。调用datasets.CustomImageDataset"
   ]
  },
  {
   "cell_type": "code",
   "execution_count": 6,
   "metadata": {},
   "outputs": [
    {
     "name": "stdout",
     "output_type": "stream",
     "text": [
      "Files already downloaded and verified\n",
      "Files already downloaded and verified\n",
      "原始训练集大小：37500\n",
      "原始验证集大小：12500\n",
      "原始测试集大小：10000\n"
     ]
    }
   ],
   "source": [
    "#加载cifar-10\n",
    "import torchvision\n",
    "train_val_dataset = torchvision.datasets.CIFAR10(\n",
    "    root='./data/Cifar-10', \n",
    "    train=True, \n",
    "    download=True, \n",
    "    transform=datasets.get_transform(\n",
    "        chance=\"train\",\n",
    "        resize_size=config.resize_size,\n",
    "        mean=(0.5, 0.5, 0.5), \n",
    "        std=(0.5, 0.5, 0.5)\n",
    "    )\n",
    ")\n",
    "train_dataset,val_dataset=datasets.get_parts_of_datasets(train_val_dataset,rate=0.75,only_train=False)#训练验证3-1开\n",
    "\n",
    "test_dataset = torchvision.datasets.CIFAR10(root='./data/Cifar-10', train=False, download=True, transform=datasets.get_transform(\n",
    "    chance=\"val\",\n",
    "    resize_size=config.resize_size,\n",
    "    mean=(0.5, 0.5, 0.5), \n",
    "    std=(0.5, 0.5, 0.5)\n",
    "))\n",
    "print(f\"原始训练集大小：{len(train_dataset)}\")\n",
    "print(f\"原始验证集大小：{len(val_dataset)}\")\n",
    "print(f\"原始测试集大小：{len(test_dataset)}\")"
   ]
  },
  {
   "cell_type": "markdown",
   "metadata": {},
   "source": [
    "#### load数据集，并根据数据量进行裁剪"
   ]
  },
  {
   "cell_type": "code",
   "execution_count": 7,
   "metadata": {},
   "outputs": [
    {
     "name": "stdout",
     "output_type": "stream",
     "text": [
      "本次训练用训练集大小：9375\n",
      "本次训练用验证集大小：3125\n",
      "本次测试用测试集大小：2500\n",
      "tarin_dataloader加载完毕, 146个batch, batch大小为64\n",
      "val_dataloader  加载完毕, 49个batch, batch大小为64\n",
      "test_dataloader 加载完毕, 40个batch, batch大小为64\n"
     ]
    }
   ],
   "source": [
    "crop_rate=0.25\n",
    "train_dataset_crop=datasets.get_parts_of_datasets(train_dataset,crop_rate)\n",
    "val_dataset_crop=datasets.get_parts_of_datasets(val_dataset,crop_rate)\n",
    "test_dataset_crop=datasets.get_parts_of_datasets(test_dataset,crop_rate)\n",
    "train_dataset_size=len(train_dataset_crop)\n",
    "val_dataset_size=len(val_dataset_crop)\n",
    "test_dataset_size=len(test_dataset_crop)\n",
    "\n",
    "print(f\"本次训练用训练集大小：{len(train_dataset_crop)}\")\n",
    "print(f\"本次训练用验证集大小：{len(val_dataset_crop)}\")\n",
    "print(f\"本次测试用测试集大小：{len(test_dataset_crop)}\")\n",
    "\n",
    "train_loader=DataLoader(train_dataset_crop,batch_size=config.batch_size,shuffle=True,drop_last=True)\n",
    "val_loader=DataLoader(val_dataset_crop,batch_size=config.batch_size,shuffle=False)\n",
    "test_loader=DataLoader(test_dataset_crop,batch_size=config.batch_size,shuffle=False)\n",
    "\n",
    "print(f\"tarin_dataloader加载完毕, {len(train_loader)}个batch, batch大小为{config.batch_size}\")\n",
    "print(f\"val_dataloader  加载完毕, {len(val_loader)}个batch, batch大小为{config.batch_size}\")\n",
    "print(f\"test_dataloader 加载完毕, {len(test_loader)}个batch, batch大小为{config.batch_size}\")\n"
   ]
  },
  {
   "cell_type": "markdown",
   "metadata": {},
   "source": [
    "#### 记录本次训练和测试用的数据量"
   ]
  },
  {
   "cell_type": "code",
   "execution_count": 7,
   "metadata": {},
   "outputs": [
    {
     "data": {
      "text/plain": [
       "dataset_sep : [0.82, 0.17, 0.01] \n",
       "resize_size : 224 \n",
       "batch_size : 64 \n",
       "lr : 0.001 \n",
       "epochs : 40 \n",
       "hidden_size : 256 \n",
       "optim : Adam \n",
       "momentum : 0.9 \n",
       "weight_decay : 0.0001 \n",
       "seed : 42 \n",
       "mean : [0.50638, 0.49962538, 0.45205265] \n",
       "std : [0.23568255, 0.24141274, 0.25167742] \n",
       "source_dir : Cifar-10 \n",
       "data_path : data\\Cifar-10 \n",
       "device : cuda \n",
       "train_datasize : 9375 \n",
       "val_datasetsize : 3125 \n",
       "test_datasetsize : 2500 \n",
       "classes : ['airplane', 'automobile', 'bird', 'cat', 'deer', 'dog', 'frog', 'horse', 'ship', 'truck'] "
      ]
     },
     "execution_count": 7,
     "metadata": {},
     "output_type": "execute_result"
    }
   ],
   "source": [
    "config.update(\n",
    "    train_datasize=train_dataset_size,\n",
    "    val_datasetsize=val_dataset_size,\n",
    "    test_datasetsize=test_dataset_size,\n",
    "    # epochs=10,\n",
    "    classes=train_val_dataset.classes,#原始数据集保留classes\n",
    ")\n",
    "config"
   ]
  },
  {
   "cell_type": "markdown",
   "metadata": {},
   "source": [
    "#### 加载预训练模型"
   ]
  },
  {
   "cell_type": "code",
   "execution_count": 8,
   "metadata": {},
   "outputs": [],
   "source": [
    "\n",
    "def get_pretrained(hidden_size=config.hidden_size,config=config):\n",
    "    '''\n",
    "        获取预训练模型\n",
    "        @param hidden_size: 隐藏层大小\n",
    "        @param config: 配置文件\n",
    "        @return: 预训练模型\n",
    "    '''\n",
    "    model=net.BinaryClassificationMobileNetV3Large(out_size=len(config.classes))\n",
    "    return model.to(config.device)\n",
    "\n"
   ]
  },
  {
   "cell_type": "code",
   "execution_count": 9,
   "metadata": {},
   "outputs": [
    {
     "name": "stdout",
     "output_type": "stream",
     "text": [
      "torch.Size([64, 3, 224, 224])\n",
      "torch.Size([64])\n"
     ]
    },
    {
     "data": {
      "text/plain": [
       "dataset_sep : [0.82, 0.17, 0.01] \n",
       "resize_size : 224 \n",
       "batch_size : 64 \n",
       "lr : 0.001 \n",
       "epochs : 40 \n",
       "hidden_size : 256 \n",
       "optim : Adam \n",
       "momentum : 0.9 \n",
       "weight_decay : 0.0001 \n",
       "seed : 42 \n",
       "mean : [0.50638, 0.49962538, 0.45205265] \n",
       "std : [0.23568255, 0.24141274, 0.25167742] \n",
       "source_dir : Cifar-10 \n",
       "data_path : data\\Cifar-10 \n",
       "device : cuda \n",
       "train_datasize : 9375 \n",
       "val_datasetsize : 3125 \n",
       "test_datasetsize : 2500 \n",
       "classes : ['airplane', 'automobile', 'bird', 'cat', 'deer', 'dog', 'frog', 'horse', 'ship', 'truck'] \n",
       "inputs_shape : torch.Size([64, 3, 224, 224]) "
      ]
     },
     "execution_count": 9,
     "metadata": {},
     "output_type": "execute_result"
    }
   ],
   "source": [
    "#查看数据加载情况\n",
    "for inputs, labels in train_loader:\n",
    "    inputs=inputs.to(config.device)\n",
    "    labels=labels.to(config.device)\n",
    "    print(inputs.shape)\n",
    "    print(labels.shape)\n",
    "    config.update(inputs_shape=inputs.shape)\n",
    "    break\n",
    "config"
   ]
  },
  {
   "cell_type": "code",
   "execution_count": 10,
   "metadata": {},
   "outputs": [
    {
     "name": "stderr",
     "output_type": "stream",
     "text": [
      "Training Epochs:   2%|▎         | 1/40 [00:43<28:18, 43.54s/it]"
     ]
    },
    {
     "name": "stdout",
     "output_type": "stream",
     "text": [
      "Epoch 1/40, Loss: 1.9357,  Val Accuracy: 0.2509, AP: 0.1160, Precision: 0.2510, Recall: 0.2474\n",
      "当前最好的模型： acc : 0.25088 ,loss : 1.9357111747950724 ,precision : 0.25099821661601257 ,recall : 0.24743728613203914 ,ap : 0.1160131640555689 ,epoch : 0 \n"
     ]
    },
    {
     "name": "stderr",
     "output_type": "stream",
     "text": [
      "Training Epochs:   5%|▌         | 2/40 [01:24<26:45, 42.26s/it]"
     ]
    },
    {
     "name": "stdout",
     "output_type": "stream",
     "text": [
      "Epoch 2/40, Loss: 1.8196,  Val Accuracy: 0.4550, AP: 0.0654, Precision: 0.5348, Recall: 0.4534\n",
      "当前最好的模型： acc : 0.45504 ,loss : 1.8196199054587376 ,precision : 0.5348011596004018 ,recall : 0.45335697878004266 ,ap : 0.0653989959761442 ,epoch : 1 \n"
     ]
    },
    {
     "name": "stderr",
     "output_type": "stream",
     "text": [
      "Training Epochs:   8%|▊         | 3/40 [02:04<25:18, 41.04s/it]"
     ]
    },
    {
     "name": "stdout",
     "output_type": "stream",
     "text": [
      "Epoch 3/40, Loss: 1.7880,  Val Accuracy: 0.6285, AP: 0.0687, Precision: 0.6538, Recall: 0.6274\n",
      "当前最好的模型： acc : 0.62848 ,loss : 1.7879954911258122 ,precision : 0.6537791278362466 ,recall : 0.6273805266775156 ,ap : 0.06870057347928517 ,epoch : 2 \n"
     ]
    },
    {
     "name": "stderr",
     "output_type": "stream",
     "text": [
      "Training Epochs:  10%|█         | 4/40 [02:43<24:03, 40.11s/it]"
     ]
    },
    {
     "name": "stdout",
     "output_type": "stream",
     "text": [
      "Epoch 4/40, Loss: 1.7784,  Val Accuracy: 0.5680, AP: 0.1021, Precision: 0.6464, Recall: 0.5698\n",
      "当前最好的模型： acc : 0.62848 ,loss : 1.7879954911258122 ,precision : 0.6537791278362466 ,recall : 0.6273805266775156 ,ap : 0.06870057347928517 ,epoch : 2 \n"
     ]
    },
    {
     "name": "stderr",
     "output_type": "stream",
     "text": [
      "Training Epochs:  12%|█▎        | 5/40 [03:22<23:08, 39.68s/it]"
     ]
    },
    {
     "name": "stdout",
     "output_type": "stream",
     "text": [
      "Epoch 5/40, Loss: 1.7692,  Val Accuracy: 0.5702, AP: 0.0827, Precision: 0.6429, Recall: 0.5688\n",
      "当前最好的模型： acc : 0.62848 ,loss : 1.7879954911258122 ,precision : 0.6537791278362466 ,recall : 0.6273805266775156 ,ap : 0.06870057347928517 ,epoch : 2 \n"
     ]
    },
    {
     "name": "stderr",
     "output_type": "stream",
     "text": [
      "Training Epochs:  15%|█▌        | 6/40 [04:00<22:19, 39.39s/it]"
     ]
    },
    {
     "name": "stdout",
     "output_type": "stream",
     "text": [
      "Epoch 6/40, Loss: 1.7577,  Val Accuracy: 0.6086, AP: 0.0813, Precision: 0.6755, Recall: 0.6080\n",
      "当前最好的模型： acc : 0.62848 ,loss : 1.7879954911258122 ,precision : 0.6537791278362466 ,recall : 0.6273805266775156 ,ap : 0.06870057347928517 ,epoch : 2 \n"
     ]
    },
    {
     "name": "stderr",
     "output_type": "stream",
     "text": [
      "Training Epochs:  18%|█▊        | 7/40 [04:39<21:34, 39.23s/it]"
     ]
    },
    {
     "name": "stdout",
     "output_type": "stream",
     "text": [
      "Epoch 7/40, Loss: 1.7435,  Val Accuracy: 0.6355, AP: 0.0914, Precision: 0.6851, Recall: 0.6375\n",
      "当前最好的模型： acc : 0.63552 ,loss : 1.7435409287883812 ,precision : 0.6851263797572409 ,recall : 0.6374942157517788 ,ap : 0.09141802295339294 ,epoch : 6 \n"
     ]
    },
    {
     "name": "stderr",
     "output_type": "stream",
     "text": [
      "Training Epochs:  20%|██        | 8/40 [05:18<20:51, 39.11s/it]"
     ]
    },
    {
     "name": "stdout",
     "output_type": "stream",
     "text": [
      "Epoch 8/40, Loss: 1.7367,  Val Accuracy: 0.6797, AP: 0.0859, Precision: 0.7101, Recall: 0.6777\n",
      "当前最好的模型： acc : 0.67968 ,loss : 1.7367419151410664 ,precision : 0.7101159869546686 ,recall : 0.6777046039440521 ,ap : 0.08586067310962633 ,epoch : 7 \n"
     ]
    },
    {
     "name": "stderr",
     "output_type": "stream",
     "text": [
      "Training Epochs:  22%|██▎       | 9/40 [05:57<20:07, 38.95s/it]"
     ]
    },
    {
     "name": "stdout",
     "output_type": "stream",
     "text": [
      "Epoch 9/40, Loss: 1.7405,  Val Accuracy: 0.6029, AP: 0.1197, Precision: 0.6543, Recall: 0.5987\n",
      "当前最好的模型： acc : 0.67968 ,loss : 1.7367419151410664 ,precision : 0.7101159869546686 ,recall : 0.6777046039440521 ,ap : 0.08586067310962633 ,epoch : 7 \n"
     ]
    },
    {
     "name": "stderr",
     "output_type": "stream",
     "text": [
      "Training Epochs:  25%|██▌       | 10/40 [06:36<19:27, 38.90s/it]"
     ]
    },
    {
     "name": "stdout",
     "output_type": "stream",
     "text": [
      "Epoch 10/40, Loss: 1.7272,  Val Accuracy: 0.6909, AP: 0.0689, Precision: 0.7041, Recall: 0.6907\n",
      "当前最好的模型： acc : 0.69088 ,loss : 1.7271731593837476 ,precision : 0.7040636382441883 ,recall : 0.6907179703922874 ,ap : 0.06893931993036234 ,epoch : 9 \n"
     ]
    },
    {
     "name": "stderr",
     "output_type": "stream",
     "text": [
      "Training Epochs:  28%|██▊       | 11/40 [07:15<18:50, 38.99s/it]"
     ]
    },
    {
     "name": "stdout",
     "output_type": "stream",
     "text": [
      "Epoch 11/40, Loss: 1.7398,  Val Accuracy: 0.6352, AP: 0.0630, Precision: 0.6707, Recall: 0.6345\n",
      "当前最好的模型： acc : 0.69088 ,loss : 1.7271731593837476 ,precision : 0.7040636382441883 ,recall : 0.6907179703922874 ,ap : 0.06893931993036234 ,epoch : 9 \n"
     ]
    },
    {
     "name": "stderr",
     "output_type": "stream",
     "text": [
      "Training Epochs:  30%|███       | 12/40 [07:54<18:17, 39.21s/it]"
     ]
    },
    {
     "name": "stdout",
     "output_type": "stream",
     "text": [
      "Epoch 12/40, Loss: 1.7272,  Val Accuracy: 0.6813, AP: 0.0927, Precision: 0.7239, Recall: 0.6821\n",
      "当前最好的模型： acc : 0.69088 ,loss : 1.7271731593837476 ,precision : 0.7040636382441883 ,recall : 0.6907179703922874 ,ap : 0.06893931993036234 ,epoch : 9 \n"
     ]
    },
    {
     "name": "stderr",
     "output_type": "stream",
     "text": [
      "Training Epochs:  32%|███▎      | 13/40 [08:34<17:39, 39.23s/it]"
     ]
    },
    {
     "name": "stdout",
     "output_type": "stream",
     "text": [
      "Epoch 13/40, Loss: 1.7110,  Val Accuracy: 0.6912, AP: 0.0725, Precision: 0.7158, Recall: 0.6905\n",
      "当前最好的模型： acc : 0.6912 ,loss : 1.710976591665451 ,precision : 0.7157987006299631 ,recall : 0.6904928809201346 ,ap : 0.0724871142970722 ,epoch : 12 \n"
     ]
    },
    {
     "name": "stderr",
     "output_type": "stream",
     "text": [
      "Training Epochs:  35%|███▌      | 14/40 [09:12<16:54, 39.02s/it]"
     ]
    },
    {
     "name": "stdout",
     "output_type": "stream",
     "text": [
      "Epoch 14/40, Loss: 1.7089,  Val Accuracy: 0.6835, AP: 0.1096, Precision: 0.6982, Recall: 0.6819\n",
      "当前最好的模型： acc : 0.6912 ,loss : 1.710976591665451 ,precision : 0.7157987006299631 ,recall : 0.6904928809201346 ,ap : 0.0724871142970722 ,epoch : 12 \n"
     ]
    },
    {
     "name": "stderr",
     "output_type": "stream",
     "text": [
      "Training Epochs:  38%|███▊      | 15/40 [09:52<16:17, 39.12s/it]"
     ]
    },
    {
     "name": "stdout",
     "output_type": "stream",
     "text": [
      "Epoch 15/40, Loss: 1.7082,  Val Accuracy: 0.6915, AP: 0.0771, Precision: 0.6982, Recall: 0.6894\n",
      "当前最好的模型： acc : 0.69152 ,loss : 1.7081972662716696 ,precision : 0.6982428510665276 ,recall : 0.6893679133206791 ,ap : 0.07714692555264921 ,epoch : 14 \n"
     ]
    },
    {
     "name": "stderr",
     "output_type": "stream",
     "text": [
      "Training Epochs:  40%|████      | 16/40 [10:30<15:33, 38.91s/it]"
     ]
    },
    {
     "name": "stdout",
     "output_type": "stream",
     "text": [
      "Epoch 16/40, Loss: 1.7091,  Val Accuracy: 0.6870, AP: 0.0826, Precision: 0.7121, Recall: 0.6831\n",
      "当前最好的模型： acc : 0.69152 ,loss : 1.7081972662716696 ,precision : 0.6982428510665276 ,recall : 0.6893679133206791 ,ap : 0.07714692555264921 ,epoch : 14 \n"
     ]
    },
    {
     "name": "stderr",
     "output_type": "stream",
     "text": [
      "Training Epochs:  42%|████▎     | 17/40 [11:08<14:51, 38.75s/it]"
     ]
    },
    {
     "name": "stdout",
     "output_type": "stream",
     "text": [
      "Epoch 17/40, Loss: 1.6997,  Val Accuracy: 0.6810, AP: 0.0684, Precision: 0.7065, Recall: 0.6803\n",
      "当前最好的模型： acc : 0.69152 ,loss : 1.7081972662716696 ,precision : 0.6982428510665276 ,recall : 0.6893679133206791 ,ap : 0.07714692555264921 ,epoch : 14 \n"
     ]
    },
    {
     "name": "stderr",
     "output_type": "stream",
     "text": [
      "Training Epochs:  45%|████▌     | 18/40 [11:47<14:10, 38.67s/it]"
     ]
    },
    {
     "name": "stdout",
     "output_type": "stream",
     "text": [
      "Epoch 18/40, Loss: 1.6978,  Val Accuracy: 0.7024, AP: 0.0859, Precision: 0.7280, Recall: 0.7013\n",
      "当前最好的模型： acc : 0.7024 ,loss : 1.6977569452703816 ,precision : 0.7280076768139376 ,recall : 0.7012981159965477 ,ap : 0.08585835674753203 ,epoch : 17 \n"
     ]
    },
    {
     "name": "stderr",
     "output_type": "stream",
     "text": [
      "Training Epochs:  48%|████▊     | 19/40 [12:25<13:31, 38.62s/it]"
     ]
    },
    {
     "name": "stdout",
     "output_type": "stream",
     "text": [
      "Epoch 19/40, Loss: 1.6978,  Val Accuracy: 0.7027, AP: 0.0829, Precision: 0.7136, Recall: 0.7016\n",
      "当前最好的模型： acc : 0.70272 ,loss : 1.697807292415671 ,precision : 0.7136179019083936 ,recall : 0.7016072790491006 ,ap : 0.08289299238603046 ,epoch : 18 \n"
     ]
    },
    {
     "name": "stderr",
     "output_type": "stream",
     "text": [
      "Training Epochs:  50%|█████     | 20/40 [13:04<12:53, 38.65s/it]"
     ]
    },
    {
     "name": "stdout",
     "output_type": "stream",
     "text": [
      "Epoch 20/40, Loss: 1.6919,  Val Accuracy: 0.7040, AP: 0.0917, Precision: 0.7313, Recall: 0.7025\n",
      "当前最好的模型： acc : 0.704 ,loss : 1.691947532843237 ,precision : 0.731279576627127 ,recall : 0.7025025872689594 ,ap : 0.09167422323055084 ,epoch : 19 \n"
     ]
    },
    {
     "name": "stderr",
     "output_type": "stream",
     "text": [
      "Training Epochs:  52%|█████▎    | 21/40 [13:43<12:14, 38.63s/it]"
     ]
    },
    {
     "name": "stdout",
     "output_type": "stream",
     "text": [
      "Epoch 21/40, Loss: 1.6888,  Val Accuracy: 0.6950, AP: 0.0909, Precision: 0.7112, Recall: 0.6936\n",
      "当前最好的模型： acc : 0.704 ,loss : 1.691947532843237 ,precision : 0.731279576627127 ,recall : 0.7025025872689594 ,ap : 0.09167422323055084 ,epoch : 19 \n"
     ]
    },
    {
     "name": "stderr",
     "output_type": "stream",
     "text": [
      "Training Epochs:  55%|█████▌    | 22/40 [14:21<11:34, 38.58s/it]"
     ]
    },
    {
     "name": "stdout",
     "output_type": "stream",
     "text": [
      "Epoch 22/40, Loss: 1.6880,  Val Accuracy: 0.7152, AP: 0.0632, Precision: 0.7211, Recall: 0.7132\n",
      "当前最好的模型： acc : 0.7152 ,loss : 1.6879901110309443 ,precision : 0.7211072897435524 ,recall : 0.7131890889759774 ,ap : 0.06316173601528233 ,epoch : 21 \n"
     ]
    },
    {
     "name": "stderr",
     "output_type": "stream",
     "text": [
      "Training Epochs:  57%|█████▊    | 23/40 [15:00<10:54, 38.51s/it]"
     ]
    },
    {
     "name": "stdout",
     "output_type": "stream",
     "text": [
      "Epoch 23/40, Loss: 1.6738,  Val Accuracy: 0.6938, AP: 0.0932, Precision: 0.7074, Recall: 0.6915\n",
      "当前最好的模型： acc : 0.7152 ,loss : 1.6879901110309443 ,precision : 0.7211072897435524 ,recall : 0.7131890889759774 ,ap : 0.06316173601528233 ,epoch : 21 \n"
     ]
    },
    {
     "name": "stderr",
     "output_type": "stream",
     "text": [
      "Training Epochs:  60%|██████    | 24/40 [15:38<10:16, 38.53s/it]"
     ]
    },
    {
     "name": "stdout",
     "output_type": "stream",
     "text": [
      "Epoch 24/40, Loss: 1.6877,  Val Accuracy: 0.6982, AP: 0.0645, Precision: 0.7113, Recall: 0.6957\n",
      "当前最好的模型： acc : 0.7152 ,loss : 1.6879901110309443 ,precision : 0.7211072897435524 ,recall : 0.7131890889759774 ,ap : 0.06316173601528233 ,epoch : 21 \n"
     ]
    },
    {
     "name": "stderr",
     "output_type": "stream",
     "text": [
      "Training Epochs:  62%|██████▎   | 25/40 [16:17<09:38, 38.53s/it]"
     ]
    },
    {
     "name": "stdout",
     "output_type": "stream",
     "text": [
      "Epoch 25/40, Loss: 1.6919,  Val Accuracy: 0.7053, AP: 0.0805, Precision: 0.7157, Recall: 0.7051\n",
      "当前最好的模型： acc : 0.7152 ,loss : 1.6879901110309443 ,precision : 0.7211072897435524 ,recall : 0.7131890889759774 ,ap : 0.06316173601528233 ,epoch : 21 \n"
     ]
    },
    {
     "name": "stderr",
     "output_type": "stream",
     "text": [
      "Training Epochs:  65%|██████▌   | 26/40 [16:55<08:59, 38.52s/it]"
     ]
    },
    {
     "name": "stdout",
     "output_type": "stream",
     "text": [
      "Epoch 26/40, Loss: 1.6814,  Val Accuracy: 0.7021, AP: 0.0921, Precision: 0.7147, Recall: 0.7005\n",
      "当前最好的模型： acc : 0.7152 ,loss : 1.6879901110309443 ,precision : 0.7211072897435524 ,recall : 0.7131890889759774 ,ap : 0.06316173601528233 ,epoch : 21 \n"
     ]
    },
    {
     "name": "stderr",
     "output_type": "stream",
     "text": [
      "Training Epochs:  68%|██████▊   | 27/40 [17:34<08:20, 38.53s/it]"
     ]
    },
    {
     "name": "stdout",
     "output_type": "stream",
     "text": [
      "Epoch 27/40, Loss: 1.6807,  Val Accuracy: 0.6848, AP: 0.0862, Precision: 0.7217, Recall: 0.6844\n",
      "当前最好的模型： acc : 0.7152 ,loss : 1.6879901110309443 ,precision : 0.7211072897435524 ,recall : 0.7131890889759774 ,ap : 0.06316173601528233 ,epoch : 21 \n"
     ]
    },
    {
     "name": "stderr",
     "output_type": "stream",
     "text": [
      "Training Epochs:  70%|███████   | 28/40 [18:12<07:41, 38.44s/it]"
     ]
    },
    {
     "name": "stdout",
     "output_type": "stream",
     "text": [
      "Epoch 28/40, Loss: 1.6850,  Val Accuracy: 0.6906, AP: 0.0734, Precision: 0.7110, Recall: 0.6905\n",
      "当前最好的模型： acc : 0.7152 ,loss : 1.6879901110309443 ,precision : 0.7211072897435524 ,recall : 0.7131890889759774 ,ap : 0.06316173601528233 ,epoch : 21 \n"
     ]
    },
    {
     "name": "stderr",
     "output_type": "stream",
     "text": [
      "Training Epochs:  72%|███████▎  | 29/40 [18:50<07:02, 38.42s/it]"
     ]
    },
    {
     "name": "stdout",
     "output_type": "stream",
     "text": [
      "Epoch 29/40, Loss: 1.6695,  Val Accuracy: 0.6771, AP: 0.0717, Precision: 0.7107, Recall: 0.6746\n",
      "当前最好的模型： acc : 0.7152 ,loss : 1.6879901110309443 ,precision : 0.7211072897435524 ,recall : 0.7131890889759774 ,ap : 0.06316173601528233 ,epoch : 21 \n"
     ]
    },
    {
     "name": "stderr",
     "output_type": "stream",
     "text": [
      "Training Epochs:  75%|███████▌  | 30/40 [19:29<06:23, 38.40s/it]"
     ]
    },
    {
     "name": "stdout",
     "output_type": "stream",
     "text": [
      "Epoch 30/40, Loss: 1.6748,  Val Accuracy: 0.6634, AP: 0.0913, Precision: 0.7021, Recall: 0.6637\n",
      "当前最好的模型： acc : 0.7152 ,loss : 1.6879901110309443 ,precision : 0.7211072897435524 ,recall : 0.7131890889759774 ,ap : 0.06316173601528233 ,epoch : 21 \n"
     ]
    },
    {
     "name": "stderr",
     "output_type": "stream",
     "text": [
      "Training Epochs:  78%|███████▊  | 31/40 [20:07<05:45, 38.39s/it]"
     ]
    },
    {
     "name": "stdout",
     "output_type": "stream",
     "text": [
      "Epoch 31/40, Loss: 1.6770,  Val Accuracy: 0.7120, AP: 0.0800, Precision: 0.7374, Recall: 0.7112\n",
      "当前最好的模型： acc : 0.7152 ,loss : 1.6879901110309443 ,precision : 0.7211072897435524 ,recall : 0.7131890889759774 ,ap : 0.06316173601528233 ,epoch : 21 \n"
     ]
    },
    {
     "name": "stderr",
     "output_type": "stream",
     "text": [
      "Training Epochs:  80%|████████  | 32/40 [20:46<05:07, 38.47s/it]"
     ]
    },
    {
     "name": "stdout",
     "output_type": "stream",
     "text": [
      "Epoch 32/40, Loss: 1.6770,  Val Accuracy: 0.7085, AP: 0.0838, Precision: 0.7227, Recall: 0.7088\n",
      "当前最好的模型： acc : 0.7152 ,loss : 1.6879901110309443 ,precision : 0.7211072897435524 ,recall : 0.7131890889759774 ,ap : 0.06316173601528233 ,epoch : 21 \n"
     ]
    },
    {
     "name": "stderr",
     "output_type": "stream",
     "text": [
      "Training Epochs:  82%|████████▎ | 33/40 [21:24<04:29, 38.46s/it]"
     ]
    },
    {
     "name": "stdout",
     "output_type": "stream",
     "text": [
      "Epoch 33/40, Loss: 1.6713,  Val Accuracy: 0.7434, AP: 0.0847, Precision: 0.7507, Recall: 0.7429\n",
      "当前最好的模型： acc : 0.74336 ,loss : 1.6713340192624968 ,precision : 0.7507277672405344 ,recall : 0.7429182764754364 ,ap : 0.08467647449494926 ,epoch : 32 \n"
     ]
    },
    {
     "name": "stderr",
     "output_type": "stream",
     "text": [
      "Training Epochs:  85%|████████▌ | 34/40 [22:03<03:51, 38.52s/it]"
     ]
    },
    {
     "name": "stdout",
     "output_type": "stream",
     "text": [
      "Epoch 34/40, Loss: 1.6633,  Val Accuracy: 0.7181, AP: 0.0687, Precision: 0.7282, Recall: 0.7175\n",
      "当前最好的模型： acc : 0.74336 ,loss : 1.6713340192624968 ,precision : 0.7507277672405344 ,recall : 0.7429182764754364 ,ap : 0.08467647449494926 ,epoch : 32 \n"
     ]
    },
    {
     "name": "stderr",
     "output_type": "stream",
     "text": [
      "Training Epochs:  88%|████████▊ | 35/40 [22:41<03:12, 38.50s/it]"
     ]
    },
    {
     "name": "stdout",
     "output_type": "stream",
     "text": [
      "Epoch 35/40, Loss: 1.6542,  Val Accuracy: 0.7386, AP: 0.0855, Precision: 0.7462, Recall: 0.7377\n",
      "当前最好的模型： acc : 0.74336 ,loss : 1.6713340192624968 ,precision : 0.7507277672405344 ,recall : 0.7429182764754364 ,ap : 0.08467647449494926 ,epoch : 32 \n"
     ]
    },
    {
     "name": "stderr",
     "output_type": "stream",
     "text": [
      "Training Epochs:  90%|█████████ | 36/40 [23:20<02:34, 38.53s/it]"
     ]
    },
    {
     "name": "stdout",
     "output_type": "stream",
     "text": [
      "Epoch 36/40, Loss: 1.6545,  Val Accuracy: 0.7082, AP: 0.0861, Precision: 0.7253, Recall: 0.7072\n",
      "当前最好的模型： acc : 0.74336 ,loss : 1.6713340192624968 ,precision : 0.7507277672405344 ,recall : 0.7429182764754364 ,ap : 0.08467647449494926 ,epoch : 32 \n"
     ]
    },
    {
     "name": "stderr",
     "output_type": "stream",
     "text": [
      "Training Epochs:  92%|█████████▎| 37/40 [23:58<01:55, 38.55s/it]"
     ]
    },
    {
     "name": "stdout",
     "output_type": "stream",
     "text": [
      "Epoch 37/40, Loss: 1.6512,  Val Accuracy: 0.7405, AP: 0.0820, Precision: 0.7371, Recall: 0.7378\n",
      "当前最好的模型： acc : 0.74336 ,loss : 1.6713340192624968 ,precision : 0.7507277672405344 ,recall : 0.7429182764754364 ,ap : 0.08467647449494926 ,epoch : 32 \n"
     ]
    },
    {
     "name": "stderr",
     "output_type": "stream",
     "text": [
      "Training Epochs:  95%|█████████▌| 38/40 [24:37<01:17, 38.52s/it]"
     ]
    },
    {
     "name": "stdout",
     "output_type": "stream",
     "text": [
      "Epoch 38/40, Loss: 1.6553,  Val Accuracy: 0.7043, AP: 0.0644, Precision: 0.7328, Recall: 0.7014\n",
      "当前最好的模型： acc : 0.74336 ,loss : 1.6713340192624968 ,precision : 0.7507277672405344 ,recall : 0.7429182764754364 ,ap : 0.08467647449494926 ,epoch : 32 \n"
     ]
    },
    {
     "name": "stderr",
     "output_type": "stream",
     "text": [
      "Training Epochs:  98%|█████████▊| 39/40 [25:15<00:38, 38.53s/it]"
     ]
    },
    {
     "name": "stdout",
     "output_type": "stream",
     "text": [
      "Epoch 39/40, Loss: 1.6491,  Val Accuracy: 0.7318, AP: 0.0851, Precision: 0.7479, Recall: 0.7307\n",
      "当前最好的模型： acc : 0.74336 ,loss : 1.6713340192624968 ,precision : 0.7507277672405344 ,recall : 0.7429182764754364 ,ap : 0.08467647449494926 ,epoch : 32 \n"
     ]
    },
    {
     "name": "stderr",
     "output_type": "stream",
     "text": [
      "Training Epochs: 100%|██████████| 40/40 [25:54<00:00, 38.86s/it]"
     ]
    },
    {
     "name": "stdout",
     "output_type": "stream",
     "text": [
      "Epoch 40/40, Loss: 1.6503,  Val Accuracy: 0.7053, AP: 0.0724, Precision: 0.7162, Recall: 0.7024\n",
      "当前最好的模型： acc : 0.74336 ,loss : 1.6713340192624968 ,precision : 0.7507277672405344 ,recall : 0.7429182764754364 ,ap : 0.08467647449494926 ,epoch : 32 \n"
     ]
    },
    {
     "name": "stderr",
     "output_type": "stream",
     "text": [
      "\n"
     ]
    }
   ],
   "source": [
    "\n",
    "bestMod=utils.BestSelector(acc=0)\n",
    "train_logs=utils.Logs()\n",
    "model=get_pretrained()\n",
    "# 定义损失函数和优化器\n",
    "criterion = nn.CrossEntropyLoss()\n",
    "# criterion = nn.BCELoss()\n",
    "if config.optim == \"Adam\":\n",
    "    optimizer = optim.Adam(model.parameters(), lr=config.lr)\n",
    "else:\n",
    "    optimizer = optim.SGD(model.parameters(), lr=config.lr, momentum=0.9, weight_decay=1e-4)\n",
    "    \n",
    "bestMod,train_logs=train_val.train_model(\n",
    "            model, \n",
    "            criterion,\n",
    "            optimizer, \n",
    "            train_loader,\n",
    "            val_loader,\n",
    "            bestMod=bestMod,\n",
    "            train_logs=train_logs,\n",
    "            config=config, \n",
    "            # num_epochs=config.epochs\n",
    "        )\n",
    "\n"
   ]
  },
  {
   "cell_type": "code",
   "execution_count": 11,
   "metadata": {},
   "outputs": [
    {
     "name": "stdout",
     "output_type": "stream",
     "text": [
      "40 epoch中 最好的模型\n",
      "acc : 0.74336 ,loss : 1.6713340192624968 ,precision : 0.7507277672405344 ,recall : 0.7429182764754364 ,ap : 0.08467647449494926 ,epoch : 32 \n"
     ]
    }
   ],
   "source": [
    "print(f\"{config.epochs} epoch中 最好的模型\")\n",
    "print(bestMod)"
   ]
  },
  {
   "cell_type": "markdown",
   "metadata": {},
   "source": [
    "#### 保存模型超参数和训练日志"
   ]
  },
  {
   "cell_type": "code",
   "execution_count": 4,
   "metadata": {},
   "outputs": [
    {
     "ename": "NameError",
     "evalue": "name 'bestMod' is not defined",
     "output_type": "error",
     "traceback": [
      "\u001b[1;31m---------------------------------------------------------------------------\u001b[0m",
      "\u001b[1;31mNameError\u001b[0m                                 Traceback (most recent call last)",
      "Cell \u001b[1;32mIn[4], line 2\u001b[0m\n\u001b[0;32m      1\u001b[0m saveDir\u001b[38;5;241m=\u001b[39m\u001b[38;5;124mr\u001b[39m\u001b[38;5;124m'\u001b[39m\u001b[38;5;124msave_weights\u001b[39m\u001b[38;5;124m'\u001b[39m\n\u001b[1;32m----> 2\u001b[0m saveDir\u001b[38;5;241m=\u001b[39mos\u001b[38;5;241m.\u001b[39mpath\u001b[38;5;241m.\u001b[39mjoin(saveDir,\u001b[38;5;124mf\u001b[39m\u001b[38;5;124m'\u001b[39m\u001b[38;5;132;01m{\u001b[39;00mbestMod\u001b[38;5;241m.\u001b[39mmodel\u001b[38;5;241m.\u001b[39m\u001b[38;5;18m__class__\u001b[39m\u001b[38;5;241m.\u001b[39m\u001b[38;5;18m__name__\u001b[39m\u001b[38;5;132;01m}\u001b[39;00m\u001b[38;5;124m-acc=\u001b[39m\u001b[38;5;132;01m{\u001b[39;00m\u001b[38;5;28mround\u001b[39m(bestMod\u001b[38;5;241m.\u001b[39macc,\u001b[38;5;241m5\u001b[39m)\u001b[38;5;132;01m}\u001b[39;00m\u001b[38;5;124m-loss=\u001b[39m\u001b[38;5;132;01m{\u001b[39;00m\u001b[38;5;28mround\u001b[39m(bestMod\u001b[38;5;241m.\u001b[39mloss,\u001b[38;5;241m6\u001b[39m)\u001b[38;5;132;01m}\u001b[39;00m\u001b[38;5;124m-max_epochs=\u001b[39m\u001b[38;5;132;01m{\u001b[39;00mconfig\u001b[38;5;241m.\u001b[39mepochs\u001b[38;5;132;01m}\u001b[39;00m\u001b[38;5;124m-1100\u001b[39m\u001b[38;5;124m'\u001b[39m),\n\u001b[0;32m      3\u001b[0m utils\u001b[38;5;241m.\u001b[39msaveProcess(\n\u001b[0;32m      4\u001b[0m     saveDir\u001b[38;5;241m=\u001b[39msaveDir,\n\u001b[0;32m      5\u001b[0m     bestMod\u001b[38;5;241m=\u001b[39mbestMod,\n\u001b[0;32m      6\u001b[0m     train_log\u001b[38;5;241m=\u001b[39mtrain_logs,\n\u001b[0;32m      7\u001b[0m     config\u001b[38;5;241m=\u001b[39mconfig\n\u001b[0;32m      8\u001b[0m )\n",
      "\u001b[1;31mNameError\u001b[0m: name 'bestMod' is not defined"
     ]
    }
   ],
   "source": [
    "saveDir=r'save_weights'\n",
    "saveDir=os.path.join(saveDir,f'{bestMod.model.__class__.__name__}-acc={round(bestMod.acc,5)}-loss={round(bestMod.loss,6)}-max_epochs={config.epochs}-1100'),\n",
    "utils.saveProcess(\n",
    "    saveDir=saveDir,\n",
    "    bestMod=bestMod,\n",
    "    train_log=train_logs,\n",
    "    config=config\n",
    ")"
   ]
  },
  {
   "cell_type": "markdown",
   "metadata": {},
   "source": [
    "#### 进行测试"
   ]
  },
  {
   "cell_type": "code",
   "execution_count": 10,
   "metadata": {},
   "outputs": [
    {
     "name": "stderr",
     "output_type": "stream",
     "text": [
      "模型测试中:: 100%|██████████| 40/40 [00:04<00:00,  9.13it/s]\n"
     ]
    },
    {
     "data": {
      "text/plain": [
       "{'accuracy': 0.7892,\n",
       " 'precision': 0.7911782819812854,\n",
       " 'recall': 0.7895432141222342,\n",
       " 'f1': 0.7868892957982461,\n",
       " 'ap': 0.0726235784868686}"
      ]
     },
     "execution_count": 10,
     "metadata": {},
     "output_type": "execute_result"
    }
   ],
   "source": [
    "import torch\n",
    "from utils import utils,train_val\n",
    "import os\n",
    "\n",
    "# config=Config(os.path.join(dir,'config.json'))\n",
    "# model=BestSelector(os.path.join(dir,'metrics.json'))\n",
    "saveDir=r'save_weights\\BinaryClassificationMobileNetV3Large-acc=0.74336-loss=1.671334-max_epochs=40-1100'\n",
    "\n",
    "Model,config,logs=utils.loadProcess(saveDir=saveDir)\n",
    "metrics=train_val.validate_model(\n",
    "    model=Model.model,\n",
    "    val_loader=test_loader,\n",
    "    device=config.device,\n",
    "    only_val=True\n",
    ")\n",
    "\n",
    "metrics"
   ]
  },
  {
   "cell_type": "markdown",
   "metadata": {},
   "source": [
    "#### 保存数据到tensorboard"
   ]
  },
  {
   "cell_type": "code",
   "execution_count": 1,
   "metadata": {},
   "outputs": [],
   "source": [
    "from utils import metrics,utils\n",
    "\n",
    "\n",
    "recoder=metrics.TensorboardRecorder(\n",
    "    log_dir=\"runs/\"\n",
    ")\n",
    "recoder.logs_scalars(\n",
    "    logs.logs,\n",
    "    prefix=\"train\"\n",
    ")"
   ]
  }
 ],
 "metadata": {
  "kernelspec": {
   "display_name": "sound",
   "language": "python",
   "name": "python3"
  },
  "language_info": {
   "codemirror_mode": {
    "name": "ipython",
    "version": 3
   },
   "file_extension": ".py",
   "mimetype": "text/x-python",
   "name": "python",
   "nbconvert_exporter": "python",
   "pygments_lexer": "ipython3",
   "version": "3.9.17"
  }
 },
 "nbformat": 4,
 "nbformat_minor": 2
}
